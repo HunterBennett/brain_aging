{
 "cells": [
  {
   "cell_type": "code",
   "execution_count": 1,
   "metadata": {},
   "outputs": [],
   "source": [
    "### header ###\n",
    "__author__ = \"Hunter Bennett\"\n",
    "__license__ = \"BSD\"\n",
    "__email__ = \"hunter.r.bennett@gmail.com\"\n",
    "%load_ext autoreload\n",
    "%autoreload 2\n",
    "### imports ###\n",
    "import sys\n",
    "%matplotlib inline\n",
    "import os\n",
    "import re\n",
    "import glob\n",
    "import pandas as pd\n",
    "import numpy as np\n",
    "import matplotlib\n",
    "import matplotlib.pyplot as plt \n",
    "import seaborn as sns\n",
    "matplotlib.rcParams['savefig.dpi'] = 200\n",
    "sns.set(font_scale=1)\n",
    "sns.set_context('talk')\n",
    "sns.set_style('white')\n",
    "\n",
    "# import custom functions\n",
    "import sys\n",
    "sys.path.insert(0, '/home/h1bennet/code/')\n",
    "from hbUtils import ngs_qc, quantile_normalize_df\n",
    "from plotting_scripts import label_point, pca_rpkm_mat\n",
    "from homer_preprocessing import read_annotated_peaks"
   ]
  },
  {
   "cell_type": "markdown",
   "metadata": {},
   "source": [
    "Inge's annotate peak files located:\n",
    "\n",
    "    /home/iholtman/nuclei_project/annotation_files/annotation_18_7_2019\n",
    "\n",
    "The file that might work:\n",
    "\n",
    "    annotated_peaks_tss_with_pooled_tagdirs_H3K27ac_norm.txt"
   ]
  },
  {
   "cell_type": "markdown",
   "metadata": {},
   "source": [
    "Set working directory"
   ]
  },
  {
   "cell_type": "code",
   "execution_count": 2,
   "metadata": {},
   "outputs": [],
   "source": [
    "dataDirectory = '/data/mm10/Brain_MPSIIIA/ChIP/H3K27AC/'\n",
    "inputDirectory = '/data/mm10/Brain_MPSIIIA/ChIP/input/'\n",
    "workingDirectory = '/home/h1bennet/brain_aging/results/04_Young_Cell_H3K27Ac/'\n",
    "if not os.path.isdir(workingDirectory):\n",
    "    os.mkdir(workingDirectory)\n",
    "os.chdir(workingDirectory)"
   ]
  },
  {
   "cell_type": "markdown",
   "metadata": {},
   "source": [
    "read in color scheme dictionary"
   ]
  },
  {
   "cell_type": "code",
   "execution_count": 32,
   "metadata": {},
   "outputs": [],
   "source": [
    "hex_dict={}\n",
    "rgb_dict={}\n",
    "for line in open('/gpfs/data01/glasslab/home/h1bennet/brain_aging/data/brain_aging_color_table.txt','r'):\n",
    "    split = line.strip().replace('\\ufeff','').split('\\t')\n",
    "    # split2 = split[1]\n",
    "    hex_dict[split[0]] = split[1]\n",
    "    rgb_dict[split[0]] = split[2]    "
   ]
  },
  {
   "cell_type": "code",
   "execution_count": 33,
   "metadata": {},
   "outputs": [
    {
     "name": "stdout",
     "output_type": "stream",
     "text": [
      "{'olig2_young': '158,202,225', 'olig2_4month': '49,130,189', 'olig2_25month': '8,81,156', 'pu1_young': '252,146,114', 'pu1_4month': '222,45,38', 'pu1_25month': '165,15,21', 'neun_young': '161,217,155', 'neun_4month': '49,163,84', 'neun_25month': '0,109,44', 'sox9_young': '253,174,107', 'sox9_4month': '230,85,13', 'sox9_25month': '166,54,3'}\n"
     ]
    }
   ],
   "source": [
    "print(rgb_dict)"
   ]
  },
  {
   "cell_type": "code",
   "execution_count": 7,
   "metadata": {},
   "outputs": [],
   "source": [
    "tagdirs = [\n",
    "           # olig2 nuclei\n",
    "           'Olig2/WT/03_mouse_MPSIIIAhet_M_4mongh_Olig2_ChIP_H3K27ac_1_AL_l20200925_CTCACCAA_CTAGGCAA',\n",
    "           'Olig2/WT/03_mouse_MPSIIIAhet_M_4month_Olig2_ChIP_H3K27ac_2_AL_l20200925_GTGAATAT_TCTCATTC',\n",
    "           'Olig2/WT/03_mouse_MPSIIIAhet_M_4month_Olig2_ChIP_H3K27ac_3_AL_20201111_GGTCACGA_GTATTATG',\n",
    "           # neun nuclei\n",
    "           'NeuN/WT/04_mouse_MPSIIIAhet_M_4month_NeuN_ChIP_H3K27ac_1_AL_l20200925_ACAGGCGC_CTCTGCCT',\n",
    "           'NeuN/WT/04_mouse_MPSIIIAhet_M_4month_NeuN_ChIP_H3K27ac_2_AL_l20200925_GAACCGCG_TGACCTTA',\n",
    "           'NeuN/WT/04_mouse_MPSIIIAhet_M_4month_NeuN_ChIP_H3K27ac_3_AL_l20200925_TGCGAGAC_CATTGTTG',\n",
    "           'NeuN/WT/04_mouse_MPSIIIAhet_M_4month_NeuN_ChIP_H3K27ac_4_AL_20201111_AACTGTAG_ACGCCGCA',\n",
    "           'NeuN/WT/04_mouse_MPSIIIAhet_M_4month_NeuN_ChIP_H3K27ac_5_AL_20201121_TACCGAGG_CCTGAACT',\n",
    "           # pu1 nuclei\n",
    "           'PU_1/WT/05_mouse_MPSIIIAhet_M_4month_PU1_ChIP_H3K27ac_1_AL_20200925_AGGTTATA_CAGTTCCG',\n",
    "           'PU_1/WT/05_mouse_MPSIIIAhet_M_4month_PU1_ChIP_H3K27ac_2_AL_20200925_TCTGTTGG_TCGAATGG',\n",
    "           'PU_1/WT/05_mouse_MPSIIIAhet_M_4month_PU1_ChIP_H3K27ac_3_AL_20201111_CTGCTTCC_GATAGATC',\n",
    "           # sox9 nuclei\n",
    "           'Sox9/WT/03_mouse_MPSIIIAhet_M_4month_SOX9_ChIP_H3K27ac_1_AL_20200925_CATAGAGT_TGCCACCA',\n",
    "           'Sox9/WT/03_mouse_MPSIIIAhet_M_4month_SOX9_ChIP_H3K27ac_2_AL_20201121_AATGCCTC_TCGATCCA']"
   ]
  },
  {
   "cell_type": "code",
   "execution_count": 8,
   "metadata": {},
   "outputs": [],
   "source": [
    "inputdirs = [\n",
    "             # olig2 nuclei\n",
    "             'Olig2/WT/03_mouse_MPSIIIAhet_Olig2_ChIP_input_4_month_AL_l20200925_AAGTCCAA_TATGAGTA',\n",
    "             'Olig2/WT/03_mouse_MPSIIIAhet_Olig2_ChIP_input_4_month_AL_l20200925_AAGTCCAA_TATGAGTA',\n",
    "             'Olig2/WT/03_mouse_MPSIIIAhet_Olig2_ChIP_input_4_month_AL_l20200925_AAGTCCAA_TATGAGTA',\n",
    "              # neun nuclei\n",
    "             'NeuN/03_mouse_MPSIIIAhet_NeuN_ChIP_input_4_month_AL_l20200925_TACTCATA_CCTGTGGC',\n",
    "             'NeuN/03_mouse_MPSIIIAhet_NeuN_ChIP_input_4_month_AL_l20200925_TACTCATA_CCTGTGGC',\n",
    "             'NeuN/03_mouse_MPSIIIAhet_NeuN_ChIP_input_4_month_AL_l20200925_TACTCATA_CCTGTGGC',\n",
    "             'NeuN/03_mouse_MPSIIIAhet_NeuN_ChIP_input_4_month_AL_l20200925_TACTCATA_CCTGTGGC',\n",
    "             'NeuN/03_mouse_MPSIIIAhet_NeuN_ChIP_input_4_month_AL_l20200925_TACTCATA_CCTGTGGC',\n",
    "              # pu1 nuclei\n",
    "             'PU1/02_mouse_MPSIIIAhet_M_4month_PU1_ChIP_input_AL_l20200925_ATCCACTG_AGGTGCGT',\n",
    "             'PU1/02_mouse_MPSIIIAhet_M_4month_PU1_ChIP_input_AL_l20200925_ATCCACTG_AGGTGCGT',\n",
    "             'PU1/02_mouse_MPSIIIAhet_M_4month_PU1_ChIP_input_AL_l20200925_ATCCACTG_AGGTGCGT',\n",
    "             # sox9 nuclei\n",
    "             'SOX9/01_mouse_BL6_M_3month_SOX9_input_1_AL_20200205_ATGTCA',\n",
    "             'SOX9/01_mouse_BL6_M_3month_SOX9_input_1_AL_20200205_ATGTCA']"
   ]
  },
  {
   "cell_type": "code",
   "execution_count": null,
   "metadata": {},
   "outputs": [],
   "source": [
    "makeMultiWigHub.pl mpsiiia_vis_combined_wt_h3K27ac mm10 \\\n",
    "-colors \\\n",
    "116,196,118 49,163,84 0,109,44 \\\n",
    "197,27,138 122,1,119 \\\n",
    "8,81,156 166,54,3 \\\n",
    "-force -d ./merged_tagdirs/*"
   ]
  },
  {
   "cell_type": "markdown",
   "metadata": {},
   "source": [
    "### Call Fixed and Variable Peaks Once Again"
   ]
  },
  {
   "cell_type": "code",
   "execution_count": 9,
   "metadata": {},
   "outputs": [
    {
     "name": "stderr",
     "output_type": "stream",
     "text": [
      "rm: cannot remove ‘./peakCalling_homer.sh’: No such file or directory\n"
     ]
    }
   ],
   "source": [
    "%%bash\n",
    "# delete the existing script file\n",
    "rm ./peakCalling_homer.sh\n",
    "# create a script file\n",
    "touch ./peakCalling_homer.sh\n",
    "\n",
    "# if directories don't exist, create them\n",
    "if [ ! -d ./peak_files/ ]; then mkdir ./peak_files; fi"
   ]
  },
  {
   "cell_type": "code",
   "execution_count": 11,
   "metadata": {},
   "outputs": [
    {
     "name": "stdout",
     "output_type": "stream",
     "text": [
      "analyzing: Olig2/WT/03_mouse_MPSIIIAhet_M_4mongh_Olig2_ChIP_H3K27ac_1_AL_l20200925_CTCACCAA_CTAGGCAA\n",
      "input: Olig2/WT/03_mouse_MPSIIIAhet_Olig2_ChIP_input_4_month_AL_l20200925_AAGTCCAA_TATGAGTA\n",
      "\n",
      "analyzing: Olig2/WT/03_mouse_MPSIIIAhet_M_4month_Olig2_ChIP_H3K27ac_2_AL_l20200925_GTGAATAT_TCTCATTC\n",
      "input: Olig2/WT/03_mouse_MPSIIIAhet_Olig2_ChIP_input_4_month_AL_l20200925_AAGTCCAA_TATGAGTA\n",
      "\n",
      "analyzing: Olig2/WT/03_mouse_MPSIIIAhet_M_4month_Olig2_ChIP_H3K27ac_3_AL_20201111_GGTCACGA_GTATTATG\n",
      "input: Olig2/WT/03_mouse_MPSIIIAhet_Olig2_ChIP_input_4_month_AL_l20200925_AAGTCCAA_TATGAGTA\n",
      "\n",
      "analyzing: NeuN/WT/04_mouse_MPSIIIAhet_M_4month_NeuN_ChIP_H3K27ac_1_AL_l20200925_ACAGGCGC_CTCTGCCT\n",
      "input: NeuN/03_mouse_MPSIIIAhet_NeuN_ChIP_input_4_month_AL_l20200925_TACTCATA_CCTGTGGC\n",
      "\n",
      "analyzing: NeuN/WT/04_mouse_MPSIIIAhet_M_4month_NeuN_ChIP_H3K27ac_2_AL_l20200925_GAACCGCG_TGACCTTA\n",
      "input: NeuN/03_mouse_MPSIIIAhet_NeuN_ChIP_input_4_month_AL_l20200925_TACTCATA_CCTGTGGC\n",
      "\n",
      "analyzing: NeuN/WT/04_mouse_MPSIIIAhet_M_4month_NeuN_ChIP_H3K27ac_3_AL_l20200925_TGCGAGAC_CATTGTTG\n",
      "input: NeuN/03_mouse_MPSIIIAhet_NeuN_ChIP_input_4_month_AL_l20200925_TACTCATA_CCTGTGGC\n",
      "\n",
      "analyzing: NeuN/WT/04_mouse_MPSIIIAhet_M_4month_NeuN_ChIP_H3K27ac_4_AL_20201111_AACTGTAG_ACGCCGCA\n",
      "input: NeuN/03_mouse_MPSIIIAhet_NeuN_ChIP_input_4_month_AL_l20200925_TACTCATA_CCTGTGGC\n",
      "\n",
      "analyzing: NeuN/WT/04_mouse_MPSIIIAhet_M_4month_NeuN_ChIP_H3K27ac_5_AL_20201121_TACCGAGG_CCTGAACT\n",
      "input: NeuN/03_mouse_MPSIIIAhet_NeuN_ChIP_input_4_month_AL_l20200925_TACTCATA_CCTGTGGC\n",
      "\n",
      "analyzing: PU_1/WT/05_mouse_MPSIIIAhet_M_4month_PU1_ChIP_H3K27ac_1_AL_20200925_AGGTTATA_CAGTTCCG\n",
      "input: PU1/02_mouse_MPSIIIAhet_M_4month_PU1_ChIP_input_AL_l20200925_ATCCACTG_AGGTGCGT\n",
      "\n",
      "analyzing: PU_1/WT/05_mouse_MPSIIIAhet_M_4month_PU1_ChIP_H3K27ac_2_AL_20200925_TCTGTTGG_TCGAATGG\n",
      "input: PU1/02_mouse_MPSIIIAhet_M_4month_PU1_ChIP_input_AL_l20200925_ATCCACTG_AGGTGCGT\n",
      "\n",
      "analyzing: PU_1/WT/05_mouse_MPSIIIAhet_M_4month_PU1_ChIP_H3K27ac_3_AL_20201111_CTGCTTCC_GATAGATC\n",
      "input: PU1/02_mouse_MPSIIIAhet_M_4month_PU1_ChIP_input_AL_l20200925_ATCCACTG_AGGTGCGT\n",
      "\n",
      "analyzing: Sox9/WT/03_mouse_MPSIIIAhet_M_4month_SOX9_ChIP_H3K27ac_1_AL_20200925_CATAGAGT_TGCCACCA\n",
      "input: SOX9/01_mouse_BL6_M_3month_SOX9_input_1_AL_20200205_ATGTCA\n",
      "\n",
      "analyzing: Sox9/WT/03_mouse_MPSIIIAhet_M_4month_SOX9_ChIP_H3K27ac_2_AL_20201121_AATGCCTC_TCGATCCA\n",
      "input: SOX9/01_mouse_BL6_M_3month_SOX9_input_1_AL_20200205_ATGTCA\n",
      "\n"
     ]
    }
   ],
   "source": [
    "with open('./peakCalling_homer.sh', 'w') as f:\n",
    "    for tagdir, inputdir in zip(tagdirs, inputdirs):\n",
    "        peakname = tagdir.split('/')[-1]\n",
    "        print('analyzing:', tagdir)\n",
    "        print('input:', inputdir)\n",
    "        print()\n",
    "\n",
    "        find_peaks_vw = ['findPeaks', dataDirectory + '/' + tagdir,\n",
    "                          '-i', inputDirectory + '/' + inputdir,\n",
    "                          '-region',\n",
    "                          '-size 1000 -minDist 2500',\n",
    "                          '-o',\n",
    "                          workingDirectory + '/peak_files/' + peakname + '_variablewidth_peaks.tsv',\n",
    "                          '\\n\\n']\n",
    "        \n",
    "        \n",
    "        # write commands to file\n",
    "        f.write(' '.join(find_peaks_vw))\n",
    "\n",
    "    f.close()"
   ]
  },
  {
   "cell_type": "markdown",
   "metadata": {},
   "source": [
    "## Merge peaks"
   ]
  },
  {
   "cell_type": "markdown",
   "metadata": {},
   "source": [
    "### Make subgroup specific merged peaks - these will be used later"
   ]
  },
  {
   "cell_type": "code",
   "execution_count": 36,
   "metadata": {},
   "outputs": [],
   "source": [
    "if not os.path.isdir('./merged_peaks/'):\n",
    "    os.mkdir('././merged_peaks/')"
   ]
  },
  {
   "cell_type": "markdown",
   "metadata": {},
   "source": [
    "    mergePeaks ./peak_files/*Olig2*variablewidth* > merged_peaks/Olig2_4month_vw_peaks_merged.txt\n",
    "    mergePeaks ./peak_files/*NeuN*variablewidth* > merged_peaks/NeuN_4month_vw_peaks_merged.txt\n",
    "    mergePeaks ./peak_files/*PU1*variablewidth* > merged_peaks/PU1_4month_vw_peaks_merged.txt\n",
    "    mergePeaks ./peak_files/*SOX9*variablewidth* > merged_peaks/SOX9_4month_vw_peaks_merged.txt\n",
    "    mergePeaks ./peak_files/*variablewidth* > merged_peaks/vw_peaks_merged.txt\n",
    "    "
   ]
  },
  {
   "cell_type": "markdown",
   "metadata": {},
   "source": [
    "### Next: Annotate peaks"
   ]
  },
  {
   "cell_type": "code",
   "execution_count": 37,
   "metadata": {
    "scrolled": true
   },
   "outputs": [
    {
     "name": "stderr",
     "output_type": "stream",
     "text": [
      "rm: cannot remove ‘./annotatePeaks_homer.sh’: No such file or directory\n"
     ]
    }
   ],
   "source": [
    "%%bash\n",
    "# delete the existing script file\n",
    "rm ./annotatePeaks_homer.sh\n",
    "# create a script file\n",
    "touch ./annotatePeaks_homer.sh"
   ]
  },
  {
   "cell_type": "code",
   "execution_count": 38,
   "metadata": {},
   "outputs": [],
   "source": [
    "tagdirs_full = [dataDirectory+i for i in tagdirs]"
   ]
  },
  {
   "cell_type": "code",
   "execution_count": 40,
   "metadata": {},
   "outputs": [],
   "source": [
    "with open('./annotatePeaks_homer.sh', 'w') as f:\n",
    "    annotate_vw_raw = ['annotatePeaks.pl', './merged_peaks/vw_peaks_merged.txt',\n",
    "                   'mm10', '-size given', '-raw', '-d \\\\\\n',\n",
    "                   ' \\\\\\n'.join(tagdirs_full), '>',\n",
    "                   './merged_peaks/ann_raw_idr_vw_peaks_merged.txt &\\n\\n']\n",
    "\n",
    "    annotate_vw_norm = ['annotatePeaks.pl', './merged_peaks/vw_peaks_merged.txt',\n",
    "                       'mm10', '-size given', '-norm 1e7', '-d \\\\\\n',\n",
    "                       '  \\\\\\n'.join(tagdirs_full), '>',\n",
    "                       './merged_peaks/ann_norm_idr_vw_peaks_merged.txt &\\n\\n']\n",
    "    \n",
    "    annotate_prom_raw = ['annotatePeaks.pl', 'tss',\n",
    "                         'mm10', '-size given', '-norm 1e7', '-d \\\\\\n',\n",
    "                         ' \\\\\\n'.join(tagdirs_full), '>',\n",
    "                         './merged_peaks/ann_norm_promoters.txt &\\n\\n']\n",
    "    \n",
    "    annotate_prom_norm = ['annotatePeaks.pl', 'tss',\n",
    "                         'mm10', '-size given', '-raw', '-d \\\\\\n',\n",
    "                         ' \\\\\\n'.join(tagdirs_full), '>',\n",
    "                         './merged_peaks/ann_raw_promoters.txt &\\n\\n']\n",
    "    \n",
    "    f.write(' '.join(annotate_vw_raw))    \n",
    "    f.write(' '.join(annotate_vw_norm))\n",
    "    f.write(' '.join(annotate_prom_raw))    \n",
    "    f.write(' '.join(annotate_prom_norm))\n",
    "    \n",
    "    f.close()"
   ]
  },
  {
   "cell_type": "markdown",
   "metadata": {},
   "source": [
    "## Convert merged peaks to bed files for upload to UCSC"
   ]
  },
  {
   "cell_type": "code",
   "execution_count": 4,
   "metadata": {},
   "outputs": [],
   "source": [
    "%%bash\n",
    "if [ ! -d ./bed_files/ ]; then mkdir ./bed_files; fi\n",
    "\n",
    "# delete the existing script file\n",
    "rm ./make_bed.sh\n",
    "# create a script file\n",
    "touch ./make_bed.sh\n",
    "\n",
    "for peakfile in ./merged_peaks/*4month*vw_peaks_merged*;\n",
    "do bedfile=${peakfile/merged_peaks/bed_files};\n",
    "bedfile=${bedfile/.txt/.bed}\n",
    "echo \"pos2bed.pl $peakfile > $bedfile\" >> make_bed.sh\n",
    "done"
   ]
  },
  {
   "cell_type": "code",
   "execution_count": 6,
   "metadata": {},
   "outputs": [],
   "source": [
    "%%bash\n",
    "\n",
    "echo 'track name=\"NeuN_H3K27Ac_regions\" description=\"NeuN Nuclei H3K27Ac regions\"' \\\n",
    "| cat - ./bed_files/NeuN_4month_vw_peaks_merged.bed \\\n",
    "> temp && mv temp ./bed_files/NeuN_4month_vw_peaks_merged.bed\n",
    "\n",
    "echo 'track name=\"Olig2_H3K27Ac_peaks\" description=\"Olig2 Nuclei H3K27Ac regions\"' \\\n",
    "| cat - ./bed_files/Olig2_4month_vw_peaks_merged.bed \\\n",
    "> temp && mv temp ./bed_files/Olig2_4month_vw_peaks_merged.bed\n",
    "\n",
    "echo 'track name=\"PU1_H3K27Ac_peaks\" description=\"PU1 Nuclei H3K27Ac regions\"' \\\n",
    "| cat - ./bed_files/PU1_4month_vw_peaks_merged.bed \\\n",
    "> temp && mv temp ./bed_files/PU1_4month_vw_peaks_merged.bed\n",
    "\n",
    "echo 'track name=\"Sox9_H3K27Ac_peaks\" description=\"Sox9 Nuclei H3K27Ac regions\"' \\\n",
    "| cat - ./bed_files/SOX9_4month_vw_peaks_merged.bed \\\n",
    "> temp && mv temp ./bed_files/SOX9_4month_vw_peaks_merged.bed\n"
   ]
  },
  {
   "cell_type": "code",
   "execution_count": null,
   "metadata": {},
   "outputs": [],
   "source": []
  }
 ],
 "metadata": {
  "kernelspec": {
   "display_name": "dataviz",
   "language": "python",
   "name": "dataviz"
  },
  "language_info": {
   "codemirror_mode": {
    "name": "ipython",
    "version": 3
   },
   "file_extension": ".py",
   "mimetype": "text/x-python",
   "name": "python",
   "nbconvert_exporter": "python",
   "pygments_lexer": "ipython3",
   "version": "3.7.5"
  }
 },
 "nbformat": 4,
 "nbformat_minor": 2
}
