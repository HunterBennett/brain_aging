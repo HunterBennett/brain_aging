{
 "cells": [
  {
   "cell_type": "markdown",
   "metadata": {},
   "source": [
    "Hunter Bennett | Glass Lab | Brain Aging Project | 27 Feb 2021"
   ]
  },
  {
   "cell_type": "markdown",
   "metadata": {},
   "source": [
    "Goal of this analysis is to compare promoter acetylation in 4 month microglia to gene expression in 4 month microglia as a way of justifying the use of promoter acetylation as a proxy for gene expression."
   ]
  },
  {
   "cell_type": "code",
   "execution_count": 2,
   "metadata": {},
   "outputs": [],
   "source": [
    "### header ###\n",
    "__author__ = \"Hunter Bennett\"\n",
    "__license__ = \"BSD\"\n",
    "__email__ = \"hunter.r.bennett@gmail.com\"\n",
    "%load_ext autoreload\n",
    "%autoreload 2\n",
    "### imports ###\n",
    "import sys\n",
    "%matplotlib inline\n",
    "import os\n",
    "import re\n",
    "import glob\n",
    "import pandas as pd\n",
    "import numpy as np\n",
    "import matplotlib\n",
    "import matplotlib.pyplot as plt \n",
    "import seaborn as sns\n",
    "import itertools\n",
    "matplotlib.rcParams['savefig.dpi'] = 200\n",
    "sns.set(font_scale=1)\n",
    "sns.set_context('talk')\n",
    "sns.set_style('white')\n",
    "\n",
    "# import custom functions\n",
    "import sys\n",
    "sys.path.insert(0, '/home/h1bennet/code/')\n",
    "from hbUtils import ngs_qc, quantile_normalize_df\n",
    "from plotting_scripts import label_point, pca_rpkm_mat\n",
    "from homer_preprocessing import read_annotated_peaks"
   ]
  },
  {
   "cell_type": "markdown",
   "metadata": {},
   "source": [
    "### Set working paths"
   ]
  },
  {
   "cell_type": "code",
   "execution_count": 3,
   "metadata": {},
   "outputs": [],
   "source": [
    "dataDirectory = '/data/mm10/Brain_MPSIIIA/ChIP/H3K27AC/'\n",
    "inputDirectory = '/data/mm10/Brain_MPSIIIA/ChIP/input/'\n",
    "workingDirectory = '/home/h1bennet/brain_aging/results/04_Young_Cell_H3K27Ac/'\n",
    "if not os.path.isdir(workingDirectory):\n",
    "    os.mkdir(workingDirectory)\n",
    "os.chdir(workingDirectory)"
   ]
  },
  {
   "cell_type": "markdown",
   "metadata": {},
   "source": [
    "Read in color scheme dictionary"
   ]
  },
  {
   "cell_type": "code",
   "execution_count": 4,
   "metadata": {},
   "outputs": [],
   "source": [
    "hex_dict={}\n",
    "rgb_dict={}\n",
    "for line in open('/home/h1bennet/brain_aging/data/brain_aging_color_table.txt','r'):\n",
    "    split = line.strip().replace('\\ufeff','').split('\\t')\n",
    "    # split2 = split[1]\n",
    "    hex_dict[split[0]] = split[1]\n",
    "    rgb_dict[split[0]] = split[2]    "
   ]
  },
  {
   "cell_type": "markdown",
   "metadata": {},
   "source": [
    "# Read in annotated promoters"
   ]
  },
  {
   "cell_type": "code",
   "execution_count": 5,
   "metadata": {},
   "outputs": [],
   "source": [
    "# import annotation file\n",
    "df, mat = read_annotated_peaks('./merged_peaks/ann_norm_promoters.txt')\n",
    "\n",
    "# # try with dropped sample\n",
    "dropsamp = ['XXX']\n",
    "drop_files = mat.columns[mat.columns.str.contains('|'.join(dropsamp))]\n",
    "\n",
    "df = df.drop(drop_files, axis=1)\n",
    "mat = mat.drop(drop_files, axis=1)"
   ]
  }
 ],
 "metadata": {
  "kernelspec": {
   "display_name": "dataviz",
   "language": "python",
   "name": "dataviz"
  },
  "language_info": {
   "codemirror_mode": {
    "name": "ipython",
    "version": 3
   },
   "file_extension": ".py",
   "mimetype": "text/x-python",
   "name": "python",
   "nbconvert_exporter": "python",
   "pygments_lexer": "ipython3",
   "version": "3.7.5"
  }
 },
 "nbformat": 4,
 "nbformat_minor": 2
}
