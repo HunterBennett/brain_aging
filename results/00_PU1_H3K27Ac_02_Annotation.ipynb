{
 "cells": [
  {
   "cell_type": "markdown",
   "metadata": {},
   "source": [
    "Hunter Bennett | Glass Lab | Brain Aging Project | 19 Feb 2021"
   ]
  },
  {
   "cell_type": "markdown",
   "metadata": {},
   "source": [
    "This notebook finds peaks and annotates them with H3K27Ac reads for downstream analysis. The steps accomplished are as follows:\n",
    "1. Call both variable width and nucleosome free regions using HOMER.\n",
    "2. Merge peaks into timepoint specific merged peak sets and overall merged peak sets.\n",
    "3. Annotate overall merged peak sets with H3K27Ac reads from all tag directories."
   ]
  },
  {
   "cell_type": "code",
   "execution_count": 2,
   "metadata": {},
   "outputs": [],
   "source": [
    "### header ###\n",
    "__author__ = \"Hunter Bennett\"\n",
    "__license__ = \"BSD\"\n",
    "__email__ = \"hunter.r.bennett@gmail.com\"\n",
    "%load_ext autoreload\n",
    "%autoreload 2\n",
    "### imports ###\n",
    "import sys\n",
    "%matplotlib inline\n",
    "import os\n",
    "import re\n",
    "import glob\n",
    "import pandas as pd\n",
    "import numpy as np\n",
    "import matplotlib\n",
    "import matplotlib.pyplot as plt \n",
    "import seaborn as sns\n",
    "matplotlib.rcParams['savefig.dpi'] = 200\n",
    "sns.set(font_scale=1)\n",
    "sns.set_context('talk')\n",
    "sns.set_style('white')\n",
    "\n",
    "# import custom functions\n",
    "import sys\n",
    "sys.path.insert(0, '/home/h1bennet/code/')\n",
    "from hbUtils import ngs_qc, quantile_normalize_df\n",
    "from plotting_scripts import label_point, pca_rpkm_mat\n",
    "from homer_preprocessing import read_annotated_peaks"
   ]
  },
  {
   "cell_type": "markdown",
   "metadata": {},
   "source": [
    "# Set working paths"
   ]
  },
  {
   "cell_type": "code",
   "execution_count": 3,
   "metadata": {},
   "outputs": [],
   "source": [
    "dataDirectory = '/data/mm10/Brain_MPSIIIA/ChIP/H3K27AC/NeuN/WT/'\n",
    "inputDirectory = '/data/mm10/Brain_MPSIIIA/ChIP/input/NeuN/'\n",
    "workingDirectory = '/home/h1bennet/brain_aging/results/01_NeuN_H3K27Ac/'\n",
    "if not os.path.isdir(workingDirectory):\n",
    "    os.mkdir(workingDirectory)\n",
    "os.chdir(workingDirectory)"
   ]
  },
  {
   "cell_type": "markdown",
   "metadata": {},
   "source": [
    "# Call peaks using matched inputs."
   ]
  },
  {
   "cell_type": "markdown",
   "metadata": {},
   "source": [
    "## Set list of tag directories"
   ]
  },
  {
   "cell_type": "code",
   "execution_count": 9,
   "metadata": {},
   "outputs": [],
   "source": [
    "tagdirs = ['00_mouse_BL6_M_10day_NeuN_ChIP_H3K27ac_1_AL_20200610_GCCTAGCC_TTGGTCTG',\n",
    "           '00_mouse_BL6_M_12day_NeuN_ChIP_H3K27ac_1_AL_20201121_GTCGGAGC_GGTTATAA',\n",
    "           '00_mouse_BL6_M_12day_NeuN_ChIP_H3K27ac_2_AL_20201121_ATGAGGCC_GTTAATTG',\n",
    "           '02_mouse_BL6_M_3week_NeuN_ChIP_H3K27ac_1_AL_l20200925_TGGCCGGT_TAGAGCGC',\n",
    "           '02_mouse_BL6_M_3week_NeuN_ChIP_H3K27ac_2_AL_20201121_TCCAACGC_TTGGACTT',\n",
    "           '03_mouse_BL6_M_8week_NeuN_ChIP_H3K27ac_1_JOS_20190801_ACTGAT',\n",
    "           '03_mouse_BL6_M_8week_NeuN_ChIP_H3K27ac_2_JOS_20191009_GTAGAG',\n",
    "           '03_mouse_BL6_M_8week_NeuN_ChIP_H3K27ac_3_AL_20191226_AGTCAA',\n",
    "           '03_mouse_BL6_M_8week_NeuN_ChIP_H3K27ac_4_AL_20191226_GTCCGC',\n",
    "           '03_mouse_BL6_M_9week_NeuN_ChIP_H3K27ac_1_JOS_20190809_CGATGT',\n",
    "           '04_mouse_MPSIIIAhet_M_4month_NeuN_ChIP_H3K27ac_1_AL_l20200925_ACAGGCGC_CTCTGCCT',\n",
    "           '04_mouse_MPSIIIAhet_M_4month_NeuN_ChIP_H3K27ac_2_AL_l20200925_GAACCGCG_TGACCTTA',\n",
    "           '04_mouse_MPSIIIAhet_M_4month_NeuN_ChIP_H3K27ac_3_AL_l20200925_TGCGAGAC_CATTGTTG',\n",
    "           '04_mouse_MPSIIIAhet_M_4month_NeuN_ChIP_H3K27ac_4_AL_20201111_AACTGTAG_ACGCCGCA',\n",
    "           '04_mouse_MPSIIIAhet_M_4month_NeuN_ChIP_H3K27ac_5_AL_20201121_TACCGAGG_CCTGAACT',\n",
    "           '05_mouse_MPSIIIAhet_M_P240_NeuN_ChIP_H3K27ac_1_AL_20191226_GAGTGG',\n",
    "           '05_mouse_MPSIIIAhet_M_P240_NeuN_ChIP_H3K27ac_2_AL_20191122_CGATGT',\n",
    "           '06_mouse_BL6_M_23month_NeuN_ChIP_H3K27ac_1_AL_20201121_TAATACAG_ATATTCAC',\n",
    "           '06_mouse_BL6_M_28month_NeuN_ChIP_H3K27ac_1_AL_20201121_GCACGGAC_GTCTCGCA',\n",
    "           '06_mouse_BL6_M_31month_NeuN_ChIP_H3K27ac_1_AL_20201111_TCATCCTT_AGCGAGCT']"
   ]
  },
  {
   "cell_type": "markdown",
   "metadata": {},
   "source": [
    "## Set list of corresponding input directories"
   ]
  },
  {
   "cell_type": "code",
   "execution_count": 10,
   "metadata": {},
   "outputs": [],
   "source": [
    "inputdirs = ['01_mouse_C57_M_P21_NeuN_ChIP_input_409_AL_l20191122_CTATAC',\n",
    "           '01_mouse_C57_M_P21_NeuN_ChIP_input_409_AL_l20191122_CTATAC',\n",
    "           '01_mouse_C57_M_P21_NeuN_ChIP_input_409_AL_l20191122_CTATAC',\n",
    "           '01_mouse_C57_M_P21_NeuN_ChIP_input_409_AL_l20191122_CTATAC',\n",
    "           '01_mouse_C57_M_P21_NeuN_ChIP_input_409_AL_l20191122_CTATAC',\n",
    "           '02_mouse_BL6_M_8week_NeuN_input_1_JOS_20190801_CATTTT',\n",
    "           '02_mouse_BL6_M_8week_NeuN_input_1_JOS_20190801_CATTTT',\n",
    "           '02_mouse_BL6_M_8week_NeuN_input_1_JOS_20190801_CATTTT',\n",
    "           '02_mouse_BL6_M_8week_NeuN_input_1_JOS_20190801_CATTTT',\n",
    "           '02_mouse_BL6_M_8week_NeuN_input_1_JOS_20190801_CATTTT',\n",
    "           '03_mouse_MPSIIIAhet_NeuN_ChIP_input_4_month_AL_l20200925_TACTCATA_CCTGTGGC',\n",
    "           '03_mouse_MPSIIIAhet_NeuN_ChIP_input_4_month_AL_l20200925_TACTCATA_CCTGTGGC',\n",
    "           '03_mouse_MPSIIIAhet_NeuN_ChIP_input_4_month_AL_l20200925_TACTCATA_CCTGTGGC',\n",
    "           '03_mouse_MPSIIIAhet_NeuN_ChIP_input_4_month_AL_l20200925_TACTCATA_CCTGTGGC',\n",
    "           '03_mouse_MPSIIIAhet_NeuN_ChIP_input_4_month_AL_l20200925_TACTCATA_CCTGTGGC',\n",
    "           '05_mouse_MPSIIIAhet_M_P240_NeuN_ChIP_H3K27ac_1_AL_20191226_GAGTGG',\n",
    "           '05_mouse_MPSIIIAhet_M_P240_NeuN_ChIP_H3K27ac_2_AL_20191122_CGATGT',\n",
    "           '04_mouse_MPSIIIAhet_M_P240_NeuN_input_2_AL_20191122_CCAACA',\n",
    "           '04_mouse_MPSIIIAhet_M_P240_NeuN_input_2_AL_20191122_CCAACA',\n",
    "           '04_mouse_MPSIIIAhet_M_P240_NeuN_input_2_AL_20191122_CCAACA']"
   ]
  },
  {
   "cell_type": "markdown",
   "metadata": {},
   "source": [
    "# Call Peaks with matched inputs"
   ]
  },
  {
   "cell_type": "code",
   "execution_count": 12,
   "metadata": {},
   "outputs": [
    {
     "name": "stdout",
     "output_type": "stream",
     "text": [
      "analyzing: 00_mouse_BL6_M_10day_NeuN_ChIP_H3K27ac_1_AL_20200610_GCCTAGCC_TTGGTCTG\n",
      "input: 01_mouse_C57_M_P21_NeuN_ChIP_input_409_AL_l20191122_CTATAC\n",
      "\n",
      "analyzing: 00_mouse_BL6_M_12day_NeuN_ChIP_H3K27ac_1_AL_20201121_GTCGGAGC_GGTTATAA\n",
      "input: 01_mouse_C57_M_P21_NeuN_ChIP_input_409_AL_l20191122_CTATAC\n",
      "\n",
      "analyzing: 00_mouse_BL6_M_12day_NeuN_ChIP_H3K27ac_2_AL_20201121_ATGAGGCC_GTTAATTG\n",
      "input: 01_mouse_C57_M_P21_NeuN_ChIP_input_409_AL_l20191122_CTATAC\n",
      "\n",
      "analyzing: 02_mouse_BL6_M_3week_NeuN_ChIP_H3K27ac_1_AL_l20200925_TGGCCGGT_TAGAGCGC\n",
      "input: 01_mouse_C57_M_P21_NeuN_ChIP_input_409_AL_l20191122_CTATAC\n",
      "\n",
      "analyzing: 02_mouse_BL6_M_3week_NeuN_ChIP_H3K27ac_2_AL_20201121_TCCAACGC_TTGGACTT\n",
      "input: 01_mouse_C57_M_P21_NeuN_ChIP_input_409_AL_l20191122_CTATAC\n",
      "\n",
      "analyzing: 03_mouse_BL6_M_8week_NeuN_ChIP_H3K27ac_1_JOS_20190801_ACTGAT\n",
      "input: 02_mouse_BL6_M_8week_NeuN_input_1_JOS_20190801_CATTTT\n",
      "\n",
      "analyzing: 03_mouse_BL6_M_8week_NeuN_ChIP_H3K27ac_2_JOS_20191009_GTAGAG\n",
      "input: 02_mouse_BL6_M_8week_NeuN_input_1_JOS_20190801_CATTTT\n",
      "\n",
      "analyzing: 03_mouse_BL6_M_8week_NeuN_ChIP_H3K27ac_3_AL_20191226_AGTCAA\n",
      "input: 02_mouse_BL6_M_8week_NeuN_input_1_JOS_20190801_CATTTT\n",
      "\n",
      "analyzing: 03_mouse_BL6_M_8week_NeuN_ChIP_H3K27ac_4_AL_20191226_GTCCGC\n",
      "input: 02_mouse_BL6_M_8week_NeuN_input_1_JOS_20190801_CATTTT\n",
      "\n",
      "analyzing: 03_mouse_BL6_M_9week_NeuN_ChIP_H3K27ac_1_JOS_20190809_CGATGT\n",
      "input: 02_mouse_BL6_M_8week_NeuN_input_1_JOS_20190801_CATTTT\n",
      "\n",
      "analyzing: 04_mouse_MPSIIIAhet_M_4month_NeuN_ChIP_H3K27ac_1_AL_l20200925_ACAGGCGC_CTCTGCCT\n",
      "input: 03_mouse_MPSIIIAhet_NeuN_ChIP_input_4_month_AL_l20200925_TACTCATA_CCTGTGGC\n",
      "\n",
      "analyzing: 04_mouse_MPSIIIAhet_M_4month_NeuN_ChIP_H3K27ac_2_AL_l20200925_GAACCGCG_TGACCTTA\n",
      "input: 03_mouse_MPSIIIAhet_NeuN_ChIP_input_4_month_AL_l20200925_TACTCATA_CCTGTGGC\n",
      "\n",
      "analyzing: 04_mouse_MPSIIIAhet_M_4month_NeuN_ChIP_H3K27ac_3_AL_l20200925_TGCGAGAC_CATTGTTG\n",
      "input: 03_mouse_MPSIIIAhet_NeuN_ChIP_input_4_month_AL_l20200925_TACTCATA_CCTGTGGC\n",
      "\n",
      "analyzing: 04_mouse_MPSIIIAhet_M_4month_NeuN_ChIP_H3K27ac_4_AL_20201111_AACTGTAG_ACGCCGCA\n",
      "input: 03_mouse_MPSIIIAhet_NeuN_ChIP_input_4_month_AL_l20200925_TACTCATA_CCTGTGGC\n",
      "\n",
      "analyzing: 04_mouse_MPSIIIAhet_M_4month_NeuN_ChIP_H3K27ac_5_AL_20201121_TACCGAGG_CCTGAACT\n",
      "input: 03_mouse_MPSIIIAhet_NeuN_ChIP_input_4_month_AL_l20200925_TACTCATA_CCTGTGGC\n",
      "\n",
      "analyzing: 05_mouse_MPSIIIAhet_M_P240_NeuN_ChIP_H3K27ac_1_AL_20191226_GAGTGG\n",
      "input: 05_mouse_MPSIIIAhet_M_P240_NeuN_ChIP_H3K27ac_1_AL_20191226_GAGTGG\n",
      "\n",
      "analyzing: 05_mouse_MPSIIIAhet_M_P240_NeuN_ChIP_H3K27ac_2_AL_20191122_CGATGT\n",
      "input: 05_mouse_MPSIIIAhet_M_P240_NeuN_ChIP_H3K27ac_2_AL_20191122_CGATGT\n",
      "\n",
      "analyzing: 06_mouse_BL6_M_23month_NeuN_ChIP_H3K27ac_1_AL_20201121_TAATACAG_ATATTCAC\n",
      "input: 04_mouse_MPSIIIAhet_M_P240_NeuN_input_2_AL_20191122_CCAACA\n",
      "\n",
      "analyzing: 06_mouse_BL6_M_28month_NeuN_ChIP_H3K27ac_1_AL_20201121_GCACGGAC_GTCTCGCA\n",
      "input: 04_mouse_MPSIIIAhet_M_P240_NeuN_input_2_AL_20191122_CCAACA\n",
      "\n",
      "analyzing: 06_mouse_BL6_M_31month_NeuN_ChIP_H3K27ac_1_AL_20201111_TCATCCTT_AGCGAGCT\n",
      "input: 04_mouse_MPSIIIAhet_M_P240_NeuN_input_2_AL_20191122_CCAACA\n",
      "\n"
     ]
    }
   ],
   "source": [
    "\n",
    "with open('./peakCalling_homer.sh', 'w') as f:\n",
    "    for tagdir, inputdir in zip(tagdirs, inputdirs):\n",
    "        print('analyzing:', tagdir)\n",
    "        print('input:', inputdir)\n",
    "        print()\n",
    "        \n",
    "        find_peaks_vw = ['findPeaks', dataDirectory + '/' + tagdir,\n",
    "                          '-i', inputDirectory + '/' + inputdir,\n",
    "                          '-region',\n",
    "                          '-size 1000 -minDist 2500',\n",
    "                          '-o',\n",
    "                          workingDirectory + '/peak_files/' + tagdir + '_variablewidth_peaks.tsv',\n",
    "                          '&', '\\n\\n']\n",
    "        \n",
    "        find_peaks_nfr = ['findPeaks', dataDirectory + '/' + tagdir,\n",
    "                          '-i', inputDirectory + '/' + inputdir,\n",
    "                          '-nfr', '-size 200',\n",
    "                          '-o',\n",
    "                          workingDirectory + '/peak_files/' + tagdir + '_nfr_peaks.tsv',\n",
    "                          '&', '\\n\\n']\n",
    "\n",
    "        # write commands to file\n",
    "        f.write(' '.join(find_peaks_vw))\n",
    "        f.write(' '.join(find_peaks_nfr))      \n",
    "        \n",
    "    f.close()"
   ]
  },
  {
   "cell_type": "markdown",
   "metadata": {},
   "source": [
    "# Merge peaks"
   ]
  },
  {
   "cell_type": "code",
   "execution_count": 13,
   "metadata": {
    "scrolled": true
   },
   "outputs": [
    {
     "name": "stdout",
     "output_type": "stream",
     "text": [
      "Process is interrupted.\n"
     ]
    }
   ],
   "source": [
    "%%bash\n",
    "if [ ! -d ./merged_peaks/ ]; then mkdir ./merged_peaks; fi\n",
    "mergePeaks ./peak_files/*variablewidth* > merged_peaks/vw_peaks_merged.txt\n",
    "mergePeaks ./peak_files/*nfr_peaks.tsv* > merged_peaks/nfr_peaks_merged.txt"
   ]
  },
  {
   "cell_type": "markdown",
   "metadata": {},
   "source": [
    "### Make subgroup specific merged peaks - these will be used later"
   ]
  },
  {
   "cell_type": "code",
   "execution_count": null,
   "metadata": {},
   "outputs": [],
   "source": [
    "%%bash\n",
    "if [ ! -d ./merged_peaks/ ]; then mkdir ./merged_peaks; fi\n",
    "mergePeaks ./peak_files/00_mouse*nfr* > merged_peaks/00_NeuN_2WeekOrLess_nfr_peaks_merged.txt\n",
    "mergePeaks ./peak_files/02_mouse*nfr* > merged_peaks/02_NeuN_P21_nfr_peaks_merged.txt\n",
    "mergePeaks ./peak_files/03_mouse*nfr* > merged_peaks/03_NeuN_8Week_nfr_peaks_merged.txt\n",
    "mergePeaks ./peak_files/04_mouse*nfr* > merged_peaks/04_NeuN_4Month_nfr_peaks_merged.txt\n",
    "mergePeaks ./peak_files/06_mouse*nfr* > merged_peaks/06_NeuN_20Month_nfr_peaks_merged.txt\n",
    "mergePeaks ./peak_files/00_mouse*variablewidth* > merged_peaks/00_NeuN_2WeekOrLess_vw_peaks_merged.txt\n",
    "mergePeaks ./peak_files/02_mouse*variablewidth* > merged_peaks/02_NeuN_P21_vw_peaks_merged.txt\n",
    "mergePeaks ./peak_files/03_mouse*variablewidth* > merged_peaks/03_NeuN_8Week_vw_peaks_merged.txt\n",
    "mergePeaks ./peak_files/04_mouse*variablewidth* > merged_peaks/04_NeuN_4Month_vw_peaks_merged.txt\n",
    "mergePeaks ./peak_files/06_mouse*variablewidth* > merged_peaks/06_NeuN_20Month_vw_peaks_merged.txt"
   ]
  },
  {
   "cell_type": "markdown",
   "metadata": {},
   "source": [
    "## Convert merged peaks to bed files for upload to UCSC"
   ]
  },
  {
   "cell_type": "code",
   "execution_count": 14,
   "metadata": {},
   "outputs": [
    {
     "name": "stderr",
     "output_type": "stream",
     "text": [
      "rm: cannot remove ‘./make_bed.sh’: No such file or directory\n"
     ]
    }
   ],
   "source": [
    "%%bash\n",
    "if [ ! -d ./bed_files/ ]; then mkdir ./bed_files; fi\n",
    "\n",
    "# delete the existing script file\n",
    "rm ./make_bed.sh\n",
    "# create a script file\n",
    "touch ./make_bed.sh\n",
    "\n",
    "for peakfile in ./merged_peaks/*;\n",
    "do bedfile=${peakfile/merged_peaks/bed_files};\n",
    "bedfile=${bedfile/.txt/.bed}\n",
    "echo \"pos2bed.pl $peakfile > $bedfile\" >> make_bed.sh\n",
    "done\n"
   ]
  },
  {
   "cell_type": "markdown",
   "metadata": {},
   "source": [
    "Best to add labels to the bed files so that we can use them on the browser"
   ]
  },
  {
   "cell_type": "code",
   "execution_count": 15,
   "metadata": {},
   "outputs": [],
   "source": [
    "%%bash\n",
    "\n",
    "echo 'track name=\"NeuN_H3K27Ac_NFR\" description=\"NeuN Nuclei H3K27Ac Chip-seq Nucleosome Free Regions\"' \\\n",
    "| cat - ./bed_files/nfr_peaks_merged.bed \\\n",
    "> temp && mv temp ./bed_files/nfr_peaks_merged.bed\n",
    "\n",
    "echo 'track name=\"NeuN_H3K27Ac_VW\" description=\"NeuN Nuclei H3K27Ac Chip-seq Variable Width Peaks\"' \\\n",
    "| cat - ./bed_files/vw_peaks_merged.bed \\\n",
    "> temp && mv temp ./bed_files/vw_peaks_merged.bed"
   ]
  },
  {
   "cell_type": "markdown",
   "metadata": {},
   "source": [
    "# Annotate peaks"
   ]
  },
  {
   "cell_type": "code",
   "execution_count": 16,
   "metadata": {},
   "outputs": [],
   "source": [
    "tagdirs_full = [dataDirectory+i for i in tagdirs]"
   ]
  },
  {
   "cell_type": "code",
   "execution_count": 19,
   "metadata": {},
   "outputs": [],
   "source": [
    "if not os.path.isdir('./annotated_peaks/'):\n",
    "    os.mkdir('./annotated_peaks/')\n",
    "\n",
    "with open('./annotatePeaks_homer.sh', 'w') as f:\n",
    "    \n",
    "    annotate_nfr_raw = ['annotatePeaks.pl', './merged_peaks/nfr_peaks_merged.txt',\n",
    "                       'mm10', '-size 1000', '-raw', '-d \\\\\\n',\n",
    "                       ' \\\\\\n'.join(tagdirs_full), '>',\n",
    "                       './annotated_peaks/ann_raw_nfr_peaks_merged.txt &\\n\\n']\n",
    "    \n",
    "    annotate_nfr_norm = ['annotatePeaks.pl', './merged_peaks/nfr_peaks_merged.txt',\n",
    "                       'mm10', '-size 1000', '-norm 1e7', '-d \\\\\\n',\n",
    "                       ' \\\\\\n'.join(tagdirs_full), '>',\n",
    "                       './annotated_peaks/ann_norm_nfr_peaks_merged.txt &\\n\\n']\n",
    "    \n",
    "    annotate_vw_raw = ['annotatePeaks.pl', './merged_peaks/vw_peaks_merged.txt',\n",
    "                   'mm10', '-size given', '-raw', '-d \\\\\\n',\n",
    "                   ' \\\\\\n'.join(tagdirs_full), '>',\n",
    "                   './annotated_peaks/ann_raw_vw_peaks_merged.txt &\\n\\n']\n",
    "\n",
    "    annotate_vw_norm = ['annotatePeaks.pl', './merged_peaks/vw_peaks_merged.txt',\n",
    "                       'mm10', '-size given', '-norm 1e7', '-d \\\\\\n',\n",
    "                       ' \\\\\\n'.join(tagdirs_full), '>',\n",
    "                       './annotated_peaks/ann_norm_vw_peaks_merged.txt &']\n",
    "\n",
    "    f.write(' '.join(annotate_nfr_raw))    \n",
    "    f.write(' '.join(annotate_nfr_norm))\n",
    "    f.write(' '.join(annotate_vw_raw))    \n",
    "    f.write(' '.join(annotate_vw_norm))\n",
    "    \n",
    "    f.close()"
   ]
  }
 ],
 "metadata": {
  "kernelspec": {
   "display_name": "dataviz",
   "language": "python",
   "name": "dataviz"
  },
  "language_info": {
   "codemirror_mode": {
    "name": "ipython",
    "version": 3
   },
   "file_extension": ".py",
   "mimetype": "text/x-python",
   "name": "python",
   "nbconvert_exporter": "python",
   "pygments_lexer": "ipython3",
   "version": "3.7.5"
  }
 },
 "nbformat": 4,
 "nbformat_minor": 2
}
