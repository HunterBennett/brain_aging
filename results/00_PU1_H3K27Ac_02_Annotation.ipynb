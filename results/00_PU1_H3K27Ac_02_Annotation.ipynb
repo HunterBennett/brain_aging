{
 "cells": [
  {
   "cell_type": "markdown",
   "metadata": {},
   "source": [
    "Hunter Bennett | Glass Lab | Brain Aging Project | 19 Feb 2021"
   ]
  },
  {
   "cell_type": "markdown",
   "metadata": {},
   "source": [
    "This notebook finds peaks and annotates them with H3K27Ac reads for downstream analysis. The steps accomplished are as follows:\n",
    "1. Call both variable width and nucleosome free regions using HOMER.\n",
    "2. Merge peaks into timepoint specific merged peak sets and overall merged peak sets.\n",
    "3. Annotate overall merged peak sets with H3K27Ac reads from all tag directories."
   ]
  },
  {
   "cell_type": "code",
   "execution_count": 16,
   "metadata": {},
   "outputs": [
    {
     "name": "stdout",
     "output_type": "stream",
     "text": [
      "The autoreload extension is already loaded. To reload it, use:\n",
      "  %reload_ext autoreload\n"
     ]
    }
   ],
   "source": [
    "### header ###\n",
    "__author__ = \"Hunter Bennett\"\n",
    "__license__ = \"BSD\"\n",
    "__email__ = \"hunter.r.bennett@gmail.com\"\n",
    "%load_ext autoreload\n",
    "%autoreload 2\n",
    "### imports ###\n",
    "import sys\n",
    "%matplotlib inline\n",
    "import os\n",
    "import re\n",
    "import glob\n",
    "import pandas as pd\n",
    "import numpy as np\n",
    "import matplotlib\n",
    "import matplotlib.pyplot as plt \n",
    "import seaborn as sns\n",
    "matplotlib.rcParams['savefig.dpi'] = 200\n",
    "sns.set(font_scale=1)\n",
    "sns.set_context('talk')\n",
    "sns.set_style('white')\n",
    "\n",
    "# import custom functions\n",
    "import sys\n",
    "sys.path.insert(0, '/home/h1bennet/code/')\n",
    "from hbUtils import ngs_qc, quantile_normalize_df\n",
    "from plotting_scripts import label_point, pca_rpkm_mat\n",
    "from homer_preprocessing import read_annotated_peaks"
   ]
  },
  {
   "cell_type": "markdown",
   "metadata": {},
   "source": [
    "# Set working paths"
   ]
  },
  {
   "cell_type": "code",
   "execution_count": 17,
   "metadata": {},
   "outputs": [],
   "source": [
    "dataDirectory = '/data/mm10/Brain_MPSIIIA/ChIP/H3K27AC/PU_1/WT/'\n",
    "inputDirectory = '/data/mm10/Brain_MPSIIIA/ChIP/input/PU1/'\n",
    "workingDirectory = '/home/h1bennet/brain_aging/results/00_PU1_H3K27Ac/'\n",
    "if not os.path.isdir(workingDirectory):\n",
    "    os.mkdir(workingDirectory)\n",
    "os.chdir(workingDirectory)"
   ]
  },
  {
   "cell_type": "markdown",
   "metadata": {},
   "source": [
    "# Call peaks using matched inputs."
   ]
  },
  {
   "cell_type": "markdown",
   "metadata": {},
   "source": [
    "## Set list of tag directories"
   ]
  },
  {
   "cell_type": "code",
   "execution_count": 18,
   "metadata": {},
   "outputs": [],
   "source": [
    "tagdirs = ['03_mouse_BL6_M_9week_PU1_ChIP_H3K27ac_1_JOS_20190809_CTTGTA',\n",
    "           '05_mouse_MPSIIIAhet_M_4month_PU1_ChIP_H3K27ac_1_AL_20200925_AGGTTATA_CAGTTCCG',\n",
    "           '05_mouse_MPSIIIAhet_M_4month_PU1_ChIP_H3K27ac_2_AL_20200925_TCTGTTGG_TCGAATGG',\n",
    "           '05_mouse_MPSIIIAhet_M_4month_PU1_ChIP_H3K27ac_3_AL_20201111_CTGCTTCC_GATAGATC',\n",
    "           '06_mouse_MPSIIIAhet_M_P240_PU1_ChIP_H3K27ac_1_AL_20191226_ATTCCT',\n",
    "           '06_mouse_MPSIIIAhet_M_P240_PU1_ChIP_H3K27ac_2D_JOS_20191122_CTTGTA',\n",
    "           '06_mouse_MPSIIIAhet_M_P240_PU1_ChIP_H3K27ac_2_AL_20191122_CTTGTA',\n",
    "           '07_mouse_BL6_M_23month_PU1_ChIP_H3K27ac_1_AL_20201121_ATGTAAGT_ACTCTATG',\n",
    "           '07_mouse_BL6_M_25month_PU1_ChIP_H3K27ac_1_JOS_20191018_ACTTGA',\n",
    "           '07_mouse_BL6_M_25month_PU1_ChIP_H3K27ac_2_JOS_20191018_AGTTCC',\n",
    "           '07_mouse_BL6_M_28month_PU1_ChIP_H3K27ac_1_AL_20201121_AACGTTCC_GGAGTACT',\n",
    "           '07_mouse_BL6_M_31month_PU1_ChIP_H3K27ac_1_AL_20201111_GAACCGCG_TGACCTTA']"
   ]
  },
  {
   "cell_type": "markdown",
   "metadata": {},
   "source": [
    "## Set list of corresponding input directories"
   ]
  },
  {
   "cell_type": "code",
   "execution_count": 19,
   "metadata": {},
   "outputs": [],
   "source": [
    "inputdirs = ['01_mouse_BL6_M_8week_PU1_input_3_AL_20191226_CATGGC',\n",
    "           '02_mouse_MPSIIIAhet_M_4month_PU1_ChIP_input_AL_l20200925_ATCCACTG_AGGTGCGT',\n",
    "           '02_mouse_MPSIIIAhet_M_4month_PU1_ChIP_input_AL_l20200925_ATCCACTG_AGGTGCGT',\n",
    "           '02_mouse_MPSIIIAhet_M_4month_PU1_ChIP_input_AL_l20200925_ATCCACTG_AGGTGCGT',\n",
    "           'mouse_C57_M_PU1_ChIP_input_MPSIIIAWTP240PU1_408_AL_l20191122_CTAGCT',\n",
    "           'mouse_C57_M_PU1_ChIP_input_MPSIIIAWTP240PU1_408_AL_l20191122_CTAGCT',\n",
    "           'mouse_C57_M_PU1_ChIP_input_MPSIIIAWTP240PU1_408_AL_l20191122_CTAGCT',\n",
    "           '04_mouse_BL6_M_26month_PU1_ChIP_month_AL_l20200911_TCATCCTT_AGCGAGCT',\n",
    "           '04_mouse_BL6_M_26month_PU1_ChIP_month_AL_l20200911_TCATCCTT_AGCGAGCT',\n",
    "           '04_mouse_BL6_M_26month_PU1_ChIP_month_AL_l20200911_TCATCCTT_AGCGAGCT',\n",
    "           '04_mouse_BL6_M_26month_PU1_ChIP_month_AL_l20200911_TCATCCTT_AGCGAGCT',\n",
    "           '04_mouse_BL6_M_26month_PU1_ChIP_month_AL_l20200911_TCATCCTT_AGCGAGCT']"
   ]
  },
  {
   "cell_type": "markdown",
   "metadata": {},
   "source": [
    "# Call Peaks with matched inputs"
   ]
  },
  {
   "cell_type": "code",
   "execution_count": 22,
   "metadata": {},
   "outputs": [
    {
     "name": "stdout",
     "output_type": "stream",
     "text": [
      "analyzing: 03_mouse_BL6_M_9week_PU1_ChIP_H3K27ac_1_JOS_20190809_CTTGTA\n",
      "input: 01_mouse_BL6_M_8week_PU1_input_3_AL_20191226_CATGGC\n",
      "\n",
      "analyzing: 05_mouse_MPSIIIAhet_M_4month_PU1_ChIP_H3K27ac_1_AL_20200925_AGGTTATA_CAGTTCCG\n",
      "input: 02_mouse_MPSIIIAhet_M_4month_PU1_ChIP_input_AL_l20200925_ATCCACTG_AGGTGCGT\n",
      "\n",
      "analyzing: 05_mouse_MPSIIIAhet_M_4month_PU1_ChIP_H3K27ac_2_AL_20200925_TCTGTTGG_TCGAATGG\n",
      "input: 02_mouse_MPSIIIAhet_M_4month_PU1_ChIP_input_AL_l20200925_ATCCACTG_AGGTGCGT\n",
      "\n",
      "analyzing: 05_mouse_MPSIIIAhet_M_4month_PU1_ChIP_H3K27ac_3_AL_20201111_CTGCTTCC_GATAGATC\n",
      "input: 02_mouse_MPSIIIAhet_M_4month_PU1_ChIP_input_AL_l20200925_ATCCACTG_AGGTGCGT\n",
      "\n",
      "analyzing: 06_mouse_MPSIIIAhet_M_P240_PU1_ChIP_H3K27ac_1_AL_20191226_ATTCCT\n",
      "input: mouse_C57_M_PU1_ChIP_input_MPSIIIAWTP240PU1_408_AL_l20191122_CTAGCT\n",
      "\n",
      "analyzing: 06_mouse_MPSIIIAhet_M_P240_PU1_ChIP_H3K27ac_2D_JOS_20191122_CTTGTA\n",
      "input: mouse_C57_M_PU1_ChIP_input_MPSIIIAWTP240PU1_408_AL_l20191122_CTAGCT\n",
      "\n",
      "analyzing: 06_mouse_MPSIIIAhet_M_P240_PU1_ChIP_H3K27ac_2_AL_20191122_CTTGTA\n",
      "input: mouse_C57_M_PU1_ChIP_input_MPSIIIAWTP240PU1_408_AL_l20191122_CTAGCT\n",
      "\n",
      "analyzing: 07_mouse_BL6_M_23month_PU1_ChIP_H3K27ac_1_AL_20201121_ATGTAAGT_ACTCTATG\n",
      "input: 04_mouse_BL6_M_26month_PU1_ChIP_month_AL_l20200911_TCATCCTT_AGCGAGCT\n",
      "\n",
      "analyzing: 07_mouse_BL6_M_25month_PU1_ChIP_H3K27ac_1_JOS_20191018_ACTTGA\n",
      "input: 04_mouse_BL6_M_26month_PU1_ChIP_month_AL_l20200911_TCATCCTT_AGCGAGCT\n",
      "\n",
      "analyzing: 07_mouse_BL6_M_25month_PU1_ChIP_H3K27ac_2_JOS_20191018_AGTTCC\n",
      "input: 04_mouse_BL6_M_26month_PU1_ChIP_month_AL_l20200911_TCATCCTT_AGCGAGCT\n",
      "\n",
      "analyzing: 07_mouse_BL6_M_28month_PU1_ChIP_H3K27ac_1_AL_20201121_AACGTTCC_GGAGTACT\n",
      "input: 04_mouse_BL6_M_26month_PU1_ChIP_month_AL_l20200911_TCATCCTT_AGCGAGCT\n",
      "\n",
      "analyzing: 07_mouse_BL6_M_31month_PU1_ChIP_H3K27ac_1_AL_20201111_GAACCGCG_TGACCTTA\n",
      "input: 04_mouse_BL6_M_26month_PU1_ChIP_month_AL_l20200911_TCATCCTT_AGCGAGCT\n",
      "\n"
     ]
    }
   ],
   "source": [
    "if not os.path.isdir('./peak_files'):\n",
    "    os.mkdir('./peak_files')\n",
    "    \n",
    "with open('./peakCalling_homer.sh', 'w') as f:\n",
    "    for tagdir, inputdir in zip(tagdirs, inputdirs):\n",
    "        print('analyzing:', tagdir)\n",
    "        print('input:', inputdir)\n",
    "        print()\n",
    "        \n",
    "        find_peaks_vw = ['findPeaks', dataDirectory + '/' + tagdir,\n",
    "                          '-i', inputDirectory + '/' + inputdir,\n",
    "                          '-region',\n",
    "                          '-size 1000 -minDist 2500',\n",
    "                          '-o',\n",
    "                          workingDirectory + '/peak_files/' + tagdir + '_variablewidth_peaks.tsv',\n",
    "                          '&', '\\n\\n']\n",
    "        \n",
    "        find_peaks_nfr = ['findPeaks', dataDirectory + '/' + tagdir,\n",
    "                          '-i', inputDirectory + '/' + inputdir,\n",
    "                          '-nfr', '-size 200',\n",
    "                          '-o',\n",
    "                          workingDirectory + '/peak_files/' + tagdir + '_nfr_peaks.tsv',\n",
    "                          '&', '\\n\\n']\n",
    "\n",
    "        # write commands to file\n",
    "        f.write(' '.join(find_peaks_vw))\n",
    "        f.write(' '.join(find_peaks_nfr))      \n",
    "        \n",
    "    f.close()"
   ]
  },
  {
   "cell_type": "markdown",
   "metadata": {},
   "source": [
    "# Merge peaks"
   ]
  },
  {
   "cell_type": "code",
   "execution_count": 23,
   "metadata": {
    "scrolled": true
   },
   "outputs": [
    {
     "name": "stdout",
     "output_type": "stream",
     "text": [
      "Process is interrupted.\n"
     ]
    }
   ],
   "source": [
    "%%bash\n",
    "if [ ! -d ./merged_peaks/ ]; then mkdir ./merged_peaks; fi\n",
    "mergePeaks ./peak_files/*variablewidth* > merged_peaks/vw_peaks_merged.txt\n",
    "mergePeaks ./peak_files/*nfr_peaks.tsv* > merged_peaks/nfr_peaks_merged.txt"
   ]
  },
  {
   "cell_type": "markdown",
   "metadata": {},
   "source": [
    "### Make subgroup specific merged peaks - these will be used later"
   ]
  },
  {
   "cell_type": "code",
   "execution_count": 24,
   "metadata": {},
   "outputs": [
    {
     "name": "stderr",
     "output_type": "stream",
     "text": [
      "\tMax distance to merge: direct overlap required (-d given)\n",
      "\tMerging peaks... \n",
      "\tComparing ./peak_files/05_mouse_MPSIIIAhet_M_4month_PU1_ChIP_H3K27ac_1_AL_20200925_AGGTTATA_CAGTTCCG_nfr_peaks.tsv (26743 total) and ./peak_files/05_mouse_MPSIIIAhet_M_4month_PU1_ChIP_H3K27ac_1_AL_20200925_AGGTTATA_CAGTTCCG_nfr_peaks.tsv (26743 total)\n",
      "\tComparing ./peak_files/05_mouse_MPSIIIAhet_M_4month_PU1_ChIP_H3K27ac_1_AL_20200925_AGGTTATA_CAGTTCCG_nfr_peaks.tsv (26743 total) and ./peak_files/05_mouse_MPSIIIAhet_M_4month_PU1_ChIP_H3K27ac_2_AL_20200925_TCTGTTGG_TCGAATGG_nfr_peaks.tsv (27370 total)\n",
      "\tComparing ./peak_files/05_mouse_MPSIIIAhet_M_4month_PU1_ChIP_H3K27ac_1_AL_20200925_AGGTTATA_CAGTTCCG_nfr_peaks.tsv (26743 total) and ./peak_files/05_mouse_MPSIIIAhet_M_4month_PU1_ChIP_H3K27ac_3_AL_20201111_CTGCTTCC_GATAGATC_nfr_peaks.tsv (20945 total)\n",
      "\tComparing ./peak_files/05_mouse_MPSIIIAhet_M_4month_PU1_ChIP_H3K27ac_2_AL_20200925_TCTGTTGG_TCGAATGG_nfr_peaks.tsv (27370 total) and ./peak_files/05_mouse_MPSIIIAhet_M_4month_PU1_ChIP_H3K27ac_1_AL_20200925_AGGTTATA_CAGTTCCG_nfr_peaks.tsv (26743 total)\n",
      "\tComparing ./peak_files/05_mouse_MPSIIIAhet_M_4month_PU1_ChIP_H3K27ac_2_AL_20200925_TCTGTTGG_TCGAATGG_nfr_peaks.tsv (27370 total) and ./peak_files/05_mouse_MPSIIIAhet_M_4month_PU1_ChIP_H3K27ac_2_AL_20200925_TCTGTTGG_TCGAATGG_nfr_peaks.tsv (27370 total)\n",
      "\tComparing ./peak_files/05_mouse_MPSIIIAhet_M_4month_PU1_ChIP_H3K27ac_2_AL_20200925_TCTGTTGG_TCGAATGG_nfr_peaks.tsv (27370 total) and ./peak_files/05_mouse_MPSIIIAhet_M_4month_PU1_ChIP_H3K27ac_3_AL_20201111_CTGCTTCC_GATAGATC_nfr_peaks.tsv (20945 total)\n",
      "\tComparing ./peak_files/05_mouse_MPSIIIAhet_M_4month_PU1_ChIP_H3K27ac_3_AL_20201111_CTGCTTCC_GATAGATC_nfr_peaks.tsv (20945 total) and ./peak_files/05_mouse_MPSIIIAhet_M_4month_PU1_ChIP_H3K27ac_1_AL_20200925_AGGTTATA_CAGTTCCG_nfr_peaks.tsv (26743 total)\n",
      "\tComparing ./peak_files/05_mouse_MPSIIIAhet_M_4month_PU1_ChIP_H3K27ac_3_AL_20201111_CTGCTTCC_GATAGATC_nfr_peaks.tsv (20945 total) and ./peak_files/05_mouse_MPSIIIAhet_M_4month_PU1_ChIP_H3K27ac_2_AL_20200925_TCTGTTGG_TCGAATGG_nfr_peaks.tsv (27370 total)\n",
      "\tComparing ./peak_files/05_mouse_MPSIIIAhet_M_4month_PU1_ChIP_H3K27ac_3_AL_20201111_CTGCTTCC_GATAGATC_nfr_peaks.tsv (20945 total) and ./peak_files/05_mouse_MPSIIIAhet_M_4month_PU1_ChIP_H3K27ac_3_AL_20201111_CTGCTTCC_GATAGATC_nfr_peaks.tsv (20945 total)\n",
      "\n",
      "./peak_files/05_mouse_MPSIIIAhet_M_4month_PU1_ChIP_H3K27ac_1_AL_20200925_AGGTTATA_CAGTTCCG_nfr_peaks.tsv\t./peak_files/05_mouse_MPSIIIAhet_M_4month_PU1_ChIP_H3K27ac_2_AL_20200925_TCTGTTGG_TCGAATGG_nfr_peaks.tsv\t./peak_files/05_mouse_MPSIIIAhet_M_4month_PU1_ChIP_H3K27ac_3_AL_20201111_CTGCTTCC_GATAGATC_nfr_peaks.tsv\tTotal\tName\n",
      "\t\tX\t9573\t./peak_files/05_mouse_MPSIIIAhet_M_4month_PU1_ChIP_H3K27ac_3_AL_20201111_CTGCTTCC_GATAGATC_nfr_peaks.tsv\n",
      "\tX\t\t11912\t./peak_files/05_mouse_MPSIIIAhet_M_4month_PU1_ChIP_H3K27ac_2_AL_20200925_TCTGTTGG_TCGAATGG_nfr_peaks.tsv\n",
      "\tX\tX\t3112\t./peak_files/05_mouse_MPSIIIAhet_M_4month_PU1_ChIP_H3K27ac_2_AL_20200925_TCTGTTGG_TCGAATGG_nfr_peaks.tsv|./peak_files/05_mouse_MPSIIIAhet_M_4month_PU1_ChIP_H3K27ac_3_AL_20201111_CTGCTTCC_GATAGATC_nfr_peaks.tsv\n",
      "X\t\t\t11051\t./peak_files/05_mouse_MPSIIIAhet_M_4month_PU1_ChIP_H3K27ac_1_AL_20200925_AGGTTATA_CAGTTCCG_nfr_peaks.tsv\n",
      "X\t\tX\t3149\t./peak_files/05_mouse_MPSIIIAhet_M_4month_PU1_ChIP_H3K27ac_1_AL_20200925_AGGTTATA_CAGTTCCG_nfr_peaks.tsv|./peak_files/05_mouse_MPSIIIAhet_M_4month_PU1_ChIP_H3K27ac_3_AL_20201111_CTGCTTCC_GATAGATC_nfr_peaks.tsv\n",
      "X\tX\t\t6661\t./peak_files/05_mouse_MPSIIIAhet_M_4month_PU1_ChIP_H3K27ac_1_AL_20200925_AGGTTATA_CAGTTCCG_nfr_peaks.tsv|./peak_files/05_mouse_MPSIIIAhet_M_4month_PU1_ChIP_H3K27ac_2_AL_20200925_TCTGTTGG_TCGAATGG_nfr_peaks.tsv\n",
      "X\tX\tX\t4384\t./peak_files/05_mouse_MPSIIIAhet_M_4month_PU1_ChIP_H3K27ac_1_AL_20200925_AGGTTATA_CAGTTCCG_nfr_peaks.tsv|./peak_files/05_mouse_MPSIIIAhet_M_4month_PU1_ChIP_H3K27ac_2_AL_20200925_TCTGTTGG_TCGAATGG_nfr_peaks.tsv|./peak_files/05_mouse_MPSIIIAhet_M_4month_PU1_ChIP_H3K27ac_3_AL_20201111_CTGCTTCC_GATAGATC_nfr_peaks.tsv\n",
      "\tMax distance to merge: direct overlap required (-d given)\n",
      "\tMerging peaks... \n",
      "\tComparing ./peak_files/06_mouse_MPSIIIAhet_M_P240_PU1_ChIP_H3K27ac_1_AL_20191226_ATTCCT_nfr_peaks.tsv (325807 total) and ./peak_files/06_mouse_MPSIIIAhet_M_P240_PU1_ChIP_H3K27ac_1_AL_20191226_ATTCCT_nfr_peaks.tsv (325807 total)\n",
      "\tComparing ./peak_files/06_mouse_MPSIIIAhet_M_P240_PU1_ChIP_H3K27ac_1_AL_20191226_ATTCCT_nfr_peaks.tsv (325807 total) and ./peak_files/06_mouse_MPSIIIAhet_M_P240_PU1_ChIP_H3K27ac_2_AL_20191122_CTTGTA_nfr_peaks.tsv (9625 total)\n",
      "\tComparing ./peak_files/06_mouse_MPSIIIAhet_M_P240_PU1_ChIP_H3K27ac_1_AL_20191226_ATTCCT_nfr_peaks.tsv (325807 total) and ./peak_files/06_mouse_MPSIIIAhet_M_P240_PU1_ChIP_H3K27ac_2D_JOS_20191122_CTTGTA_nfr_peaks.tsv (3742 total)\n",
      "\tComparing ./peak_files/06_mouse_MPSIIIAhet_M_P240_PU1_ChIP_H3K27ac_2_AL_20191122_CTTGTA_nfr_peaks.tsv (9625 total) and ./peak_files/06_mouse_MPSIIIAhet_M_P240_PU1_ChIP_H3K27ac_1_AL_20191226_ATTCCT_nfr_peaks.tsv (325807 total)\n",
      "\tComparing ./peak_files/06_mouse_MPSIIIAhet_M_P240_PU1_ChIP_H3K27ac_2_AL_20191122_CTTGTA_nfr_peaks.tsv (9625 total) and ./peak_files/06_mouse_MPSIIIAhet_M_P240_PU1_ChIP_H3K27ac_2_AL_20191122_CTTGTA_nfr_peaks.tsv (9625 total)\n",
      "\tComparing ./peak_files/06_mouse_MPSIIIAhet_M_P240_PU1_ChIP_H3K27ac_2_AL_20191122_CTTGTA_nfr_peaks.tsv (9625 total) and ./peak_files/06_mouse_MPSIIIAhet_M_P240_PU1_ChIP_H3K27ac_2D_JOS_20191122_CTTGTA_nfr_peaks.tsv (3742 total)\n",
      "\tComparing ./peak_files/06_mouse_MPSIIIAhet_M_P240_PU1_ChIP_H3K27ac_2D_JOS_20191122_CTTGTA_nfr_peaks.tsv (3742 total) and ./peak_files/06_mouse_MPSIIIAhet_M_P240_PU1_ChIP_H3K27ac_1_AL_20191226_ATTCCT_nfr_peaks.tsv (325807 total)\n",
      "\tComparing ./peak_files/06_mouse_MPSIIIAhet_M_P240_PU1_ChIP_H3K27ac_2D_JOS_20191122_CTTGTA_nfr_peaks.tsv (3742 total) and ./peak_files/06_mouse_MPSIIIAhet_M_P240_PU1_ChIP_H3K27ac_2_AL_20191122_CTTGTA_nfr_peaks.tsv (9625 total)\n",
      "\tComparing ./peak_files/06_mouse_MPSIIIAhet_M_P240_PU1_ChIP_H3K27ac_2D_JOS_20191122_CTTGTA_nfr_peaks.tsv (3742 total) and ./peak_files/06_mouse_MPSIIIAhet_M_P240_PU1_ChIP_H3K27ac_2D_JOS_20191122_CTTGTA_nfr_peaks.tsv (3742 total)\n",
      "\n",
      "./peak_files/06_mouse_MPSIIIAhet_M_P240_PU1_ChIP_H3K27ac_1_AL_20191226_ATTCCT_nfr_peaks.tsv\t./peak_files/06_mouse_MPSIIIAhet_M_P240_PU1_ChIP_H3K27ac_2_AL_20191122_CTTGTA_nfr_peaks.tsv\t./peak_files/06_mouse_MPSIIIAhet_M_P240_PU1_ChIP_H3K27ac_2D_JOS_20191122_CTTGTA_nfr_peaks.tsv\tTotal\tName\n",
      "\t\tX\t1013\t./peak_files/06_mouse_MPSIIIAhet_M_P240_PU1_ChIP_H3K27ac_2D_JOS_20191122_CTTGTA_nfr_peaks.tsv\n",
      "\tX\t\t4308\t./peak_files/06_mouse_MPSIIIAhet_M_P240_PU1_ChIP_H3K27ac_2_AL_20191122_CTTGTA_nfr_peaks.tsv\n",
      "\tX\tX\t1152\t./peak_files/06_mouse_MPSIIIAhet_M_P240_PU1_ChIP_H3K27ac_2_AL_20191122_CTTGTA_nfr_peaks.tsv|./peak_files/06_mouse_MPSIIIAhet_M_P240_PU1_ChIP_H3K27ac_2D_JOS_20191122_CTTGTA_nfr_peaks.tsv\n",
      "X\t\t\t318519\t./peak_files/06_mouse_MPSIIIAhet_M_P240_PU1_ChIP_H3K27ac_1_AL_20191226_ATTCCT_nfr_peaks.tsv\n",
      "X\t\tX\t471\t./peak_files/06_mouse_MPSIIIAhet_M_P240_PU1_ChIP_H3K27ac_1_AL_20191226_ATTCCT_nfr_peaks.tsv|./peak_files/06_mouse_MPSIIIAhet_M_P240_PU1_ChIP_H3K27ac_2D_JOS_20191122_CTTGTA_nfr_peaks.tsv\n",
      "X\tX\t\t2920\t./peak_files/06_mouse_MPSIIIAhet_M_P240_PU1_ChIP_H3K27ac_1_AL_20191226_ATTCCT_nfr_peaks.tsv|./peak_files/06_mouse_MPSIIIAhet_M_P240_PU1_ChIP_H3K27ac_2_AL_20191122_CTTGTA_nfr_peaks.tsv\n",
      "X\tX\tX\t1052\t./peak_files/06_mouse_MPSIIIAhet_M_P240_PU1_ChIP_H3K27ac_1_AL_20191226_ATTCCT_nfr_peaks.tsv|./peak_files/06_mouse_MPSIIIAhet_M_P240_PU1_ChIP_H3K27ac_2_AL_20191122_CTTGTA_nfr_peaks.tsv|./peak_files/06_mouse_MPSIIIAhet_M_P240_PU1_ChIP_H3K27ac_2D_JOS_20191122_CTTGTA_nfr_peaks.tsv\n",
      "\tMax distance to merge: direct overlap required (-d given)\n",
      "\tMerging peaks... \n",
      "\tComparing ./peak_files/07_mouse_BL6_M_23month_PU1_ChIP_H3K27ac_1_AL_20201121_ATGTAAGT_ACTCTATG_nfr_peaks.tsv (8083 total) and ./peak_files/07_mouse_BL6_M_23month_PU1_ChIP_H3K27ac_1_AL_20201121_ATGTAAGT_ACTCTATG_nfr_peaks.tsv (8083 total)\n",
      "\tComparing ./peak_files/07_mouse_BL6_M_23month_PU1_ChIP_H3K27ac_1_AL_20201121_ATGTAAGT_ACTCTATG_nfr_peaks.tsv (8083 total) and ./peak_files/07_mouse_BL6_M_25month_PU1_ChIP_H3K27ac_1_JOS_20191018_ACTTGA_nfr_peaks.tsv (59821 total)\n",
      "\tComparing ./peak_files/07_mouse_BL6_M_23month_PU1_ChIP_H3K27ac_1_AL_20201121_ATGTAAGT_ACTCTATG_nfr_peaks.tsv (8083 total) and ./peak_files/07_mouse_BL6_M_25month_PU1_ChIP_H3K27ac_2_JOS_20191018_AGTTCC_nfr_peaks.tsv (23436 total)\n",
      "\tComparing ./peak_files/07_mouse_BL6_M_23month_PU1_ChIP_H3K27ac_1_AL_20201121_ATGTAAGT_ACTCTATG_nfr_peaks.tsv (8083 total) and ./peak_files/07_mouse_BL6_M_28month_PU1_ChIP_H3K27ac_1_AL_20201121_AACGTTCC_GGAGTACT_nfr_peaks.tsv (6968 total)\n",
      "\tComparing ./peak_files/07_mouse_BL6_M_23month_PU1_ChIP_H3K27ac_1_AL_20201121_ATGTAAGT_ACTCTATG_nfr_peaks.tsv (8083 total) and ./peak_files/07_mouse_BL6_M_31month_PU1_ChIP_H3K27ac_1_AL_20201111_GAACCGCG_TGACCTTA_nfr_peaks.tsv (27987 total)\n",
      "\tComparing ./peak_files/07_mouse_BL6_M_25month_PU1_ChIP_H3K27ac_1_JOS_20191018_ACTTGA_nfr_peaks.tsv (59821 total) and ./peak_files/07_mouse_BL6_M_23month_PU1_ChIP_H3K27ac_1_AL_20201121_ATGTAAGT_ACTCTATG_nfr_peaks.tsv (8083 total)\n",
      "\tComparing ./peak_files/07_mouse_BL6_M_25month_PU1_ChIP_H3K27ac_1_JOS_20191018_ACTTGA_nfr_peaks.tsv (59821 total) and ./peak_files/07_mouse_BL6_M_25month_PU1_ChIP_H3K27ac_1_JOS_20191018_ACTTGA_nfr_peaks.tsv (59821 total)\n",
      "\tComparing ./peak_files/07_mouse_BL6_M_25month_PU1_ChIP_H3K27ac_1_JOS_20191018_ACTTGA_nfr_peaks.tsv (59821 total) and ./peak_files/07_mouse_BL6_M_25month_PU1_ChIP_H3K27ac_2_JOS_20191018_AGTTCC_nfr_peaks.tsv (23436 total)\n",
      "\tComparing ./peak_files/07_mouse_BL6_M_25month_PU1_ChIP_H3K27ac_1_JOS_20191018_ACTTGA_nfr_peaks.tsv (59821 total) and ./peak_files/07_mouse_BL6_M_28month_PU1_ChIP_H3K27ac_1_AL_20201121_AACGTTCC_GGAGTACT_nfr_peaks.tsv (6968 total)\n",
      "\tComparing ./peak_files/07_mouse_BL6_M_25month_PU1_ChIP_H3K27ac_1_JOS_20191018_ACTTGA_nfr_peaks.tsv (59821 total) and ./peak_files/07_mouse_BL6_M_31month_PU1_ChIP_H3K27ac_1_AL_20201111_GAACCGCG_TGACCTTA_nfr_peaks.tsv (27987 total)\n",
      "\tComparing ./peak_files/07_mouse_BL6_M_25month_PU1_ChIP_H3K27ac_2_JOS_20191018_AGTTCC_nfr_peaks.tsv (23436 total) and ./peak_files/07_mouse_BL6_M_23month_PU1_ChIP_H3K27ac_1_AL_20201121_ATGTAAGT_ACTCTATG_nfr_peaks.tsv (8083 total)\n",
      "\tComparing ./peak_files/07_mouse_BL6_M_25month_PU1_ChIP_H3K27ac_2_JOS_20191018_AGTTCC_nfr_peaks.tsv (23436 total) and ./peak_files/07_mouse_BL6_M_25month_PU1_ChIP_H3K27ac_1_JOS_20191018_ACTTGA_nfr_peaks.tsv (59821 total)\n",
      "\tComparing ./peak_files/07_mouse_BL6_M_25month_PU1_ChIP_H3K27ac_2_JOS_20191018_AGTTCC_nfr_peaks.tsv (23436 total) and ./peak_files/07_mouse_BL6_M_25month_PU1_ChIP_H3K27ac_2_JOS_20191018_AGTTCC_nfr_peaks.tsv (23436 total)\n",
      "\tComparing ./peak_files/07_mouse_BL6_M_25month_PU1_ChIP_H3K27ac_2_JOS_20191018_AGTTCC_nfr_peaks.tsv (23436 total) and ./peak_files/07_mouse_BL6_M_28month_PU1_ChIP_H3K27ac_1_AL_20201121_AACGTTCC_GGAGTACT_nfr_peaks.tsv (6968 total)\n",
      "\tComparing ./peak_files/07_mouse_BL6_M_25month_PU1_ChIP_H3K27ac_2_JOS_20191018_AGTTCC_nfr_peaks.tsv (23436 total) and ./peak_files/07_mouse_BL6_M_31month_PU1_ChIP_H3K27ac_1_AL_20201111_GAACCGCG_TGACCTTA_nfr_peaks.tsv (27987 total)\n",
      "\tComparing ./peak_files/07_mouse_BL6_M_28month_PU1_ChIP_H3K27ac_1_AL_20201121_AACGTTCC_GGAGTACT_nfr_peaks.tsv (6968 total) and ./peak_files/07_mouse_BL6_M_23month_PU1_ChIP_H3K27ac_1_AL_20201121_ATGTAAGT_ACTCTATG_nfr_peaks.tsv (8083 total)\n",
      "\tComparing ./peak_files/07_mouse_BL6_M_28month_PU1_ChIP_H3K27ac_1_AL_20201121_AACGTTCC_GGAGTACT_nfr_peaks.tsv (6968 total) and ./peak_files/07_mouse_BL6_M_25month_PU1_ChIP_H3K27ac_1_JOS_20191018_ACTTGA_nfr_peaks.tsv (59821 total)\n",
      "\tComparing ./peak_files/07_mouse_BL6_M_28month_PU1_ChIP_H3K27ac_1_AL_20201121_AACGTTCC_GGAGTACT_nfr_peaks.tsv (6968 total) and ./peak_files/07_mouse_BL6_M_25month_PU1_ChIP_H3K27ac_2_JOS_20191018_AGTTCC_nfr_peaks.tsv (23436 total)\n",
      "\tComparing ./peak_files/07_mouse_BL6_M_28month_PU1_ChIP_H3K27ac_1_AL_20201121_AACGTTCC_GGAGTACT_nfr_peaks.tsv (6968 total) and ./peak_files/07_mouse_BL6_M_28month_PU1_ChIP_H3K27ac_1_AL_20201121_AACGTTCC_GGAGTACT_nfr_peaks.tsv (6968 total)\n",
      "\tComparing ./peak_files/07_mouse_BL6_M_28month_PU1_ChIP_H3K27ac_1_AL_20201121_AACGTTCC_GGAGTACT_nfr_peaks.tsv (6968 total) and ./peak_files/07_mouse_BL6_M_31month_PU1_ChIP_H3K27ac_1_AL_20201111_GAACCGCG_TGACCTTA_nfr_peaks.tsv (27987 total)\n",
      "\tComparing ./peak_files/07_mouse_BL6_M_31month_PU1_ChIP_H3K27ac_1_AL_20201111_GAACCGCG_TGACCTTA_nfr_peaks.tsv (27987 total) and ./peak_files/07_mouse_BL6_M_23month_PU1_ChIP_H3K27ac_1_AL_20201121_ATGTAAGT_ACTCTATG_nfr_peaks.tsv (8083 total)\n",
      "\tComparing ./peak_files/07_mouse_BL6_M_31month_PU1_ChIP_H3K27ac_1_AL_20201111_GAACCGCG_TGACCTTA_nfr_peaks.tsv (27987 total) and ./peak_files/07_mouse_BL6_M_25month_PU1_ChIP_H3K27ac_1_JOS_20191018_ACTTGA_nfr_peaks.tsv (59821 total)\n",
      "\tComparing ./peak_files/07_mouse_BL6_M_31month_PU1_ChIP_H3K27ac_1_AL_20201111_GAACCGCG_TGACCTTA_nfr_peaks.tsv (27987 total) and ./peak_files/07_mouse_BL6_M_25month_PU1_ChIP_H3K27ac_2_JOS_20191018_AGTTCC_nfr_peaks.tsv (23436 total)\n",
      "\tComparing ./peak_files/07_mouse_BL6_M_31month_PU1_ChIP_H3K27ac_1_AL_20201111_GAACCGCG_TGACCTTA_nfr_peaks.tsv (27987 total) and ./peak_files/07_mouse_BL6_M_28month_PU1_ChIP_H3K27ac_1_AL_20201121_AACGTTCC_GGAGTACT_nfr_peaks.tsv (6968 total)\n",
      "\tComparing ./peak_files/07_mouse_BL6_M_31month_PU1_ChIP_H3K27ac_1_AL_20201111_GAACCGCG_TGACCTTA_nfr_peaks.tsv (27987 total) and ./peak_files/07_mouse_BL6_M_31month_PU1_ChIP_H3K27ac_1_AL_20201111_GAACCGCG_TGACCTTA_nfr_peaks.tsv (27987 total)\n",
      "\n",
      "./peak_files/07_mouse_BL6_M_23month_PU1_ChIP_H3K27ac_1_AL_20201121_ATGTAAGT_ACTCTATG_nfr_peaks.tsv\t./peak_files/07_mouse_BL6_M_25month_PU1_ChIP_H3K27ac_1_JOS_20191018_ACTTGA_nfr_peaks.tsv\t./peak_files/07_mouse_BL6_M_25month_PU1_ChIP_H3K27ac_2_JOS_20191018_AGTTCC_nfr_peaks.tsv\t./peak_files/07_mouse_BL6_M_28month_PU1_ChIP_H3K27ac_1_AL_20201121_AACGTTCC_GGAGTACT_nfr_peaks.tsv\t./peak_files/07_mouse_BL6_M_31month_PU1_ChIP_H3K27ac_1_AL_20201111_GAACCGCG_TGACCTTA_nfr_peaks.tsv\tTotal\tName\n",
      "X\tX\t\t\t\t548\t./peak_files/07_mouse_BL6_M_23month_PU1_ChIP_H3K27ac_1_AL_20201121_ATGTAAGT_ACTCTATG_nfr_peaks.tsv|./peak_files/07_mouse_BL6_M_25month_PU1_ChIP_H3K27ac_1_JOS_20191018_ACTTGA_nfr_peaks.tsv\n",
      "X\tX\t\t\tX\t477\t./peak_files/07_mouse_BL6_M_23month_PU1_ChIP_H3K27ac_1_AL_20201121_ATGTAAGT_ACTCTATG_nfr_peaks.tsv|./peak_files/07_mouse_BL6_M_25month_PU1_ChIP_H3K27ac_1_JOS_20191018_ACTTGA_nfr_peaks.tsv|./peak_files/07_mouse_BL6_M_31month_PU1_ChIP_H3K27ac_1_AL_20201111_GAACCGCG_TGACCTTA_nfr_peaks.tsv\n",
      "X\tX\t\tX\t\t194\t./peak_files/07_mouse_BL6_M_23month_PU1_ChIP_H3K27ac_1_AL_20201121_ATGTAAGT_ACTCTATG_nfr_peaks.tsv|./peak_files/07_mouse_BL6_M_25month_PU1_ChIP_H3K27ac_1_JOS_20191018_ACTTGA_nfr_peaks.tsv|./peak_files/07_mouse_BL6_M_28month_PU1_ChIP_H3K27ac_1_AL_20201121_AACGTTCC_GGAGTACT_nfr_peaks.tsv\n",
      "X\tX\t\tX\tX\t228\t./peak_files/07_mouse_BL6_M_23month_PU1_ChIP_H3K27ac_1_AL_20201121_ATGTAAGT_ACTCTATG_nfr_peaks.tsv|./peak_files/07_mouse_BL6_M_25month_PU1_ChIP_H3K27ac_1_JOS_20191018_ACTTGA_nfr_peaks.tsv|./peak_files/07_mouse_BL6_M_28month_PU1_ChIP_H3K27ac_1_AL_20201121_AACGTTCC_GGAGTACT_nfr_peaks.tsv|./peak_files/07_mouse_BL6_M_31month_PU1_ChIP_H3K27ac_1_AL_20201111_GAACCGCG_TGACCTTA_nfr_peaks.tsv\n",
      "X\tX\tX\t\t\t427\t./peak_files/07_mouse_BL6_M_23month_PU1_ChIP_H3K27ac_1_AL_20201121_ATGTAAGT_ACTCTATG_nfr_peaks.tsv|./peak_files/07_mouse_BL6_M_25month_PU1_ChIP_H3K27ac_1_JOS_20191018_ACTTGA_nfr_peaks.tsv|./peak_files/07_mouse_BL6_M_25month_PU1_ChIP_H3K27ac_2_JOS_20191018_AGTTCC_nfr_peaks.tsv\n",
      "X\tX\tX\t\tX\t828\t./peak_files/07_mouse_BL6_M_23month_PU1_ChIP_H3K27ac_1_AL_20201121_ATGTAAGT_ACTCTATG_nfr_peaks.tsv|./peak_files/07_mouse_BL6_M_25month_PU1_ChIP_H3K27ac_1_JOS_20191018_ACTTGA_nfr_peaks.tsv|./peak_files/07_mouse_BL6_M_25month_PU1_ChIP_H3K27ac_2_JOS_20191018_AGTTCC_nfr_peaks.tsv|./peak_files/07_mouse_BL6_M_31month_PU1_ChIP_H3K27ac_1_AL_20201111_GAACCGCG_TGACCTTA_nfr_peaks.tsv\n",
      "X\tX\tX\tX\t\t214\t./peak_files/07_mouse_BL6_M_23month_PU1_ChIP_H3K27ac_1_AL_20201121_ATGTAAGT_ACTCTATG_nfr_peaks.tsv|./peak_files/07_mouse_BL6_M_25month_PU1_ChIP_H3K27ac_1_JOS_20191018_ACTTGA_nfr_peaks.tsv|./peak_files/07_mouse_BL6_M_25month_PU1_ChIP_H3K27ac_2_JOS_20191018_AGTTCC_nfr_peaks.tsv|./peak_files/07_mouse_BL6_M_28month_PU1_ChIP_H3K27ac_1_AL_20201121_AACGTTCC_GGAGTACT_nfr_peaks.tsv\n",
      "X\tX\tX\tX\tX\t606\t./peak_files/07_mouse_BL6_M_23month_PU1_ChIP_H3K27ac_1_AL_20201121_ATGTAAGT_ACTCTATG_nfr_peaks.tsv|./peak_files/07_mouse_BL6_M_25month_PU1_ChIP_H3K27ac_1_JOS_20191018_ACTTGA_nfr_peaks.tsv|./peak_files/07_mouse_BL6_M_25month_PU1_ChIP_H3K27ac_2_JOS_20191018_AGTTCC_nfr_peaks.tsv|./peak_files/07_mouse_BL6_M_28month_PU1_ChIP_H3K27ac_1_AL_20201121_AACGTTCC_GGAGTACT_nfr_peaks.tsv|./peak_files/07_mouse_BL6_M_31month_PU1_ChIP_H3K27ac_1_AL_20201111_GAACCGCG_TGACCTTA_nfr_peaks.tsv\n",
      "X\t\t\t\t\t1679\t./peak_files/07_mouse_BL6_M_23month_PU1_ChIP_H3K27ac_1_AL_20201121_ATGTAAGT_ACTCTATG_nfr_peaks.tsv\n",
      "X\t\t\t\tX\t660\t./peak_files/07_mouse_BL6_M_23month_PU1_ChIP_H3K27ac_1_AL_20201121_ATGTAAGT_ACTCTATG_nfr_peaks.tsv|./peak_files/07_mouse_BL6_M_31month_PU1_ChIP_H3K27ac_1_AL_20201111_GAACCGCG_TGACCTTA_nfr_peaks.tsv\n",
      "X\t\t\tX\t\t236\t./peak_files/07_mouse_BL6_M_23month_PU1_ChIP_H3K27ac_1_AL_20201121_ATGTAAGT_ACTCTATG_nfr_peaks.tsv|./peak_files/07_mouse_BL6_M_28month_PU1_ChIP_H3K27ac_1_AL_20201121_AACGTTCC_GGAGTACT_nfr_peaks.tsv\n",
      "X\t\t\tX\tX\t183\t./peak_files/07_mouse_BL6_M_23month_PU1_ChIP_H3K27ac_1_AL_20201121_ATGTAAGT_ACTCTATG_nfr_peaks.tsv|./peak_files/07_mouse_BL6_M_28month_PU1_ChIP_H3K27ac_1_AL_20201121_AACGTTCC_GGAGTACT_nfr_peaks.tsv|./peak_files/07_mouse_BL6_M_31month_PU1_ChIP_H3K27ac_1_AL_20201111_GAACCGCG_TGACCTTA_nfr_peaks.tsv\n",
      "X\t\tX\t\t\t500\t./peak_files/07_mouse_BL6_M_23month_PU1_ChIP_H3K27ac_1_AL_20201121_ATGTAAGT_ACTCTATG_nfr_peaks.tsv|./peak_files/07_mouse_BL6_M_25month_PU1_ChIP_H3K27ac_2_JOS_20191018_AGTTCC_nfr_peaks.tsv\n",
      "X\t\tX\t\tX\t516\t./peak_files/07_mouse_BL6_M_23month_PU1_ChIP_H3K27ac_1_AL_20201121_ATGTAAGT_ACTCTATG_nfr_peaks.tsv|./peak_files/07_mouse_BL6_M_25month_PU1_ChIP_H3K27ac_2_JOS_20191018_AGTTCC_nfr_peaks.tsv|./peak_files/07_mouse_BL6_M_31month_PU1_ChIP_H3K27ac_1_AL_20201111_GAACCGCG_TGACCTTA_nfr_peaks.tsv\n",
      "X\t\tX\tX\t\t175\t./peak_files/07_mouse_BL6_M_23month_PU1_ChIP_H3K27ac_1_AL_20201121_ATGTAAGT_ACTCTATG_nfr_peaks.tsv|./peak_files/07_mouse_BL6_M_25month_PU1_ChIP_H3K27ac_2_JOS_20191018_AGTTCC_nfr_peaks.tsv|./peak_files/07_mouse_BL6_M_28month_PU1_ChIP_H3K27ac_1_AL_20201121_AACGTTCC_GGAGTACT_nfr_peaks.tsv\n",
      "X\t\tX\tX\tX\t242\t./peak_files/07_mouse_BL6_M_23month_PU1_ChIP_H3K27ac_1_AL_20201121_ATGTAAGT_ACTCTATG_nfr_peaks.tsv|./peak_files/07_mouse_BL6_M_25month_PU1_ChIP_H3K27ac_2_JOS_20191018_AGTTCC_nfr_peaks.tsv|./peak_files/07_mouse_BL6_M_28month_PU1_ChIP_H3K27ac_1_AL_20201121_AACGTTCC_GGAGTACT_nfr_peaks.tsv|./peak_files/07_mouse_BL6_M_31month_PU1_ChIP_H3K27ac_1_AL_20201111_GAACCGCG_TGACCTTA_nfr_peaks.tsv\n",
      "\tX\t\t\t\t43409\t./peak_files/07_mouse_BL6_M_25month_PU1_ChIP_H3K27ac_1_JOS_20191018_ACTTGA_nfr_peaks.tsv\n",
      "\tX\t\t\tX\t3575\t./peak_files/07_mouse_BL6_M_25month_PU1_ChIP_H3K27ac_1_JOS_20191018_ACTTGA_nfr_peaks.tsv|./peak_files/07_mouse_BL6_M_31month_PU1_ChIP_H3K27ac_1_AL_20201111_GAACCGCG_TGACCTTA_nfr_peaks.tsv\n",
      "\tX\t\tX\t\t423\t./peak_files/07_mouse_BL6_M_25month_PU1_ChIP_H3K27ac_1_JOS_20191018_ACTTGA_nfr_peaks.tsv|./peak_files/07_mouse_BL6_M_28month_PU1_ChIP_H3K27ac_1_AL_20201121_AACGTTCC_GGAGTACT_nfr_peaks.tsv\n",
      "\tX\t\tX\tX\t371\t./peak_files/07_mouse_BL6_M_25month_PU1_ChIP_H3K27ac_1_JOS_20191018_ACTTGA_nfr_peaks.tsv|./peak_files/07_mouse_BL6_M_28month_PU1_ChIP_H3K27ac_1_AL_20201121_AACGTTCC_GGAGTACT_nfr_peaks.tsv|./peak_files/07_mouse_BL6_M_31month_PU1_ChIP_H3K27ac_1_AL_20201111_GAACCGCG_TGACCTTA_nfr_peaks.tsv\n",
      "\tX\tX\t\t\t2744\t./peak_files/07_mouse_BL6_M_25month_PU1_ChIP_H3K27ac_1_JOS_20191018_ACTTGA_nfr_peaks.tsv|./peak_files/07_mouse_BL6_M_25month_PU1_ChIP_H3K27ac_2_JOS_20191018_AGTTCC_nfr_peaks.tsv\n",
      "\tX\tX\t\tX\t3088\t./peak_files/07_mouse_BL6_M_25month_PU1_ChIP_H3K27ac_1_JOS_20191018_ACTTGA_nfr_peaks.tsv|./peak_files/07_mouse_BL6_M_25month_PU1_ChIP_H3K27ac_2_JOS_20191018_AGTTCC_nfr_peaks.tsv|./peak_files/07_mouse_BL6_M_31month_PU1_ChIP_H3K27ac_1_AL_20201111_GAACCGCG_TGACCTTA_nfr_peaks.tsv\n",
      "\tX\tX\tX\t\t320\t./peak_files/07_mouse_BL6_M_25month_PU1_ChIP_H3K27ac_1_JOS_20191018_ACTTGA_nfr_peaks.tsv|./peak_files/07_mouse_BL6_M_25month_PU1_ChIP_H3K27ac_2_JOS_20191018_AGTTCC_nfr_peaks.tsv|./peak_files/07_mouse_BL6_M_28month_PU1_ChIP_H3K27ac_1_AL_20201121_AACGTTCC_GGAGTACT_nfr_peaks.tsv\n",
      "\tX\tX\tX\tX\t623\t./peak_files/07_mouse_BL6_M_25month_PU1_ChIP_H3K27ac_1_JOS_20191018_ACTTGA_nfr_peaks.tsv|./peak_files/07_mouse_BL6_M_25month_PU1_ChIP_H3K27ac_2_JOS_20191018_AGTTCC_nfr_peaks.tsv|./peak_files/07_mouse_BL6_M_28month_PU1_ChIP_H3K27ac_1_AL_20201121_AACGTTCC_GGAGTACT_nfr_peaks.tsv|./peak_files/07_mouse_BL6_M_31month_PU1_ChIP_H3K27ac_1_AL_20201111_GAACCGCG_TGACCTTA_nfr_peaks.tsv\n",
      "\t\t\t\tX\t10848\t./peak_files/07_mouse_BL6_M_31month_PU1_ChIP_H3K27ac_1_AL_20201111_GAACCGCG_TGACCTTA_nfr_peaks.tsv\n",
      "\t\t\tX\t\t1533\t./peak_files/07_mouse_BL6_M_28month_PU1_ChIP_H3K27ac_1_AL_20201121_AACGTTCC_GGAGTACT_nfr_peaks.tsv\n",
      "\t\t\tX\tX\t492\t./peak_files/07_mouse_BL6_M_28month_PU1_ChIP_H3K27ac_1_AL_20201121_AACGTTCC_GGAGTACT_nfr_peaks.tsv|./peak_files/07_mouse_BL6_M_31month_PU1_ChIP_H3K27ac_1_AL_20201111_GAACCGCG_TGACCTTA_nfr_peaks.tsv\n",
      "\t\tX\t\t\t7822\t./peak_files/07_mouse_BL6_M_25month_PU1_ChIP_H3K27ac_2_JOS_20191018_AGTTCC_nfr_peaks.tsv\n",
      "\t\tX\t\tX\t3413\t./peak_files/07_mouse_BL6_M_25month_PU1_ChIP_H3K27ac_2_JOS_20191018_AGTTCC_nfr_peaks.tsv|./peak_files/07_mouse_BL6_M_31month_PU1_ChIP_H3K27ac_1_AL_20201111_GAACCGCG_TGACCTTA_nfr_peaks.tsv\n",
      "\t\tX\tX\t\t400\t./peak_files/07_mouse_BL6_M_25month_PU1_ChIP_H3K27ac_2_JOS_20191018_AGTTCC_nfr_peaks.tsv|./peak_files/07_mouse_BL6_M_28month_PU1_ChIP_H3K27ac_1_AL_20201121_AACGTTCC_GGAGTACT_nfr_peaks.tsv\n",
      "\t\tX\tX\tX\t439\t./peak_files/07_mouse_BL6_M_25month_PU1_ChIP_H3K27ac_2_JOS_20191018_AGTTCC_nfr_peaks.tsv|./peak_files/07_mouse_BL6_M_28month_PU1_ChIP_H3K27ac_1_AL_20201121_AACGTTCC_GGAGTACT_nfr_peaks.tsv|./peak_files/07_mouse_BL6_M_31month_PU1_ChIP_H3K27ac_1_AL_20201111_GAACCGCG_TGACCTTA_nfr_peaks.tsv\n"
     ]
    }
   ],
   "source": [
    "%%bash\n",
    "if [ ! -d ./merged_peaks/ ]; then mkdir ./merged_peaks; fi\n",
    "mergePeaks ./peak_files/05_mouse*nfr* > merged_peaks/05_PU1_4month_nfr_peaks_merged.txt\n",
    "mergePeaks ./peak_files/06_mouse*nfr* > merged_peaks/06_PU1_P240_nfr_peaks_merged.txt\n",
    "mergePeaks ./peak_files/07_mouse*nfr* > merged_peaks/07_PU1_20MonthPlus_nfr_peaks_merged.txt\n",
    "mergePeaks ./peak_files/05_mouse*variablewidth* > merged_peaks/05_PU1_4month_vw_peaks_merged.txt\n",
    "mergePeaks ./peak_files/06_mouse*variablewidth* > merged_peaks/06_PU1_P240_vw_peaks_merged.txt\n",
    "mergePeaks ./peak_files/07_mouse*variablewidth* > merged_peaks/07_PU1_20MonthPlus_vw_peaks_merged.txt"
   ]
  },
  {
   "cell_type": "markdown",
   "metadata": {},
   "source": [
    "## Convert merged peaks to bed files for upload to UCSC"
   ]
  },
  {
   "cell_type": "code",
   "execution_count": 30,
   "metadata": {},
   "outputs": [],
   "source": [
    "%%bash\n",
    "if [ ! -d ./bed_files/ ]; then mkdir ./bed_files; fi\n",
    "\n",
    "# delete the existing script file\n",
    "rm ./make_bed.sh\n",
    "# create a script file\n",
    "touch ./make_bed.sh\n",
    "\n",
    "for peakfile in ./merged_peaks/*;\n",
    "do bedfile=${peakfile/merged_peaks/bed_files};\n",
    "bedfile=${bedfile/.txt/.bed}\n",
    "echo \"pos2bed.pl $peakfile > $bedfile\" >> make_bed.sh\n",
    "done\n"
   ]
  },
  {
   "cell_type": "markdown",
   "metadata": {},
   "source": [
    "Best to add labels to the bed files so that we can use them on the browser"
   ]
  },
  {
   "cell_type": "code",
   "execution_count": 26,
   "metadata": {},
   "outputs": [],
   "source": [
    "%%bash\n",
    "\n",
    "echo 'track name=\"PU1_H3K27Ac_NFR\" description=\"PU1 Nuclei H3K27Ac Chip-seq Nucleosome Free Regions\"' \\\n",
    "| cat - ./bed_files/nfr_peaks_merged.bed \\\n",
    "> temp && mv temp ./bed_files/nfr_peaks_merged.bed\n",
    "\n",
    "echo 'track name=\"PU1_H3K27Ac_VW\" description=\"PU1 Nuclei H3K27Ac Chip-seq Variable Width Peaks\"' \\\n",
    "| cat - ./bed_files/vw_peaks_merged.bed \\\n",
    "> temp && mv temp ./bed_files/vw_peaks_merged.bed"
   ]
  },
  {
   "cell_type": "markdown",
   "metadata": {},
   "source": [
    "# Annotate peaks"
   ]
  },
  {
   "cell_type": "code",
   "execution_count": 27,
   "metadata": {},
   "outputs": [],
   "source": [
    "tagdirs_full = [dataDirectory+i for i in tagdirs]"
   ]
  },
  {
   "cell_type": "code",
   "execution_count": 28,
   "metadata": {},
   "outputs": [],
   "source": [
    "if not os.path.isdir('./annotated_peaks/'):\n",
    "    os.mkdir('./annotated_peaks/')\n",
    "\n",
    "with open('./annotatePeaks_homer.sh', 'w') as f:\n",
    "    \n",
    "    annotate_nfr_raw = ['annotatePeaks.pl', './merged_peaks/nfr_peaks_merged.txt',\n",
    "                       'mm10', '-size 1000', '-raw', '-d \\\\\\n',\n",
    "                       ' \\\\\\n'.join(tagdirs_full), '>',\n",
    "                       './annotated_peaks/ann_raw_nfr_peaks_merged.txt &\\n\\n']\n",
    "    \n",
    "    annotate_nfr_norm = ['annotatePeaks.pl', './merged_peaks/nfr_peaks_merged.txt',\n",
    "                       'mm10', '-size 1000', '-norm 1e7', '-d \\\\\\n',\n",
    "                       ' \\\\\\n'.join(tagdirs_full), '>',\n",
    "                       './annotated_peaks/ann_norm_nfr_peaks_merged.txt &\\n\\n']\n",
    "    \n",
    "    annotate_vw_raw = ['annotatePeaks.pl', './merged_peaks/vw_peaks_merged.txt',\n",
    "                   'mm10', '-size given', '-raw', '-d \\\\\\n',\n",
    "                   ' \\\\\\n'.join(tagdirs_full), '>',\n",
    "                   './annotated_peaks/ann_raw_vw_peaks_merged.txt &\\n\\n']\n",
    "\n",
    "    annotate_vw_norm = ['annotatePeaks.pl', './merged_peaks/vw_peaks_merged.txt',\n",
    "                       'mm10', '-size given', '-norm 1e7', '-d \\\\\\n',\n",
    "                       ' \\\\\\n'.join(tagdirs_full), '>',\n",
    "                       './annotated_peaks/ann_norm_vw_peaks_merged.txt &']\n",
    "\n",
    "    f.write(' '.join(annotate_nfr_raw))    \n",
    "    f.write(' '.join(annotate_nfr_norm))\n",
    "    f.write(' '.join(annotate_vw_raw))    \n",
    "    f.write(' '.join(annotate_vw_norm))\n",
    "    \n",
    "    f.close()"
   ]
  },
  {
   "cell_type": "code",
   "execution_count": null,
   "metadata": {},
   "outputs": [],
   "source": []
  }
 ],
 "metadata": {
  "kernelspec": {
   "display_name": "dataviz",
   "language": "python",
   "name": "dataviz"
  },
  "language_info": {
   "codemirror_mode": {
    "name": "ipython",
    "version": 3
   },
   "file_extension": ".py",
   "mimetype": "text/x-python",
   "name": "python",
   "nbconvert_exporter": "python",
   "pygments_lexer": "ipython3",
   "version": "3.7.5"
  }
 },
 "nbformat": 4,
 "nbformat_minor": 2
}
