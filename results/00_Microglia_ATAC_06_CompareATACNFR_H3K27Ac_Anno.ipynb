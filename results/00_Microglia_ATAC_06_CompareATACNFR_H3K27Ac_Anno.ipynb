{
 "cells": [
  {
   "cell_type": "markdown",
   "metadata": {},
   "source": [
    "Hunter Bennett | Glass Lab | Brain Aging Project | 12 Feb 2021  "
   ]
  },
  {
   "cell_type": "code",
   "execution_count": 2,
   "metadata": {},
   "outputs": [],
   "source": [
    "### header ###\n",
    "__author__ = \"Hunter Bennett\"\n",
    "__license__ = \"BSD\"\n",
    "__email__ = \"hunter.r.bennett@gmail.com\"\n",
    "%load_ext autoreload\n",
    "%autoreload 2\n",
    "### imports ###\n",
    "import sys\n",
    "%matplotlib inline\n",
    "import os\n",
    "import re\n",
    "import glob\n",
    "import pandas as pd\n",
    "import numpy as np\n",
    "import matplotlib\n",
    "import matplotlib.pyplot as plt \n",
    "import seaborn as sns\n",
    "matplotlib.rcParams['savefig.dpi'] = 200\n",
    "sns.set(font_scale=1)\n",
    "sns.set_context('talk')\n",
    "sns.set_style('white')\n",
    "\n",
    "# import custom functions\n",
    "import sys\n",
    "sys.path.insert(0, '/home/h1bennet/code/')\n",
    "from hbUtils import ngs_qc, quantile_normalize_df\n",
    "from plotting_scripts import label_point, pca_rpkm_mat\n",
    "from homer_preprocessing import read_annotated_peaks"
   ]
  },
  {
   "cell_type": "code",
   "execution_count": 3,
   "metadata": {},
   "outputs": [],
   "source": [
    "dataDirectory = '/data/mm10/Brain_MPSIIIA/ChIP/H3K27AC/PU_1/WT/'\n",
    "workingDirectory = '/home/h1bennet/brain_aging/results/00_Microglia_CompareATACNFR/'\n",
    "if not os.path.isdir(workingDirectory):\n",
    "    os.mkdir(workingDirectory)\n",
    "os.chdir(workingDirectory)"
   ]
  },
  {
   "cell_type": "markdown",
   "metadata": {},
   "source": [
    "# Annotate HisTrader peaks with H3K27Ac data"
   ]
  },
  {
   "cell_type": "code",
   "execution_count": 6,
   "metadata": {},
   "outputs": [],
   "source": [
    "if not os.path.isdir('./annotated_peaks'):\n",
    "    os.mkdir('./annotated_peaks')"
   ]
  },
  {
   "cell_type": "code",
   "execution_count": 4,
   "metadata": {},
   "outputs": [],
   "source": [
    "drop_files = ['NaN']\n",
    "\n",
    "# drop_files = ['']"
   ]
  },
  {
   "cell_type": "code",
   "execution_count": 73,
   "metadata": {},
   "outputs": [],
   "source": [
    "# grab relevant tag directories\n",
    "\n",
    "tagdirs = np.sort(glob.glob('/home/h1bennet/brain_aging/results/00_Microglia_H3K27Ac/merged_tagdirs/*all*'))\n",
    "\n",
    "tagdirs = pd.Series(tagdirs)[~pd.Series(tagdirs).str.contains('|'.join(drop_files))].tolist()"
   ]
  },
  {
   "cell_type": "code",
   "execution_count": 156,
   "metadata": {},
   "outputs": [],
   "source": [
    "with open('./annotatePeaks_homer.sh', 'w') as f:\n",
    "    annotate_4month = ['annotatePeaks.pl', './differential_peaks/00_pu1_4month_act_histrader.nfr.txt',\n",
    "                       'mm10', '-size 200', '-norm 1e7', '-d \\\\\\n',\n",
    "                       ' \\\\\\n'.join(tagdirs), '>',\n",
    "                       './annotated_peaks/00_pu1_4month_act_histrader_ann_norm.txt &\\n\\n']\n",
    "    \n",
    "    annotate_25month = ['annotatePeaks.pl', './differential_peaks/01_pu1_25month_act_histrader.nfr.txt',\n",
    "                       'mm10', '-size 200', '-norm 1e7', '-d \\\\\\n',\n",
    "                       ' \\\\\\n'.join(tagdirs), '>',\n",
    "                       './annotated_peaks/01_pu1_25month_act_histrader_ann_norm.txt &\\n\\n']\n",
    "    \n",
    "    f.write(' '.join(annotate_4month))    \n",
    "    f.write(' '.join(annotate_25month))\n",
    "    \n",
    "    f.close()"
   ]
  },
  {
   "cell_type": "code",
   "execution_count": 95,
   "metadata": {},
   "outputs": [],
   "source": [
    "with open('./annotatePeaks_given.sh', 'w') as f:\n",
    "    annotate_4month = ['annotatePeaks.pl', './differential_peaks/00_pu1_4month_act_histrader.nfr.txt',\n",
    "                       'mm10', '-size given', '>',\n",
    "                       './annotated_peaks/00_pu1_4month_act_histrader_reindex.txt &\\n\\n']\n",
    "    \n",
    "    annotate_25month = ['annotatePeaks.pl', './differential_peaks/01_pu1_25month_act_histrader.nfr.txt',\n",
    "                       'mm10', '-size given', '>',\n",
    "                       './annotated_peaks/01_pu1_25month_act_histrader_reindex.txt &\\n\\n']\n",
    "    \n",
    "    f.write(' '.join(annotate_4month))    \n",
    "    f.write(' '.join(annotate_25month))\n",
    "    \n",
    "    f.close()"
   ]
  },
  {
   "cell_type": "markdown",
   "metadata": {},
   "source": [
    "# Try a few different cutoffs of tag counts to see if there is a point that gives us a good false positive rate based on merge peaks overlap"
   ]
  },
  {
   "cell_type": "code",
   "execution_count": 208,
   "metadata": {},
   "outputs": [],
   "source": [
    "tagThreshes = [1,2,4,8,16,32,64,128]"
   ]
  },
  {
   "cell_type": "markdown",
   "metadata": {},
   "source": [
    "### run for 4 month samples"
   ]
  },
  {
   "cell_type": "code",
   "execution_count": 209,
   "metadata": {},
   "outputs": [],
   "source": [
    "# import annotation file\n",
    "df, mat = read_annotated_peaks('./annotated_peaks/00_pu1_4month_act_histrader_ann_norm.txt')"
   ]
  },
  {
   "cell_type": "code",
   "execution_count": 210,
   "metadata": {},
   "outputs": [],
   "source": [
    "nfr = pd.read_csv('./annotated_peaks/00_pu1_4month_act_histrader_reindex.txt', sep='\\t',\n",
    "                  index_col=0)"
   ]
  },
  {
   "cell_type": "code",
   "execution_count": 211,
   "metadata": {},
   "outputs": [
    {
     "name": "stdout",
     "output_type": "stream",
     "text": [
      "1\n",
      "2\n",
      "4\n",
      "8\n",
      "16\n",
      "32\n",
      "64\n",
      "128\n"
     ]
    }
   ],
   "source": [
    "for thresh in tagThreshes:\n",
    "    # select peaks passing threshold\n",
    "    peakIDs = df.index[df['/home/h1bennet/brain_aging/results/00_Microglia_H3K27Ac/merged_tagdirs/00_all_microglia_H3K27Ac_4months'] > thresh].tolist()\n",
    "    nfr.loc[peakIDs, :].to_csv('./annotated_peaks/00_microglia_H3K27Ac_4months_HisTrader_NFR_H3K27Ac_thresh_'+str(thresh)+'_peak.txt',\n",
    "                               sep='\\t')"
   ]
  },
  {
   "cell_type": "markdown",
   "metadata": {},
   "source": [
    "### run for 25 month samples"
   ]
  },
  {
   "cell_type": "code",
   "execution_count": 212,
   "metadata": {},
   "outputs": [],
   "source": [
    "# import annotation file\n",
    "df, mat = read_annotated_peaks('./annotated_peaks/01_pu1_25month_act_histrader_ann_norm.txt')"
   ]
  },
  {
   "cell_type": "code",
   "execution_count": 213,
   "metadata": {},
   "outputs": [],
   "source": [
    "nfr = pd.read_csv('./annotated_peaks/01_pu1_25month_act_histrader_reindex.txt', sep='\\t',\n",
    "                  index_col=0)"
   ]
  },
  {
   "cell_type": "code",
   "execution_count": 214,
   "metadata": {
    "scrolled": true
   },
   "outputs": [
    {
     "name": "stdout",
     "output_type": "stream",
     "text": [
      "1\n",
      "2\n",
      "4\n",
      "8\n",
      "16\n",
      "32\n",
      "64\n",
      "128\n"
     ]
    }
   ],
   "source": [
    "for thresh in tagThreshes:\n",
    "    # select peaks passing threshold\n",
    "    peakIDs = df.index[df['/home/h1bennet/brain_aging/results/00_Microglia_H3K27Ac/merged_tagdirs/01_all_microglia_H3K27Ac_25months'] > thresh].tolist()\n",
    "    nfr.loc[peakIDs, :].to_csv('./annotated_peaks/01_microglia_H3K27Ac_25months_HisTrader_NFR_H3K27Ac_thresh_'+str(thresh)+'_peak.txt',\n",
    "                               sep='\\t')"
   ]
  },
  {
   "cell_type": "markdown",
   "metadata": {},
   "source": [
    "# 4 months"
   ]
  },
  {
   "cell_type": "code",
   "execution_count": 252,
   "metadata": {},
   "outputs": [
    {
     "name": "stderr",
     "output_type": "stream",
     "text": [
      "\tMax distance to merge: direct overlap required (-d given)\n",
      "\tMerging peaks... \n",
      "\tComparing ./annotated_peaks/00_pu1_4month_act_histrader_reindex.txt (2108 total) and ./annotated_peaks/00_pu1_4month_act_histrader_reindex.txt (2108 total)\n",
      "\tComparing ./annotated_peaks/00_pu1_4month_act_histrader_reindex.txt (2108 total) and ./differential_peaks/00_pu1_4month_idr_peaks.txt (666 total)\n",
      "\tComparing ./differential_peaks/00_pu1_4month_idr_peaks.txt (666 total) and ./annotated_peaks/00_pu1_4month_act_histrader_reindex.txt (2108 total)\n",
      "\tComparing ./differential_peaks/00_pu1_4month_idr_peaks.txt (666 total) and ./differential_peaks/00_pu1_4month_idr_peaks.txt (666 total)\n",
      "\n",
      "./annotated_peaks/00_pu1_4month_act_histrader_reindex.txt\t./differential_peaks/00_pu1_4month_idr_peaks.txt\tTotal\tName\n",
      "\tX\t67\t./differential_peaks/00_pu1_4month_idr_peaks.txt\n",
      "X\t\t1422\t./annotated_peaks/00_pu1_4month_act_histrader_reindex.txt\n",
      "X\tX\t591\t./annotated_peaks/00_pu1_4month_act_histrader_reindex.txt|./differential_peaks/00_pu1_4month_idr_peaks.txt\n"
     ]
    }
   ],
   "source": [
    "%%bash\n",
    "\n",
    "mergePeaks -prefix merge_peaks_output/histrader_4month_all \\\n",
    "./annotated_peaks/00_pu1_4month_act_histrader_reindex.txt \\\n",
    "./differential_peaks/00_pu1_4month_idr_peaks.txt"
   ]
  },
  {
   "cell_type": "code",
   "execution_count": 253,
   "metadata": {},
   "outputs": [
    {
     "name": "stderr",
     "output_type": "stream",
     "text": [
      "\tMax distance to merge: direct overlap required (-d given)\n",
      "\tMerging peaks... \n",
      "\tComparing ./annotated_peaks/00_microglia_H3K27Ac_4months_HisTrader_NFR_H3K27Ac_thresh_1_peak.txt (1918 total) and ./annotated_peaks/00_microglia_H3K27Ac_4months_HisTrader_NFR_H3K27Ac_thresh_1_peak.txt (1918 total)\n",
      "\tComparing ./annotated_peaks/00_microglia_H3K27Ac_4months_HisTrader_NFR_H3K27Ac_thresh_1_peak.txt (1918 total) and ./differential_peaks/00_pu1_4month_idr_peaks.txt (666 total)\n",
      "\tComparing ./differential_peaks/00_pu1_4month_idr_peaks.txt (666 total) and ./annotated_peaks/00_microglia_H3K27Ac_4months_HisTrader_NFR_H3K27Ac_thresh_1_peak.txt (1918 total)\n",
      "\tComparing ./differential_peaks/00_pu1_4month_idr_peaks.txt (666 total) and ./differential_peaks/00_pu1_4month_idr_peaks.txt (666 total)\n",
      "\n",
      "./annotated_peaks/00_microglia_H3K27Ac_4months_HisTrader_NFR_H3K27Ac_thresh_1_peak.txt\t./differential_peaks/00_pu1_4month_idr_peaks.txt\tTotal\tName\n",
      "\tX\t89\t./differential_peaks/00_pu1_4month_idr_peaks.txt\n",
      "X\t\t1259\t./annotated_peaks/00_microglia_H3K27Ac_4months_HisTrader_NFR_H3K27Ac_thresh_1_peak.txt\n",
      "X\tX\t569\t./annotated_peaks/00_microglia_H3K27Ac_4months_HisTrader_NFR_H3K27Ac_thresh_1_peak.txt|./differential_peaks/00_pu1_4month_idr_peaks.txt\n"
     ]
    }
   ],
   "source": [
    "%%bash\n",
    "\n",
    "mergePeaks -prefix merge_peaks_output/histrader_4month_01 \\\n",
    "./annotated_peaks/00_microglia_H3K27Ac_4months_HisTrader_NFR_H3K27Ac_thresh_1_peak.txt \\\n",
    "./differential_peaks/00_pu1_4month_idr_peaks.txt"
   ]
  },
  {
   "cell_type": "code",
   "execution_count": 254,
   "metadata": {},
   "outputs": [
    {
     "name": "stderr",
     "output_type": "stream",
     "text": [
      "\tMax distance to merge: direct overlap required (-d given)\n",
      "\tMerging peaks... \n",
      "\tComparing ./annotated_peaks/00_microglia_H3K27Ac_4months_HisTrader_NFR_H3K27Ac_thresh_2_peak.txt (1676 total) and ./annotated_peaks/00_microglia_H3K27Ac_4months_HisTrader_NFR_H3K27Ac_thresh_2_peak.txt (1676 total)\n",
      "\tComparing ./annotated_peaks/00_microglia_H3K27Ac_4months_HisTrader_NFR_H3K27Ac_thresh_2_peak.txt (1676 total) and ./differential_peaks/00_pu1_4month_idr_peaks.txt (666 total)\n",
      "\tComparing ./differential_peaks/00_pu1_4month_idr_peaks.txt (666 total) and ./annotated_peaks/00_microglia_H3K27Ac_4months_HisTrader_NFR_H3K27Ac_thresh_2_peak.txt (1676 total)\n",
      "\tComparing ./differential_peaks/00_pu1_4month_idr_peaks.txt (666 total) and ./differential_peaks/00_pu1_4month_idr_peaks.txt (666 total)\n",
      "\n",
      "./annotated_peaks/00_microglia_H3K27Ac_4months_HisTrader_NFR_H3K27Ac_thresh_2_peak.txt\t./differential_peaks/00_pu1_4month_idr_peaks.txt\tTotal\tName\n",
      "\tX\t121\t./differential_peaks/00_pu1_4month_idr_peaks.txt\n",
      "X\t\t1063\t./annotated_peaks/00_microglia_H3K27Ac_4months_HisTrader_NFR_H3K27Ac_thresh_2_peak.txt\n",
      "X\tX\t537\t./annotated_peaks/00_microglia_H3K27Ac_4months_HisTrader_NFR_H3K27Ac_thresh_2_peak.txt|./differential_peaks/00_pu1_4month_idr_peaks.txt\n"
     ]
    }
   ],
   "source": [
    "%%bash\n",
    "\n",
    "mergePeaks -prefix merge_peaks_output/histrader_4month_02 \\\n",
    "./annotated_peaks/00_microglia_H3K27Ac_4months_HisTrader_NFR_H3K27Ac_thresh_2_peak.txt \\\n",
    "./differential_peaks/00_pu1_4month_idr_peaks.txt"
   ]
  },
  {
   "cell_type": "code",
   "execution_count": 255,
   "metadata": {},
   "outputs": [
    {
     "name": "stderr",
     "output_type": "stream",
     "text": [
      "\tMax distance to merge: direct overlap required (-d given)\n",
      "\tMerging peaks... \n",
      "\tComparing ./annotated_peaks/00_microglia_H3K27Ac_4months_HisTrader_NFR_H3K27Ac_thresh_4_peak.txt (1140 total) and ./annotated_peaks/00_microglia_H3K27Ac_4months_HisTrader_NFR_H3K27Ac_thresh_4_peak.txt (1140 total)\n",
      "\tComparing ./annotated_peaks/00_microglia_H3K27Ac_4months_HisTrader_NFR_H3K27Ac_thresh_4_peak.txt (1140 total) and ./differential_peaks/00_pu1_4month_idr_peaks.txt (666 total)\n",
      "\tComparing ./differential_peaks/00_pu1_4month_idr_peaks.txt (666 total) and ./annotated_peaks/00_microglia_H3K27Ac_4months_HisTrader_NFR_H3K27Ac_thresh_4_peak.txt (1140 total)\n",
      "\tComparing ./differential_peaks/00_pu1_4month_idr_peaks.txt (666 total) and ./differential_peaks/00_pu1_4month_idr_peaks.txt (666 total)\n",
      "\n",
      "./annotated_peaks/00_microglia_H3K27Ac_4months_HisTrader_NFR_H3K27Ac_thresh_4_peak.txt\t./differential_peaks/00_pu1_4month_idr_peaks.txt\tTotal\tName\n",
      "\tX\t244\t./differential_peaks/00_pu1_4month_idr_peaks.txt\n",
      "X\t\t672\t./annotated_peaks/00_microglia_H3K27Ac_4months_HisTrader_NFR_H3K27Ac_thresh_4_peak.txt\n",
      "X\tX\t417\t./annotated_peaks/00_microglia_H3K27Ac_4months_HisTrader_NFR_H3K27Ac_thresh_4_peak.txt|./differential_peaks/00_pu1_4month_idr_peaks.txt\n"
     ]
    }
   ],
   "source": [
    "%%bash\n",
    "\n",
    "mergePeaks -prefix merge_peaks_output/histrader_4month_04 \\\n",
    "./annotated_peaks/00_microglia_H3K27Ac_4months_HisTrader_NFR_H3K27Ac_thresh_4_peak.txt \\\n",
    "./differential_peaks/00_pu1_4month_idr_peaks.txt"
   ]
  },
  {
   "cell_type": "code",
   "execution_count": 256,
   "metadata": {},
   "outputs": [
    {
     "name": "stderr",
     "output_type": "stream",
     "text": [
      "\tMax distance to merge: direct overlap required (-d given)\n",
      "\tMerging peaks... \n",
      "\tComparing ./annotated_peaks/00_microglia_H3K27Ac_4months_HisTrader_NFR_H3K27Ac_thresh_8_peak.txt (557 total) and ./annotated_peaks/00_microglia_H3K27Ac_4months_HisTrader_NFR_H3K27Ac_thresh_8_peak.txt (557 total)\n",
      "\tComparing ./annotated_peaks/00_microglia_H3K27Ac_4months_HisTrader_NFR_H3K27Ac_thresh_8_peak.txt (557 total) and ./differential_peaks/00_pu1_4month_idr_peaks.txt (666 total)\n",
      "\tComparing ./differential_peaks/00_pu1_4month_idr_peaks.txt (666 total) and ./annotated_peaks/00_microglia_H3K27Ac_4months_HisTrader_NFR_H3K27Ac_thresh_8_peak.txt (557 total)\n",
      "\tComparing ./differential_peaks/00_pu1_4month_idr_peaks.txt (666 total) and ./differential_peaks/00_pu1_4month_idr_peaks.txt (666 total)\n",
      "\n",
      "./annotated_peaks/00_microglia_H3K27Ac_4months_HisTrader_NFR_H3K27Ac_thresh_8_peak.txt\t./differential_peaks/00_pu1_4month_idr_peaks.txt\tTotal\tName\n",
      "\tX\t461\t./differential_peaks/00_pu1_4month_idr_peaks.txt\n",
      "X\t\t333\t./annotated_peaks/00_microglia_H3K27Ac_4months_HisTrader_NFR_H3K27Ac_thresh_8_peak.txt\n",
      "X\tX\t203\t./annotated_peaks/00_microglia_H3K27Ac_4months_HisTrader_NFR_H3K27Ac_thresh_8_peak.txt|./differential_peaks/00_pu1_4month_idr_peaks.txt\n"
     ]
    }
   ],
   "source": [
    "%%bash\n",
    "\n",
    "mergePeaks -prefix merge_peaks_output/histrader_4month_08 \\\n",
    "./annotated_peaks/00_microglia_H3K27Ac_4months_HisTrader_NFR_H3K27Ac_thresh_8_peak.txt \\\n",
    "./differential_peaks/00_pu1_4month_idr_peaks.txt"
   ]
  },
  {
   "cell_type": "code",
   "execution_count": 257,
   "metadata": {},
   "outputs": [
    {
     "name": "stderr",
     "output_type": "stream",
     "text": [
      "\tMax distance to merge: direct overlap required (-d given)\n",
      "\tMerging peaks... \n",
      "\tComparing ./annotated_peaks/00_microglia_H3K27Ac_4months_HisTrader_NFR_H3K27Ac_thresh_16_peak.txt (198 total) and ./annotated_peaks/00_microglia_H3K27Ac_4months_HisTrader_NFR_H3K27Ac_thresh_16_peak.txt (198 total)\n",
      "\tComparing ./annotated_peaks/00_microglia_H3K27Ac_4months_HisTrader_NFR_H3K27Ac_thresh_16_peak.txt (198 total) and ./differential_peaks/00_pu1_4month_idr_peaks.txt (666 total)\n",
      "\tComparing ./differential_peaks/00_pu1_4month_idr_peaks.txt (666 total) and ./annotated_peaks/00_microglia_H3K27Ac_4months_HisTrader_NFR_H3K27Ac_thresh_16_peak.txt (198 total)\n",
      "\tComparing ./differential_peaks/00_pu1_4month_idr_peaks.txt (666 total) and ./differential_peaks/00_pu1_4month_idr_peaks.txt (666 total)\n",
      "\n",
      "./annotated_peaks/00_microglia_H3K27Ac_4months_HisTrader_NFR_H3K27Ac_thresh_16_peak.txt\t./differential_peaks/00_pu1_4month_idr_peaks.txt\tTotal\tName\n",
      "\tX\t597\t./differential_peaks/00_pu1_4month_idr_peaks.txt\n",
      "X\t\t124\t./annotated_peaks/00_microglia_H3K27Ac_4months_HisTrader_NFR_H3K27Ac_thresh_16_peak.txt\n",
      "X\tX\t68\t./annotated_peaks/00_microglia_H3K27Ac_4months_HisTrader_NFR_H3K27Ac_thresh_16_peak.txt|./differential_peaks/00_pu1_4month_idr_peaks.txt\n"
     ]
    }
   ],
   "source": [
    "%%bash\n",
    "\n",
    "mergePeaks -prefix merge_peaks_output/histrader_4month_16 \\\n",
    "./annotated_peaks/00_microglia_H3K27Ac_4months_HisTrader_NFR_H3K27Ac_thresh_16_peak.txt \\\n",
    "./differential_peaks/00_pu1_4month_idr_peaks.txt"
   ]
  },
  {
   "cell_type": "code",
   "execution_count": 258,
   "metadata": {},
   "outputs": [
    {
     "name": "stderr",
     "output_type": "stream",
     "text": [
      "\tMax distance to merge: direct overlap required (-d given)\n",
      "\tMerging peaks... \n",
      "\tComparing ./annotated_peaks/00_microglia_H3K27Ac_4months_HisTrader_NFR_H3K27Ac_thresh_32_peak.txt (50 total) and ./annotated_peaks/00_microglia_H3K27Ac_4months_HisTrader_NFR_H3K27Ac_thresh_32_peak.txt (50 total)\n",
      "\tComparing ./annotated_peaks/00_microglia_H3K27Ac_4months_HisTrader_NFR_H3K27Ac_thresh_32_peak.txt (50 total) and ./differential_peaks/00_pu1_4month_idr_peaks.txt (666 total)\n",
      "\tComparing ./differential_peaks/00_pu1_4month_idr_peaks.txt (666 total) and ./annotated_peaks/00_microglia_H3K27Ac_4months_HisTrader_NFR_H3K27Ac_thresh_32_peak.txt (50 total)\n",
      "\tComparing ./differential_peaks/00_pu1_4month_idr_peaks.txt (666 total) and ./differential_peaks/00_pu1_4month_idr_peaks.txt (666 total)\n",
      "\n",
      "./annotated_peaks/00_microglia_H3K27Ac_4months_HisTrader_NFR_H3K27Ac_thresh_32_peak.txt\t./differential_peaks/00_pu1_4month_idr_peaks.txt\tTotal\tName\n",
      "\tX\t651\t./differential_peaks/00_pu1_4month_idr_peaks.txt\n",
      "X\t\t33\t./annotated_peaks/00_microglia_H3K27Ac_4months_HisTrader_NFR_H3K27Ac_thresh_32_peak.txt\n",
      "X\tX\t15\t./annotated_peaks/00_microglia_H3K27Ac_4months_HisTrader_NFR_H3K27Ac_thresh_32_peak.txt|./differential_peaks/00_pu1_4month_idr_peaks.txt\n"
     ]
    }
   ],
   "source": [
    "%%bash\n",
    "\n",
    "mergePeaks -prefix merge_peaks_output/histrader_4month_32 \\\n",
    "./annotated_peaks/00_microglia_H3K27Ac_4months_HisTrader_NFR_H3K27Ac_thresh_32_peak.txt \\\n",
    "./differential_peaks/00_pu1_4month_idr_peaks.txt"
   ]
  },
  {
   "cell_type": "code",
   "execution_count": 259,
   "metadata": {},
   "outputs": [
    {
     "name": "stderr",
     "output_type": "stream",
     "text": [
      "\tMax distance to merge: direct overlap required (-d given)\n",
      "\tMerging peaks... \n",
      "\tComparing ./annotated_peaks/00_microglia_H3K27Ac_4months_HisTrader_NFR_H3K27Ac_thresh_64_peak.txt (2 total) and ./annotated_peaks/00_microglia_H3K27Ac_4months_HisTrader_NFR_H3K27Ac_thresh_64_peak.txt (2 total)\n",
      "\tComparing ./annotated_peaks/00_microglia_H3K27Ac_4months_HisTrader_NFR_H3K27Ac_thresh_64_peak.txt (2 total) and ./differential_peaks/00_pu1_4month_idr_peaks.txt (666 total)\n",
      "\tComparing ./differential_peaks/00_pu1_4month_idr_peaks.txt (666 total) and ./annotated_peaks/00_microglia_H3K27Ac_4months_HisTrader_NFR_H3K27Ac_thresh_64_peak.txt (2 total)\n",
      "\tComparing ./differential_peaks/00_pu1_4month_idr_peaks.txt (666 total) and ./differential_peaks/00_pu1_4month_idr_peaks.txt (666 total)\n",
      "\n",
      "./annotated_peaks/00_microglia_H3K27Ac_4months_HisTrader_NFR_H3K27Ac_thresh_64_peak.txt\t./differential_peaks/00_pu1_4month_idr_peaks.txt\tTotal\tName\n",
      "\tX\t665\t./differential_peaks/00_pu1_4month_idr_peaks.txt\n",
      "X\t\t1\t./annotated_peaks/00_microglia_H3K27Ac_4months_HisTrader_NFR_H3K27Ac_thresh_64_peak.txt\n",
      "X\tX\t1\t./annotated_peaks/00_microglia_H3K27Ac_4months_HisTrader_NFR_H3K27Ac_thresh_64_peak.txt|./differential_peaks/00_pu1_4month_idr_peaks.txt\n"
     ]
    }
   ],
   "source": [
    "%%bash\n",
    "\n",
    "mergePeaks -prefix merge_peaks_output/histrader_4month_64 \\\n",
    "./annotated_peaks/00_microglia_H3K27Ac_4months_HisTrader_NFR_H3K27Ac_thresh_64_peak.txt \\\n",
    "./differential_peaks/00_pu1_4month_idr_peaks.txt"
   ]
  },
  {
   "cell_type": "code",
   "execution_count": 260,
   "metadata": {},
   "outputs": [
    {
     "name": "stderr",
     "output_type": "stream",
     "text": [
      "\tMax distance to merge: direct overlap required (-d given)\n",
      "\tMerging peaks... \n",
      "\tComparing ./annotated_peaks/00_microglia_H3K27Ac_4months_HisTrader_NFR_H3K27Ac_thresh_128_peak.txt (0 total) and ./annotated_peaks/00_microglia_H3K27Ac_4months_HisTrader_NFR_H3K27Ac_thresh_128_peak.txt (0 total)\n",
      "\tComparing ./annotated_peaks/00_microglia_H3K27Ac_4months_HisTrader_NFR_H3K27Ac_thresh_128_peak.txt (0 total) and ./differential_peaks/00_pu1_4month_idr_peaks.txt (666 total)\n",
      "\tComparing ./differential_peaks/00_pu1_4month_idr_peaks.txt (666 total) and ./annotated_peaks/00_microglia_H3K27Ac_4months_HisTrader_NFR_H3K27Ac_thresh_128_peak.txt (0 total)\n",
      "\tComparing ./differential_peaks/00_pu1_4month_idr_peaks.txt (666 total) and ./differential_peaks/00_pu1_4month_idr_peaks.txt (666 total)\n",
      "\n",
      "./annotated_peaks/00_microglia_H3K27Ac_4months_HisTrader_NFR_H3K27Ac_thresh_128_peak.txt\t./differential_peaks/00_pu1_4month_idr_peaks.txt\tTotal\tName\n",
      "\tX\t666\t./differential_peaks/00_pu1_4month_idr_peaks.txt\n"
     ]
    }
   ],
   "source": [
    "%%bash\n",
    "\n",
    "mergePeaks -prefix merge_peaks_output/histrader_4month_128 \\\n",
    "./annotated_peaks/00_microglia_H3K27Ac_4months_HisTrader_NFR_H3K27Ac_thresh_128_peak.txt \\\n",
    "./differential_peaks/00_pu1_4month_idr_peaks.txt"
   ]
  },
  {
   "cell_type": "code",
   "execution_count": 284,
   "metadata": {},
   "outputs": [],
   "source": [
    "total_atac_4months = 666\n",
    "total_peaks_4month = [2108, 1918, 1676, 1140, 557, 198, 50, 2, 0]\n",
    "overlap_4month = [591, 569, 537, 417, 203, 68, 15, 1, 0]\n",
    "sensitivity_4month = [i / total_atac_4months for i in overlap_4month]\n",
    "truepos_4month = []\n",
    "for i, j in zip(overlap_4month, total_peaks_4month):\n",
    "    truepos_4month.append(i/(i+j+1))"
   ]
  },
  {
   "cell_type": "code",
   "execution_count": 283,
   "metadata": {},
   "outputs": [
    {
     "data": {
      "text/plain": [
       "[0.21888888888888888,\n",
       " 0.22869774919614147,\n",
       " 0.24254742547425473,\n",
       " 0.26765083440308085,\n",
       " 0.266754270696452,\n",
       " 0.2546816479400749,\n",
       " 0.22727272727272727,\n",
       " 0.25,\n",
       " 0.0]"
      ]
     },
     "execution_count": 283,
     "metadata": {},
     "output_type": "execute_result"
    }
   ],
   "source": [
    "sensitivity_4month"
   ]
  },
  {
   "cell_type": "code",
   "execution_count": 285,
   "metadata": {
    "scrolled": false
   },
   "outputs": [
    {
     "data": {
      "image/png": "[encoded data removed]",
      "text/plain": [
       "<Figure size 360x360 with 1 Axes>"
      ]
     },
     "metadata": {
      "needs_background": "light"
     },
     "output_type": "display_data"
    }
   ],
   "source": [
    "fig, ax = plt.subplots(figsize=(5,5))\n",
    "\n",
    "ax.scatter(total_peaks_4month,\n",
    "            tp_4months)\n",
    "\n",
    "\n",
    "for i,j,txt in zip(total_peaks_4month, sensitivity_4month, ['All', '1', '2', '4', '8', '16', '32', '64', '128']):\n",
    "    ax.text(x=i,\n",
    "            y=j,\n",
    "            s=txt,\n",
    "            fontdict = {'fontsize':16})\n",
    "    \n",
    "ax.set_title('4 month filter effect');\n",
    "ax.set_ylabel('Sensitivity');\n",
    "ax.set_xlabel('Total peaks');"
   ]
  },
  {
   "cell_type": "markdown",
   "metadata": {},
   "source": [
    "## 25 months"
   ]
  },
  {
   "cell_type": "code",
   "execution_count": 275,
   "metadata": {},
   "outputs": [
    {
     "name": "stderr",
     "output_type": "stream",
     "text": [
      "\tMax distance to merge: direct overlap required (-d given)\n",
      "\tMerging peaks... \n",
      "\tComparing ./annotated_peaks/01_pu1_25month_act_histrader_reindex.txt (4947 total) and ./annotated_peaks/01_pu1_25month_act_histrader_reindex.txt (4947 total)\n",
      "\tComparing ./annotated_peaks/01_pu1_25month_act_histrader_reindex.txt (4947 total) and ./differential_peaks/01_pu1_25month_idr_peaks.txt (1601 total)\n",
      "\tComparing ./differential_peaks/01_pu1_25month_idr_peaks.txt (1601 total) and ./annotated_peaks/01_pu1_25month_act_histrader_reindex.txt (4947 total)\n",
      "\tComparing ./differential_peaks/01_pu1_25month_idr_peaks.txt (1601 total) and ./differential_peaks/01_pu1_25month_idr_peaks.txt (1601 total)\n",
      "\n",
      "./annotated_peaks/01_pu1_25month_act_histrader_reindex.txt\t./differential_peaks/01_pu1_25month_idr_peaks.txt\tTotal\tName\n",
      "\tX\t214\t./differential_peaks/01_pu1_25month_idr_peaks.txt\n",
      "X\t\t3346\t./annotated_peaks/01_pu1_25month_act_histrader_reindex.txt\n",
      "X\tX\t1345\t./annotated_peaks/01_pu1_25month_act_histrader_reindex.txt|./differential_peaks/01_pu1_25month_idr_peaks.txt\n"
     ]
    }
   ],
   "source": [
    "%%bash\n",
    "\n",
    "mergePeaks -prefix merge_peaks_output/histrader_25month_all \\\n",
    "./annotated_peaks/01_pu1_25month_act_histrader_reindex.txt \\\n",
    "./differential_peaks/01_pu1_25month_idr_peaks.txt"
   ]
  },
  {
   "cell_type": "code",
   "execution_count": 263,
   "metadata": {},
   "outputs": [
    {
     "name": "stderr",
     "output_type": "stream",
     "text": [
      "\tMax distance to merge: direct overlap required (-d given)\n",
      "\tMerging peaks... \n",
      "\tComparing ./annotated_peaks/01_microglia_H3K27Ac_25months_HisTrader_NFR_H3K27Ac_thresh_1_peak.txt (4229 total) and ./annotated_peaks/01_microglia_H3K27Ac_25months_HisTrader_NFR_H3K27Ac_thresh_1_peak.txt (4229 total)\n",
      "\tComparing ./annotated_peaks/01_microglia_H3K27Ac_25months_HisTrader_NFR_H3K27Ac_thresh_1_peak.txt (4229 total) and ./differential_peaks/01_pu1_25month_idr_peaks.txt (1601 total)\n",
      "\tComparing ./differential_peaks/01_pu1_25month_idr_peaks.txt (1601 total) and ./annotated_peaks/01_microglia_H3K27Ac_25months_HisTrader_NFR_H3K27Ac_thresh_1_peak.txt (4229 total)\n",
      "\tComparing ./differential_peaks/01_pu1_25month_idr_peaks.txt (1601 total) and ./differential_peaks/01_pu1_25month_idr_peaks.txt (1601 total)\n",
      "\n",
      "./annotated_peaks/01_microglia_H3K27Ac_25months_HisTrader_NFR_H3K27Ac_thresh_1_peak.txt\t./differential_peaks/01_pu1_25month_idr_peaks.txt\tTotal\tName\n",
      "\tX\t301\t./differential_peaks/01_pu1_25month_idr_peaks.txt\n",
      "X\t\t2731\t./annotated_peaks/01_microglia_H3K27Ac_25months_HisTrader_NFR_H3K27Ac_thresh_1_peak.txt\n",
      "X\tX\t1264\t./annotated_peaks/01_microglia_H3K27Ac_25months_HisTrader_NFR_H3K27Ac_thresh_1_peak.txt|./differential_peaks/01_pu1_25month_idr_peaks.txt\n"
     ]
    }
   ],
   "source": [
    "%%bash\n",
    "\n",
    "mergePeaks -prefix merge_peaks_output/histrader_25month_01 \\\n",
    "./annotated_peaks/01_microglia_H3K27Ac_25months_HisTrader_NFR_H3K27Ac_thresh_1_peak.txt \\\n",
    "./differential_peaks/01_pu1_25month_idr_peaks.txt"
   ]
  },
  {
   "cell_type": "code",
   "execution_count": 264,
   "metadata": {},
   "outputs": [
    {
     "name": "stderr",
     "output_type": "stream",
     "text": [
      "\tMax distance to merge: direct overlap required (-d given)\n",
      "\tMerging peaks... \n",
      "\tComparing ./annotated_peaks/01_microglia_H3K27Ac_25months_HisTrader_NFR_H3K27Ac_thresh_2_peak.txt (3097 total) and ./annotated_peaks/01_microglia_H3K27Ac_25months_HisTrader_NFR_H3K27Ac_thresh_2_peak.txt (3097 total)\n",
      "\tComparing ./annotated_peaks/01_microglia_H3K27Ac_25months_HisTrader_NFR_H3K27Ac_thresh_2_peak.txt (3097 total) and ./differential_peaks/01_pu1_25month_idr_peaks.txt (1601 total)\n",
      "\tComparing ./differential_peaks/01_pu1_25month_idr_peaks.txt (1601 total) and ./annotated_peaks/01_microglia_H3K27Ac_25months_HisTrader_NFR_H3K27Ac_thresh_2_peak.txt (3097 total)\n",
      "\tComparing ./differential_peaks/01_pu1_25month_idr_peaks.txt (1601 total) and ./differential_peaks/01_pu1_25month_idr_peaks.txt (1601 total)\n",
      "\n",
      "./annotated_peaks/01_microglia_H3K27Ac_25months_HisTrader_NFR_H3K27Ac_thresh_2_peak.txt\t./differential_peaks/01_pu1_25month_idr_peaks.txt\tTotal\tName\n",
      "\tX\t520\t./differential_peaks/01_pu1_25month_idr_peaks.txt\n",
      "X\t\t1877\t./annotated_peaks/01_microglia_H3K27Ac_25months_HisTrader_NFR_H3K27Ac_thresh_2_peak.txt\n",
      "X\tX\t1055\t./annotated_peaks/01_microglia_H3K27Ac_25months_HisTrader_NFR_H3K27Ac_thresh_2_peak.txt|./differential_peaks/01_pu1_25month_idr_peaks.txt\n"
     ]
    }
   ],
   "source": [
    "%%bash\n",
    "\n",
    "mergePeaks -prefix merge_peaks_output/histrader_25month_02 \\\n",
    "./annotated_peaks/01_microglia_H3K27Ac_25months_HisTrader_NFR_H3K27Ac_thresh_2_peak.txt \\\n",
    "./differential_peaks/01_pu1_25month_idr_peaks.txt"
   ]
  },
  {
   "cell_type": "code",
   "execution_count": 265,
   "metadata": {},
   "outputs": [
    {
     "name": "stderr",
     "output_type": "stream",
     "text": [
      "\tMax distance to merge: direct overlap required (-d given)\n",
      "\tMerging peaks... \n",
      "\tComparing ./annotated_peaks/01_microglia_H3K27Ac_25months_HisTrader_NFR_H3K27Ac_thresh_4_peak.txt (1461 total) and ./annotated_peaks/01_microglia_H3K27Ac_25months_HisTrader_NFR_H3K27Ac_thresh_4_peak.txt (1461 total)\n",
      "\tComparing ./annotated_peaks/01_microglia_H3K27Ac_25months_HisTrader_NFR_H3K27Ac_thresh_4_peak.txt (1461 total) and ./differential_peaks/01_pu1_25month_idr_peaks.txt (1601 total)\n",
      "\tComparing ./differential_peaks/01_pu1_25month_idr_peaks.txt (1601 total) and ./annotated_peaks/01_microglia_H3K27Ac_25months_HisTrader_NFR_H3K27Ac_thresh_4_peak.txt (1461 total)\n",
      "\tComparing ./differential_peaks/01_pu1_25month_idr_peaks.txt (1601 total) and ./differential_peaks/01_pu1_25month_idr_peaks.txt (1601 total)\n",
      "\n",
      "./annotated_peaks/01_microglia_H3K27Ac_25months_HisTrader_NFR_H3K27Ac_thresh_4_peak.txt\t./differential_peaks/01_pu1_25month_idr_peaks.txt\tTotal\tName\n",
      "\tX\t994\t./differential_peaks/01_pu1_25month_idr_peaks.txt\n",
      "X\t\t791\t./annotated_peaks/01_microglia_H3K27Ac_25months_HisTrader_NFR_H3K27Ac_thresh_4_peak.txt\n",
      "X\tX\t595\t./annotated_peaks/01_microglia_H3K27Ac_25months_HisTrader_NFR_H3K27Ac_thresh_4_peak.txt|./differential_peaks/01_pu1_25month_idr_peaks.txt\n"
     ]
    }
   ],
   "source": [
    "%%bash\n",
    "\n",
    "mergePeaks -prefix merge_peaks_output/histrader_25month_04 \\\n",
    "./annotated_peaks/01_microglia_H3K27Ac_25months_HisTrader_NFR_H3K27Ac_thresh_4_peak.txt \\\n",
    "./differential_peaks/01_pu1_25month_idr_peaks.txt"
   ]
  },
  {
   "cell_type": "code",
   "execution_count": 266,
   "metadata": {},
   "outputs": [
    {
     "name": "stderr",
     "output_type": "stream",
     "text": [
      "\tMax distance to merge: direct overlap required (-d given)\n",
      "\tMerging peaks... \n",
      "\tComparing ./annotated_peaks/01_microglia_H3K27Ac_25months_HisTrader_NFR_H3K27Ac_thresh_8_peak.txt (387 total) and ./annotated_peaks/01_microglia_H3K27Ac_25months_HisTrader_NFR_H3K27Ac_thresh_8_peak.txt (387 total)\n",
      "\tComparing ./annotated_peaks/01_microglia_H3K27Ac_25months_HisTrader_NFR_H3K27Ac_thresh_8_peak.txt (387 total) and ./differential_peaks/01_pu1_25month_idr_peaks.txt (1601 total)\n",
      "\tComparing ./differential_peaks/01_pu1_25month_idr_peaks.txt (1601 total) and ./annotated_peaks/01_microglia_H3K27Ac_25months_HisTrader_NFR_H3K27Ac_thresh_8_peak.txt (387 total)\n",
      "\tComparing ./differential_peaks/01_pu1_25month_idr_peaks.txt (1601 total) and ./differential_peaks/01_pu1_25month_idr_peaks.txt (1601 total)\n",
      "\n",
      "./annotated_peaks/01_microglia_H3K27Ac_25months_HisTrader_NFR_H3K27Ac_thresh_8_peak.txt\t./differential_peaks/01_pu1_25month_idr_peaks.txt\tTotal\tName\n",
      "\tX\t1426\t./differential_peaks/01_pu1_25month_idr_peaks.txt\n",
      "X\t\t200\t./annotated_peaks/01_microglia_H3K27Ac_25months_HisTrader_NFR_H3K27Ac_thresh_8_peak.txt\n",
      "X\tX\t171\t./annotated_peaks/01_microglia_H3K27Ac_25months_HisTrader_NFR_H3K27Ac_thresh_8_peak.txt|./differential_peaks/01_pu1_25month_idr_peaks.txt\n"
     ]
    }
   ],
   "source": [
    "%%bash\n",
    "\n",
    "mergePeaks -prefix merge_peaks_output/histrader_25month_08 \\\n",
    "./annotated_peaks/01_microglia_H3K27Ac_25months_HisTrader_NFR_H3K27Ac_thresh_8_peak.txt \\\n",
    "./differential_peaks/01_pu1_25month_idr_peaks.txt"
   ]
  },
  {
   "cell_type": "code",
   "execution_count": 267,
   "metadata": {},
   "outputs": [
    {
     "name": "stderr",
     "output_type": "stream",
     "text": [
      "\tMax distance to merge: direct overlap required (-d given)\n",
      "\tMerging peaks... \n",
      "\tComparing ./annotated_peaks/01_microglia_H3K27Ac_25months_HisTrader_NFR_H3K27Ac_thresh_16_peak.txt (42 total) and ./annotated_peaks/01_microglia_H3K27Ac_25months_HisTrader_NFR_H3K27Ac_thresh_16_peak.txt (42 total)\n",
      "\tComparing ./annotated_peaks/01_microglia_H3K27Ac_25months_HisTrader_NFR_H3K27Ac_thresh_16_peak.txt (42 total) and ./differential_peaks/01_pu1_25month_idr_peaks.txt (1601 total)\n",
      "\tComparing ./differential_peaks/01_pu1_25month_idr_peaks.txt (1601 total) and ./annotated_peaks/01_microglia_H3K27Ac_25months_HisTrader_NFR_H3K27Ac_thresh_16_peak.txt (42 total)\n",
      "\tComparing ./differential_peaks/01_pu1_25month_idr_peaks.txt (1601 total) and ./differential_peaks/01_pu1_25month_idr_peaks.txt (1601 total)\n",
      "\n",
      "./annotated_peaks/01_microglia_H3K27Ac_25months_HisTrader_NFR_H3K27Ac_thresh_16_peak.txt\t./differential_peaks/01_pu1_25month_idr_peaks.txt\tTotal\tName\n",
      "\tX\t1586\t./differential_peaks/01_pu1_25month_idr_peaks.txt\n",
      "X\t\t26\t./annotated_peaks/01_microglia_H3K27Ac_25months_HisTrader_NFR_H3K27Ac_thresh_16_peak.txt\n",
      "X\tX\t14\t./annotated_peaks/01_microglia_H3K27Ac_25months_HisTrader_NFR_H3K27Ac_thresh_16_peak.txt|./differential_peaks/01_pu1_25month_idr_peaks.txt\n"
     ]
    }
   ],
   "source": [
    "%%bash\n",
    "\n",
    "mergePeaks -prefix merge_peaks_output/histrader_25month_16 \\\n",
    "./annotated_peaks/01_microglia_H3K27Ac_25months_HisTrader_NFR_H3K27Ac_thresh_16_peak.txt \\\n",
    "./differential_peaks/01_pu1_25month_idr_peaks.txt"
   ]
  },
  {
   "cell_type": "code",
   "execution_count": 268,
   "metadata": {},
   "outputs": [
    {
     "name": "stderr",
     "output_type": "stream",
     "text": [
      "\tMax distance to merge: direct overlap required (-d given)\n",
      "\tMerging peaks... \n",
      "\tComparing ./annotated_peaks/01_microglia_H3K27Ac_25months_HisTrader_NFR_H3K27Ac_thresh_32_peak.txt (0 total) and ./annotated_peaks/01_microglia_H3K27Ac_25months_HisTrader_NFR_H3K27Ac_thresh_32_peak.txt (0 total)\n",
      "\tComparing ./annotated_peaks/01_microglia_H3K27Ac_25months_HisTrader_NFR_H3K27Ac_thresh_32_peak.txt (0 total) and ./differential_peaks/01_pu1_25month_idr_peaks.txt (1601 total)\n",
      "\tComparing ./differential_peaks/01_pu1_25month_idr_peaks.txt (1601 total) and ./annotated_peaks/01_microglia_H3K27Ac_25months_HisTrader_NFR_H3K27Ac_thresh_32_peak.txt (0 total)\n",
      "\tComparing ./differential_peaks/01_pu1_25month_idr_peaks.txt (1601 total) and ./differential_peaks/01_pu1_25month_idr_peaks.txt (1601 total)\n",
      "\n",
      "./annotated_peaks/01_microglia_H3K27Ac_25months_HisTrader_NFR_H3K27Ac_thresh_32_peak.txt\t./differential_peaks/01_pu1_25month_idr_peaks.txt\tTotal\tName\n",
      "\tX\t1601\t./differential_peaks/01_pu1_25month_idr_peaks.txt\n"
     ]
    }
   ],
   "source": [
    "%%bash\n",
    "\n",
    "mergePeaks -prefix merge_peaks_output/histrader_25month_32 \\\n",
    "./annotated_peaks/01_microglia_H3K27Ac_25months_HisTrader_NFR_H3K27Ac_thresh_32_peak.txt \\\n",
    "./differential_peaks/01_pu1_25month_idr_peaks.txt"
   ]
  },
  {
   "cell_type": "code",
   "execution_count": 269,
   "metadata": {},
   "outputs": [
    {
     "name": "stderr",
     "output_type": "stream",
     "text": [
      "\tMax distance to merge: direct overlap required (-d given)\n",
      "\tMerging peaks... \n",
      "\tComparing ./annotated_peaks/01_microglia_H3K27Ac_25months_HisTrader_NFR_H3K27Ac_thresh_64_peak.txt (0 total) and ./annotated_peaks/01_microglia_H3K27Ac_25months_HisTrader_NFR_H3K27Ac_thresh_64_peak.txt (0 total)\n",
      "\tComparing ./annotated_peaks/01_microglia_H3K27Ac_25months_HisTrader_NFR_H3K27Ac_thresh_64_peak.txt (0 total) and ./differential_peaks/01_pu1_25month_idr_peaks.txt (1601 total)\n",
      "\tComparing ./differential_peaks/01_pu1_25month_idr_peaks.txt (1601 total) and ./annotated_peaks/01_microglia_H3K27Ac_25months_HisTrader_NFR_H3K27Ac_thresh_64_peak.txt (0 total)\n",
      "\tComparing ./differential_peaks/01_pu1_25month_idr_peaks.txt (1601 total) and ./differential_peaks/01_pu1_25month_idr_peaks.txt (1601 total)\n",
      "\n",
      "./annotated_peaks/01_microglia_H3K27Ac_25months_HisTrader_NFR_H3K27Ac_thresh_64_peak.txt\t./differential_peaks/01_pu1_25month_idr_peaks.txt\tTotal\tName\n",
      "\tX\t1601\t./differential_peaks/01_pu1_25month_idr_peaks.txt\n"
     ]
    }
   ],
   "source": [
    "%%bash\n",
    "\n",
    "mergePeaks -prefix merge_peaks_output/histrader_25month_64 \\\n",
    "./annotated_peaks/01_microglia_H3K27Ac_25months_HisTrader_NFR_H3K27Ac_thresh_64_peak.txt \\\n",
    "./differential_peaks/01_pu1_25month_idr_peaks.txt"
   ]
  },
  {
   "cell_type": "code",
   "execution_count": 270,
   "metadata": {},
   "outputs": [
    {
     "name": "stderr",
     "output_type": "stream",
     "text": [
      "\tMax distance to merge: direct overlap required (-d given)\n",
      "\tMerging peaks... \n",
      "\tComparing ./annotated_peaks/01_microglia_H3K27Ac_25months_HisTrader_NFR_H3K27Ac_thresh_128_peak.txt (0 total) and ./annotated_peaks/01_microglia_H3K27Ac_25months_HisTrader_NFR_H3K27Ac_thresh_128_peak.txt (0 total)\n",
      "\tComparing ./annotated_peaks/01_microglia_H3K27Ac_25months_HisTrader_NFR_H3K27Ac_thresh_128_peak.txt (0 total) and ./differential_peaks/01_pu1_25month_idr_peaks.txt (1601 total)\n",
      "\tComparing ./differential_peaks/01_pu1_25month_idr_peaks.txt (1601 total) and ./annotated_peaks/01_microglia_H3K27Ac_25months_HisTrader_NFR_H3K27Ac_thresh_128_peak.txt (0 total)\n",
      "\tComparing ./differential_peaks/01_pu1_25month_idr_peaks.txt (1601 total) and ./differential_peaks/01_pu1_25month_idr_peaks.txt (1601 total)\n",
      "\n",
      "./annotated_peaks/01_microglia_H3K27Ac_25months_HisTrader_NFR_H3K27Ac_thresh_128_peak.txt\t./differential_peaks/01_pu1_25month_idr_peaks.txt\tTotal\tName\n",
      "\tX\t1601\t./differential_peaks/01_pu1_25month_idr_peaks.txt\n"
     ]
    }
   ],
   "source": [
    "%%bash\n",
    "\n",
    "mergePeaks -prefix merge_peaks_output/histrader_25month_128 \\\n",
    "./annotated_peaks/01_microglia_H3K27Ac_25months_HisTrader_NFR_H3K27Ac_thresh_128_peak.txt \\\n",
    "./differential_peaks/01_pu1_25month_idr_peaks.txt"
   ]
  },
  {
   "cell_type": "code",
   "execution_count": 291,
   "metadata": {},
   "outputs": [],
   "source": [
    "total_atac_25months = 1601\n",
    "total_peaks_25months = [4948, 4230, 3098, 1462, 388, 43, 0, 0, 0]\n",
    "overlap_25months = [1346, 1265, 1056, 596, 172, 15, 0, 0, 0]\n",
    "sensitivity_25months = [i / total_atac_25months for i in overlap_25months]"
   ]
  },
  {
   "cell_type": "code",
   "execution_count": 292,
   "metadata": {},
   "outputs": [
    {
     "data": {
      "image/png": "[encoded data removed]",
      "text/plain": [
       "<Figure size 360x360 with 1 Axes>"
      ]
     },
     "metadata": {
      "needs_background": "light"
     },
     "output_type": "display_data"
    }
   ],
   "source": [
    "fig, ax = plt.subplots(figsize=(5,5))\n",
    "\n",
    "ax.scatter(total_peaks_25months,\n",
    "            sensitivity_25months)\n",
    "\n",
    "\n",
    "for i,j,txt in zip(total_peaks_25months, sensitivity_25months, ['All', '1', '2', '4', '8', '16', '32', '64', '128']):\n",
    "    ax.text(x=i,\n",
    "            y=j,\n",
    "            s=txt,\n",
    "            fontdict = {'fontsize':16})\n",
    "    \n",
    "ax.set_title('25 months filter effect');\n",
    "ax.set_ylabel('Sensitivity');\n",
    "ax.set_xlabel('Total peaks');"
   ]
  },
  {
   "cell_type": "code",
   "execution_count": null,
   "metadata": {},
   "outputs": [],
   "source": []
  }
 ],
 "metadata": {
  "kernelspec": {
   "display_name": "dataviz",
   "language": "python",
   "name": "dataviz"
  },
  "language_info": {
   "codemirror_mode": {
    "name": "ipython",
    "version": 3
   },
   "file_extension": ".py",
   "mimetype": "text/x-python",
   "name": "python",
   "nbconvert_exporter": "python",
   "pygments_lexer": "ipython3",
   "version": "3.7.5"
  }
 },
 "nbformat": 4,
 "nbformat_minor": 2
}
