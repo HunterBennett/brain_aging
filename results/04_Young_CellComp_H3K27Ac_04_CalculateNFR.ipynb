{
 "cells": [
  {
   "cell_type": "markdown",
   "metadata": {},
   "source": [
    "Hunter Bennett | Glass Lab | Brain Aging Project | 19 Feb 2021"
   ]
  },
  {
   "cell_type": "markdown",
   "metadata": {},
   "source": [
    "This notebook uses differential peaks called in the previous notebook along with H3K27Ac signal to identify nucleosome free regions within differential H3K27Ac peaks. We currently dont know exactly what method we will use to call motifs but right now three methods are possible:\n",
    "\n",
    "1. Call motifs across 1000bp broad peaks.\n",
    "2. Call motifs on HOMER identified nucleosome free regions.\n",
    "3. Call motifs on HisTrader identified nucleosome free regions.\n",
    "\n",
    "See analysis in microglia for a comparison of the relative benefits of each method, it appears that using HOMER minimizes false positive while using histrader maximizes sensitivity at the cost of more false positives.\n",
    "\n",
    "This notebook does the following.\n",
    "1. Call NFR using histrader  \n",
    "    a. Make bedGraph files from relevant merged tag directories.  \n",
    "    b. use histrader, bedgraphs, and differential peaks to identify NFRs  \n",
    "    c. use histrader and overall variable width peaks to identify background NFRs (takes a long time)\n",
    "    d. use annotatePeaks to rename hisTrader peaks (create unique peakIDs) so that it plays nice with HOMER.       \n",
    "2. Use bedtools to identify HOMER -NFRs that lie within differential peaks."
   ]
  },
  {
   "cell_type": "code",
   "execution_count": 1,
   "metadata": {},
   "outputs": [],
   "source": [
    "### header ###\n",
    "__author__ = \"Hunter Bennett\"\n",
    "__license__ = \"BSD\"\n",
    "__email__ = \"hunter.r.bennett@gmail.com\"\n",
    "%load_ext autoreload\n",
    "%autoreload 2\n",
    "### imports ###\n",
    "import sys\n",
    "%matplotlib inline\n",
    "import os\n",
    "import re\n",
    "import glob\n",
    "import pandas as pd\n",
    "import numpy as np\n",
    "import matplotlib\n",
    "import matplotlib.pyplot as plt \n",
    "import seaborn as sns\n",
    "matplotlib.rcParams['savefig.dpi'] = 200\n",
    "sns.set(font_scale=1)\n",
    "sns.set_context('talk')\n",
    "sns.set_style('white')"
   ]
  },
  {
   "cell_type": "code",
   "execution_count": 2,
   "metadata": {},
   "outputs": [],
   "source": [
    "dataDirectory = '/data/mm10/Brain_MPSIIIA/ChIP/H3K27AC/'\n",
    "inputDirectory = '/data/mm10/Brain_MPSIIIA/ChIP/input/'\n",
    "workingDirectory = '/home/h1bennet/brain_aging/results/04_Young_Cell_H3K27Ac/'\n",
    "if not os.path.isdir(workingDirectory):\n",
    "    os.mkdir(workingDirectory)\n",
    "os.chdir(workingDirectory)"
   ]
  },
  {
   "cell_type": "markdown",
   "metadata": {},
   "source": [
    "# Prep NFR predictions using HisTrader\n",
    "___\n",
    "Histrader requires two inputs to do NFR predictions:\n",
    "1. BedGraph style peak data.\n",
    "2. Bed file \"broadPeaks\" or homer -regions within which to perform NFR predictions.\n",
    "\n",
    "The easiest way to evaluate the NFR predictions in my view is to predict the NFR within differentially acetylated variable width regions as defined by HOMER, we can then compare those as well as the HOMER defined NFR to the ATAC-seq peaks as \"ground truth\""
   ]
  },
  {
   "cell_type": "markdown",
   "metadata": {},
   "source": [
    "## Generate bedGraphs using HOMER\n"
   ]
  },
  {
   "cell_type": "code",
   "execution_count": 4,
   "metadata": {},
   "outputs": [],
   "source": [
    "if not os.path.isdir('./bedGraphs'):\n",
    "    os.mkdir('./bedGraphs')"
   ]
  },
  {
   "cell_type": "markdown",
   "metadata": {},
   "source": [
    "Run the following in command line\n",
    "\n",
    "    makeUCSCfile ./merged_tagdirs/neun_4month/ \\\n",
    "    -o ./bedGraphs/neun_4month.bedGraph\n",
    "\n",
    "    gunzip ./bedGraphs/neun_4month.bedGraph.gz\n",
    "\n",
    "    makeUCSCfile ./merged_tagdirs/olig2_4month/ \\\n",
    "    -o ./bedGraphs/olig2_4month.bedGraph\n",
    "\n",
    "    gunzip ./bedGraphs/olig2_4month.bedGraph.gz\n",
    "\n",
    "    makeUCSCfile ./merged_tagdirs/pu1_4month/ \\\n",
    "    -o ./bedGraphs/pu1_4month.bedGraph\n",
    "\n",
    "    gunzip ./bedGraphs/pu1_4month.bedGraph.gz\n",
    "\n",
    "    makeUCSCfile ./merged_tagdirs/sox9_4month/ \\\n",
    "    -o ./bedGraphs/sox9_4month.bedGraph\n",
    "\n",
    "    gunzip ./bedGraphs/sox9_4month.bedGraph.gz"
   ]
  },
  {
   "cell_type": "markdown",
   "metadata": {},
   "source": [
    "# Convert merged peaks to bed"
   ]
  },
  {
   "cell_type": "code",
   "execution_count": 5,
   "metadata": {},
   "outputs": [],
   "source": [
    "if not os.path.isdir('./merged_bed/'):\n",
    "    os.mkdir('./merged_bed/')"
   ]
  },
  {
   "cell_type": "code",
   "execution_count": 6,
   "metadata": {},
   "outputs": [
    {
     "name": "stderr",
     "output_type": "stream",
     "text": [
      "rm: cannot remove ‘./peak_to_bed_merge.sh’: No such file or directory\n"
     ]
    }
   ],
   "source": [
    "%%bash\n",
    "# delete the existing script file\n",
    "rm ./peak_to_bed_merge.sh\n",
    "# create a script file\n",
    "touch ./peak_to_bed_merge.sh"
   ]
  },
  {
   "cell_type": "code",
   "execution_count": 7,
   "metadata": {},
   "outputs": [],
   "source": [
    "%%bash\n",
    "for peakfile in ./merged_peaks/*txt;\n",
    "do out=${peakfile/.txt/.bed};\n",
    "out=${out/merged_peaks/merged_bed}\n",
    "echo \"pos2bed.pl -o $out $peakfile\" >> ./peak_to_bed_merge.sh\n",
    "done"
   ]
  },
  {
   "cell_type": "markdown",
   "metadata": {},
   "source": [
    "## Run HisTrader"
   ]
  },
  {
   "cell_type": "code",
   "execution_count": 9,
   "metadata": {},
   "outputs": [],
   "source": [
    "if not os.path.isdir('./histrader/'):\n",
    "    os.mkdir('./histrader/')"
   ]
  },
  {
   "cell_type": "markdown",
   "metadata": {},
   "source": [
    "Run HisTrader for specific peaks"
   ]
  },
  {
   "cell_type": "markdown",
   "metadata": {},
   "source": [
    "#### NeuN\n",
    "\n",
    "    perl ~/code/HisTrader/Histrader.pl \\\n",
    "    --bedGraph ./bedGraphs/neun_4month.bedGraph \\\n",
    "    --peaks ./bed_files/neun_union_act_peaks.bed \\\n",
    "    --out ./neun_union_act_peaks_histrader\n",
    "\n",
    "    mv ./neun_union_act_peaks_histrader* /histrader/\n",
    "\n",
    "    perl ~/code/HisTrader/Histrader.pl \\\n",
    "    --bedGraph ./bedGraphs/neun_4month.bedGraph \\\n",
    "    --peaks ./bed_files/neun_intersection_act_peaks.bed \\\n",
    "    --out ./neun_intersection_act_peaks_histrader\n",
    "\n",
    "    mv ./neun_intersection_act_peaks_histrader* /histrader/\n",
    "\n",
    "#### Olig2\n",
    "\n",
    "    perl ~/code/HisTrader/Histrader.pl \\\n",
    "    --bedGraph ./bedGraphs/olig2_4month.bedGraph \\\n",
    "    --peaks ./bed_files/olig2_union_act_peaks.bed \\\n",
    "    --out ./olig2_union_act_peaks_histrader\n",
    "\n",
    "    mv ./olig2_union_act_peaks_histrader* /histrader/\n",
    "\n",
    "    perl ~/code/HisTrader/Histrader.pl \\\n",
    "    --bedGraph ./bedGraphs/olig2_4month.bedGraph \\\n",
    "    --peaks ./bed_files/olig2_intersection_act_peaks.bed \\\n",
    "    --out ./olig2_intersection_act_peaks_histrader\n",
    "\n",
    "    mv ./olig2_intersection_act_peaks_histrader* /histrader/\n",
    "\n",
    "#### PU1\n",
    "    \n",
    "    perl ~/code/HisTrader/Histrader.pl \\\n",
    "    --bedGraph ./bedGraphs/pu1_4month.bedGraph \\\n",
    "    --peaks ./bed_files/pu1_union_act_peaks.bed \\\n",
    "    --out ./pu1_union_act_peaks_histrader\n",
    "\n",
    "    mv ./pu1_union_act_peaks_histrader* /histrader/\n",
    "\n",
    "    perl ~/code/HisTrader/Histrader.pl \\\n",
    "    --bedGraph ./bedGraphs/pu1_4month.bedGraph \\\n",
    "    --peaks ./bed_files/pu1_intersection_act_peaks.bed \\\n",
    "    --out ./pu1_intersection_act_peaks_histrader\n",
    "\n",
    "    mv ./pu1_intersection_act_peaks_histrader* /histrader/\n",
    "\n",
    "#### Sox9\n",
    "\n",
    "    perl ~/code/HisTrader/Histrader.pl \\\n",
    "    --bedGraph ./bedGraphs/sox9_4month.bedGraph \\\n",
    "    --peaks ./bed_files/sox9_union_act_peaks.bed \\\n",
    "    --out ./sox9_union_act_peaks_histrader\n",
    "\n",
    "    mv ./sox9_union_act_peaks_histrader* /histrader/\n",
    "\n",
    "    perl ~/code/HisTrader/Histrader.pl \\\n",
    "    --bedGraph ./bedGraphs/sox9_4month.bedGraph \\\n",
    "    --peaks ./bed_files/sox9_intersection_act_peaks.bed \\\n",
    "    --out ./sox9_intersection_act_peaks_histrader\n",
    "\n",
    "    mv ./sox9_intersection_act_peaks_histrader* /histrader/"
   ]
  },
  {
   "cell_type": "markdown",
   "metadata": {},
   "source": [
    "Run HisTrader for all peaks"
   ]
  },
  {
   "cell_type": "markdown",
   "metadata": {},
   "source": [
    "#### NeuN\n",
    "\n",
    "    perl ~/code/HisTrader/Histrader.pl \\\n",
    "    --bedGraph ./bedGraphs/neun_4month.bedGraph \\\n",
    "    --peaks ./bed_files/NeuN_4month_vw_peaks_merged.bed \\\n",
    "    --out ./NeuN_4month_vw_peaks_merged_histrader\n",
    "\n",
    "    mv ./NeuN_4month_vw_peaks_merged_histrader* /histrader/\n",
    "\n",
    "#### Olig2\n",
    "\n",
    "    perl ~/code/HisTrader/Histrader.pl \\\n",
    "    --bedGraph ./bedGraphs/olig2_4month.bedGraph \\\n",
    "    --peaks ./bed_files/Olig2_4month_vw_peaks_merged.bed \\\n",
    "    --out ./Olig2_4month_vw_peaks_merged_histrader\n",
    "\n",
    "    mv ./Olig2_4month_vw_peaks_merged_histrader* /histrader/\n",
    "\n",
    "\n",
    "#### PU1\n",
    "    \n",
    "    perl ~/code/HisTrader/Histrader.pl \\\n",
    "    --bedGraph ./bedGraphs/pu1_4month.bedGraph \\\n",
    "    --peaks ./bed_files/PU1_4month_vw_peaks_merged.bed \\\n",
    "    --out ./PU1_4month_vw_peaks_merged_histrader\n",
    "\n",
    "    mv ./PU1_4month_vw_peaks_merged_histrader* /histrader/\n",
    "\n",
    "#### Sox9\n",
    "\n",
    "    perl ~/code/HisTrader/Histrader.pl \\\n",
    "    --bedGraph ./bedGraphs/sox9_4month.bedGraph \\\n",
    "    --peaks ./bed_files/SOX9_4month_vw_peaks_merged.bed \\\n",
    "    --out ./SOX9_4month_vw_peaks_merged_histrader\n",
    "\n",
    "    mv ./SOX9_4month_vw_peaks_merged_histrader* /histrader/\n"
   ]
  },
  {
   "cell_type": "code",
   "execution_count": null,
   "metadata": {},
   "outputs": [],
   "source": [
    "%%bash\n",
    "\n",
    "perl ~/code/HisTrader/Histrader.pl \\\n",
    "--bedGraph ./bedGraphs/05_PU1_4month_ChIP_H3K27Ac_merged.bedGraph \\\n",
    "--peaks ./bed_files/05_PU1_4month_vw_peaks_merged.bed \\\n",
    "--out ./00_pu1_4month_bg_histrader\n",
    "\n",
    "mv ./00_pu1_4month_bg_histrader* ./4month_vs_25month/histrader/\n",
    "\n",
    "perl ~/code/HisTrader/Histrader.pl \\\n",
    "--bedGraph ./bedGraphs/07_PU1_20MonthPlus_ChIP_H3K27Ac_merged.bedGraph \\\n",
    "--peaks ./bed_files/07_PU1_20MonthPlus_vw_peaks_merged.bed \\\n",
    "--out ./01_pu1_25month_bg_histrader\n",
    "\n",
    "mv ./01_pu1_25month_bg_histrader* ./4month_vs_25month/histrader/"
   ]
  },
  {
   "cell_type": "markdown",
   "metadata": {},
   "source": [
    "I suppose we might have to run hisTrader on all peaks in the samples to get a reliable background set."
   ]
  },
  {
   "cell_type": "markdown",
   "metadata": {},
   "source": [
    "# post-processing so these play nice with HOMER\n",
    "___\n",
    "Unfortunately the Histrader peaks are not uniquely named - they instead retain the name of the original broadPeak that they come from.. so we need to convert them so we can easily trace motifs back to particular peaks"
   ]
  },
  {
   "cell_type": "code",
   "execution_count": null,
   "metadata": {},
   "outputs": [],
   "source": [
    "%%bash\n",
    "\n",
    "annotatePeaks.pl ./4month_vs_25month/histrader/00_neun_4month_act_histrader.nfr.bed mm10 \\\n",
    "-size given > ./4month_vs_25month/histrader/00_neun_4month_act_histrader.nfr.txt\n",
    "\n",
    "annotatePeaks.pl ./4month_vs_25month/histrader/01_neun_25month_act_histrader.nfr.bed mm10 \\\n",
    "-size given > ./4month_vs_25month/histrader/01_neun_25month_act_histrader.nfr.txt"
   ]
  },
  {
   "cell_type": "markdown",
   "metadata": {},
   "source": [
    "# Select HOMER NFRs"
   ]
  },
  {
   "cell_type": "markdown",
   "metadata": {},
   "source": [
    "Since we have already made the bed files this is just a simple intersect command."
   ]
  },
  {
   "cell_type": "code",
   "execution_count": 11,
   "metadata": {},
   "outputs": [
    {
     "name": "stdout",
     "output_type": "stream",
     "text": [
      "00_pu1_4month_union_act_peaks.bed  01_pu1_25month_union_act_peaks.bed\r\n"
     ]
    }
   ],
   "source": [
    "!ls ./4month_vs_25month/bed_files/"
   ]
  },
  {
   "cell_type": "code",
   "execution_count": 13,
   "metadata": {},
   "outputs": [],
   "source": [
    "if not os.path.isdir('./4month_vs_25month/homer_nfr/'):\n",
    "    os.mkdir('./4month_vs_25month/homer_nfr/')"
   ]
  },
  {
   "cell_type": "code",
   "execution_count": 14,
   "metadata": {},
   "outputs": [],
   "source": [
    "%%bash\n",
    "\n",
    "bedtools intersect -wa -a ./merged_bed/05_PU1_4month_nfr_peaks_merged.bed \\\n",
    "-b ./4month_vs_25month/bed_files/00_pu1_4month_union_act_peaks.bed \\\n",
    "> ./4month_vs_25month/homer_nfr/00_pu1_4month_homer_nfr_act_peaks.bed\n",
    "\n",
    "bedtools intersect -wa -a ./merged_bed/07_PU1_20MonthPlus_nfr_peaks_merged.bed \\\n",
    "-b ./4month_vs_25month/bed_files/01_pu1_25month_union_act_peaks.bed \\\n",
    "> ./4month_vs_25month/homer_nfr/01_pu1_25month_homer_nfr_act_peaks.bed"
   ]
  },
  {
   "cell_type": "code",
   "execution_count": null,
   "metadata": {},
   "outputs": [],
   "source": []
  }
 ],
 "metadata": {
  "kernelspec": {
   "display_name": "dataviz",
   "language": "python",
   "name": "dataviz"
  },
  "language_info": {
   "codemirror_mode": {
    "name": "ipython",
    "version": 3
   },
   "file_extension": ".py",
   "mimetype": "text/x-python",
   "name": "python",
   "nbconvert_exporter": "python",
   "pygments_lexer": "ipython3",
   "version": "3.7.5"
  }
 },
 "nbformat": 4,
 "nbformat_minor": 2
}
