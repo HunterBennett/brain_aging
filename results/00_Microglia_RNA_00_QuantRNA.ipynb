{
 "cells": [
  {
   "cell_type": "code",
   "execution_count": 2,
   "metadata": {},
   "outputs": [],
   "source": [
    "### header ###\n",
    "__author__ = \"Hunter Bennett\"\n",
    "__license__ = \"BSD\"\n",
    "__email__ = \"hunter.r.bennett@gmail.com\"\n",
    "%load_ext autoreload\n",
    "%autoreload 2\n",
    "%matplotlib inline\n",
    "### imports ###\n",
    "import sys\n",
    "import os\n",
    "import re\n",
    "import glob\n",
    "import pandas as pd\n",
    "import numpy as np\n",
    "import matplotlib\n",
    "import matplotlib.pyplot as plt \n",
    "import seaborn as sns\n",
    "\n",
    "matplotlib.rcParams['savefig.dpi'] = 200\n",
    "sys.setrecursionlimit(3000)\n",
    "sns.set(font_scale=1)\n",
    "sns.set_context('talk')\n",
    "sns.set_style('white')\n",
    "\n",
    "# import custom functions\n",
    "sys.path.insert(0, '/home/h1bennet/code/')\n",
    "from hbUtils import ngs_qc, quantile_normalize_df\n",
    "from homer_preprocessing import read_homer_gene_exp, import_homer_diffgene, pull_comparisons_get_diff\n",
    "from plotting_scripts import label_point, pca_rpkm_mat, get_diff_volcano, plot_exp_rpkm, gene_list_bar_plot"
   ]
  },
  {
   "cell_type": "code",
   "execution_count": 3,
   "metadata": {},
   "outputs": [],
   "source": [
    "workingDirectory = '/home/h1bennet/brain_aging/results/00_Microglia_RNA/'\n",
    "dataDirectory = '/data/mm10/Brain_MPSIIIA/RNA/Microglia/WT/'\n",
    "if not os.path.isdir(workingDirectory):\n",
    "    os.mkdir(workingDirectory)\n",
    "os.chdir(workingDirectory)\n"
   ]
  },
  {
   "cell_type": "markdown",
   "metadata": {},
   "source": [
    "# Run Oyoung's pipeline to process RNA-seq data consistantly."
   ]
  },
  {
   "cell_type": "code",
   "execution_count": 22,
   "metadata": {},
   "outputs": [],
   "source": [
    "p21days_paths = [dataDirectory+'mouse_Bl6_WT_M_P21_Microglia_RNA_1_JOS_ATTCCT',\n",
    "                 dataDirectory+'mouse_Bl6_WT_M_P21_Microglia_RNA_2_JOS_GTGGCC',\n",
    "                 dataDirectory+'mouse_Bl6_WT_M_P21_Microglia_RNA_3_JOS_ACAGTG',\n",
    "                 dataDirectory+'mouse_Bl6_WT_M_P21_Microglia_RNA_4_JOS_CTTGTA']\n",
    "\n",
    "# p6weeks_paths = [dataDirectory+'mouse_Bl6_WT_M_6weeks_Microglia_RNA_1_JOS_BC',\n",
    "#                  dataDirectory+'mouse_Bl6_WT_M_6weeks_Microglia_RNA_2_JOS_BC',\n",
    "#                  dataDirectory+'mouse_Bl6_WT_M_6weeks_Microglia_RNA_3_JOS_BC']\n",
    "\n",
    "p4months_paths = [dataDirectory+'mouse_Bl6_WT_F_4months_Microglia_RNA_1_JOS_GTAGAG',\n",
    "                  dataDirectory+'mouse_Bl6_WT_M_4months_Microglia_RNA_2_JOS_GTGGCC',\n",
    "                  dataDirectory+'mouse_MPSIIIAhet_M_microglia_RNA_4month_19212_AL_l20190515_GTGGCC']\n",
    "\n",
    "p8months_paths = [dataDirectory+'mouse_Bl6_WT_M_8months_Microglia_RNA_1_JOS_CACCGG',\n",
    "                  dataDirectory+'mouse_Bl6_WT_M_8months_Microglia_RNA_2_JOS_CATGGC']\n",
    "\n",
    "p21months_paths = [dataDirectory+'C57_Microglia_RNA_PolyA_WT_21Months_DGO_150721_DGO_15_08_21',\n",
    "                   dataDirectory+'C57_Microglia_RNA_PolyA_WT_22Months_DGO_15_04_06']\n",
    "\n",
    "p24months_paths = [dataDirectory+'mouse_Bl6_WT_M_24months_Microglia_RNA_1_JOS_AGTTCC',\n",
    "                   dataDirectory+'mouse_Bl6_WT_M_26months_Microglia_RNA_1_JOS_CAGATC',\n",
    "                   dataDirectory+'mouse_Bl6_WT_M_26months_Microglia_RNA_2_JOS_CTTGTA']"
   ]
  },
  {
   "cell_type": "code",
   "execution_count": 23,
   "metadata": {},
   "outputs": [],
   "source": [
    "p21days_ids = ['rep1', 'rep2', 'rep3', 'rep4']\n",
    "# p6weeks_ids = ['rep1', 'rep2', 'rep3']\n",
    "p4months_ids = ['rep1', 'rep2', 'rep3']\n",
    "p8months_ids = ['rep1', 'rep2']\n",
    "p21months_ids = ['rep1', 'rep2']\n",
    "p24months_ids = ['rep1', 'rep2', 'rep3']"
   ]
  },
  {
   "cell_type": "code",
   "execution_count": 25,
   "metadata": {},
   "outputs": [],
   "source": [
    "ids = ['microglia_p21days',\n",
    "       'microglia_p4months',\n",
    "       'microglia_p8months',\n",
    "       'microglia_p21months',\n",
    "       'microglia_p24months']\n",
    "       \n",
    "colors = [matplotlib.colors.rgb2hex(reds(.4)),\n",
    "          matplotlib.colors.rgb2hex(reds(.5)),\n",
    "          matplotlib.colors.rgb2hex(reds(.6)),\n",
    "          matplotlib.colors.rgb2hex(reds(.7)),\n",
    "          matplotlib.colors.rgb2hex(reds(.8))]\n",
    "       \n",
    "paths = [';'.join(p21days_paths),\n",
    "         ';'.join(p4months_paths),\n",
    "         ';'.join(p8months_paths),\n",
    "         ';'.join(p21months_paths),\n",
    "         ';'.join(p24months_paths)]\n",
    "       \n",
    "short_ids = [';'.join([ids[0]+'_'+i for i in p21days_ids]),\n",
    "             ';'.join([ids[1]+'_'+i for i in p4months_ids]),\n",
    "             ';'.join([ids[2]+'_'+i for i in p8months_ids]),\n",
    "             ';'.join([ids[3]+'_'+i for i in p21months_ids]),\n",
    "             ';'.join([ids[4]+'_'+i for i in p24months_ids])]"
   ]
  },
  {
   "cell_type": "code",
   "execution_count": 26,
   "metadata": {},
   "outputs": [
    {
     "name": "stdout",
     "output_type": "stream",
     "text": [
      "[3, 2, 1, 1, 2]\n",
      "[3, 2, 1, 1, 2]\n"
     ]
    }
   ],
   "source": [
    "print([i.count(';') for i in paths])\n",
    "print([i.count(';') for i in short_ids])"
   ]
  },
  {
   "cell_type": "code",
   "execution_count": 27,
   "metadata": {},
   "outputs": [],
   "source": [
    "pd.DataFrame([ids,colors,paths,short_ids]).T.to_csv('./sampleDef.txt',\n",
    "                                                    sep='\\t',\n",
    "                                                    header=False,\n",
    "                                                    index=False)"
   ]
  },
  {
   "cell_type": "markdown",
   "metadata": {},
   "source": [
    "# Take a look at the qc"
   ]
  },
  {
   "cell_type": "code",
   "execution_count": 33,
   "metadata": {},
   "outputs": [],
   "source": [
    "directories = [p21days_paths,\n",
    "               p4months_paths,\n",
    "               p8months_paths,\n",
    "               p21months_paths,\n",
    "               p24months_paths]\n",
    "\n",
    "unlist_dir = []\n",
    "for i in directories:\n",
    "    for j in i:\n",
    "        unlist_dir.append(j)"
   ]
  },
  {
   "cell_type": "code",
   "execution_count": 36,
   "metadata": {},
   "outputs": [],
   "source": [
    "with open('./makeHub.sh', 'w') as f:\n",
    "    hubcall = ['makeMultiWigHub.pl hrb_BrainAging_QC_Microglia_RNA mm10',\n",
    "               '-gradient 252,146,114 153,0,13',\n",
    "               '-d \\\\\\n', ' \\\\\\n'.join(unlist_dir)]\n",
    "    \n",
    "    f.write(' '.join(hubcall))\n",
    "        "
   ]
  },
  {
   "cell_type": "markdown",
   "metadata": {},
   "source": [
    "# Run O'young RNA pipeline"
   ]
  },
  {
   "cell_type": "markdown",
   "metadata": {},
   "source": [
    "Run the code below in BASH\n",
    "\n",
    "    source activate r-ouyangPipe\n",
    "    \n",
    "    mkdir ./expression/\n",
    "    \n",
    "    mkdir ./differential/\n",
    "    \n",
    "    rnaQuan.R ./sampleDef.txt -o ./expression/"
   ]
  },
  {
   "cell_type": "markdown",
   "metadata": {},
   "source": [
    "### Make sure to check the PCA pdf file for outliers\n",
    "two of the 6 week samples are too clonal for use (clonality > 15)"
   ]
  },
  {
   "cell_type": "code",
   "execution_count": null,
   "metadata": {},
   "outputs": [],
   "source": []
  }
 ],
 "metadata": {
  "kernelspec": {
   "display_name": "dataviz",
   "language": "python",
   "name": "dataviz"
  },
  "language_info": {
   "codemirror_mode": {
    "name": "ipython",
    "version": 3
   },
   "file_extension": ".py",
   "mimetype": "text/x-python",
   "name": "python",
   "nbconvert_exporter": "python",
   "pygments_lexer": "ipython3",
   "version": "3.7.5"
  }
 },
 "nbformat": 4,
 "nbformat_minor": 2
}
