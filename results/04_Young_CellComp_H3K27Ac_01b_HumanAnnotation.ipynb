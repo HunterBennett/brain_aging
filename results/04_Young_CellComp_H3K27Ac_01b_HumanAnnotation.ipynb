{
 "cells": [
  {
   "cell_type": "code",
   "execution_count": 2,
   "metadata": {},
   "outputs": [],
   "source": [
    "### header ###\n",
    "__author__ = \"Hunter Bennett\"\n",
    "__license__ = \"BSD\"\n",
    "__email__ = \"hunter.r.bennett@gmail.com\"\n",
    "%load_ext autoreload\n",
    "%autoreload 2\n",
    "### imports ###\n",
    "import sys\n",
    "%matplotlib inline\n",
    "import os\n",
    "import re\n",
    "import glob\n",
    "import pandas as pd\n",
    "import numpy as np\n",
    "import matplotlib\n",
    "import matplotlib.pyplot as plt \n",
    "import seaborn as sns\n",
    "matplotlib.rcParams['savefig.dpi'] = 200\n",
    "sns.set(font_scale=1)\n",
    "sns.set_context('talk')\n",
    "sns.set_style('white')\n",
    "\n",
    "# import custom functions\n",
    "import sys\n",
    "sys.path.insert(0, '/home/h1bennet/code/')\n",
    "from hbUtils import ngs_qc, quantile_normalize_df\n",
    "from plotting_scripts import label_point, pca_rpkm_mat\n",
    "from homer_preprocessing import read_annotated_peaks"
   ]
  },
  {
   "cell_type": "markdown",
   "metadata": {},
   "source": [
    "Inge's annotate peak files located:\n",
    "\n",
    "    /home/iholtman/nuclei_project/annotation_files/annotation_18_7_2019\n",
    "\n",
    "The file that might work:\n",
    "\n",
    "    annotated_peaks_tss_with_pooled_tagdirs_H3K27ac_norm.txt"
   ]
  },
  {
   "cell_type": "markdown",
   "metadata": {},
   "source": [
    "Set working directory"
   ]
  },
  {
   "cell_type": "code",
   "execution_count": 3,
   "metadata": {},
   "outputs": [],
   "source": [
    "dataDirectory = '/data/mm10/Brain_MPSIIIA/ChIP/H3K27AC/'\n",
    "inputDirectory = '/data/mm10/Brain_MPSIIIA/ChIP/input/'\n",
    "workingDirectory = '/home/h1bennet/brain_aging/results/04_Young_Cell_H3K27Ac/'\n",
    "if not os.path.isdir(workingDirectory):\n",
    "    os.mkdir(workingDirectory)\n",
    "os.chdir(workingDirectory)"
   ]
  },
  {
   "cell_type": "markdown",
   "metadata": {},
   "source": [
    "read in color scheme dictionary"
   ]
  },
  {
   "cell_type": "code",
   "execution_count": 4,
   "metadata": {},
   "outputs": [],
   "source": [
    "hex_dict={}\n",
    "rgb_dict={}\n",
    "for line in open('/gpfs/data01/glasslab/home/h1bennet/brain_aging/data/brain_aging_color_table.txt','r'):\n",
    "    split = line.strip().replace('\\ufeff','').split('\\t')\n",
    "    # split2 = split[1]\n",
    "    hex_dict[split[0]] = split[1]\n",
    "    rgb_dict[split[0]] = split[2]    "
   ]
  },
  {
   "cell_type": "code",
   "execution_count": 5,
   "metadata": {},
   "outputs": [],
   "source": [
    "tagdirs = ['/data/hg19/Nuclei/ChIP/H3K27ac/human_P63_LHX2nuclei_ChIP_H3K27ac_epilepsy_AN_l20181025_GATCAG_trimmed_combined',\n",
    "           '/data/hg19/Nuclei/ChIP/H3K27ac/human_P70_LHX2nuclei_ChIP_H3K27ac_epilepsy_AN_l20180912_GTGGCC_trimmed_combined',\n",
    "           '/data/hg19/Nuclei/ChIP/H3K27ac/human_P78_LHX2nuclei_ChIP_H3K27ac_epilepsy_AN_l20190111_TACAGC_trimmed_combined',\n",
    "           '/data/hg19/Nuclei/ChIP/H3K27ac/human_P63_NeuNnuclei_ChIP_H3K27ac_epilepsy_AN_l20180724_CGATGT_trimmed_combined',\n",
    "           '/data/hg19/Nuclei/ChIP/H3K27ac/human_P70_NeuNnuclei_ChIP_H3K27ac_epilepsy_AN_l20180724_GCCAAT_trimmed_combined',\n",
    "           '/data/hg19/Nuclei/ChIP/H3K27ac/human_P73_NeuNnuclei_ChIP_H3K27ac_epilepsy_AN_l20181025_CGATGT_trimmed_combined',\n",
    "           '/data/hg19/Nuclei/ChIP/H3K27ac/human_P72_NeuNnuclei_ChIP_H3K27ac_epilepsy_AN_l20180912_GTGAAA_trimmed_combined',\n",
    "           '/data/hg19/Nuclei/ChIP/H3K27ac/human_P63_Olig2nuclei_ChIP_H3K27ac_epilepsy_AN_l20180517_AGTTCC_trimmed_combined',\n",
    "           '/data/hg19/Nuclei/ChIP/H3K27ac/human_P70_Olig2nuclei_ChIP_H3K27ac_epilepsy_AN_l20180724_ACAGTG_trimmed_combined',\n",
    "           '/data/hg19/Nuclei/ChIP/H3K27ac/human_P72_Olig2nuclei_ChIP_H3K27ac_epilepsy_AN_l20180912_GTCCGC_trimmed_combined',\n",
    "           '/data/hg19/Nuclei/ChIP/H3K27ac/human_P73_Olig2nuclei_ChIP_H3K27ac_epilepsy_AN_l20181025_TGACCA_trimmed_combined',\n",
    "           '/data/hg19/Nuclei/ChIP/H3K27ac/human_P63_PU1nuclei_ChIP_H3K27ac_epilepsy_AN_l20180517_TAGCTT_trimmed_combined',\n",
    "           '/data/hg19/Nuclei/ChIP/H3K27ac/human_P70_PU1nuclei_ChIP_H3K27ac_epilepsy_AN_l20180724_TGACCA_trimmed_combined',\n",
    "           '/data/hg19/Nuclei/ChIP/H3K27ac/human_P72_PU1nuclei_ChIP_H3K27ac_epilepsy_AN_l20180912_GTAGAG_trimmed_combined',\n",
    "           '/data/hg19/Nuclei/ChIP/H3K27ac/human_P73_PU1nuclei_ChIP_H3K27ac_epilepsy_AN_l20181025_ACAGTG_trimmed_combined']"
   ]
  },
  {
   "cell_type": "markdown",
   "metadata": {},
   "source": [
    "    mergePeaks ./peak_files/*Olig2*variablewidth* > merged_peaks/Olig2_4month_vw_peaks_merged.txt\n",
    "    mergePeaks ./peak_files/*NeuN*variablewidth* > merged_peaks/NeuN_4month_vw_peaks_merged.txt\n",
    "    mergePeaks ./peak_files/*PU1*variablewidth* > merged_peaks/PU1_4month_vw_peaks_merged.txt\n",
    "    mergePeaks ./peak_files/*SOX9*variablewidth* > merged_peaks/SOX9_4month_vw_peaks_merged.txt\n",
    "    mergePeaks ./peak_files/*variablewidth* > merged_peaks/vw_peaks_merged.txt\n",
    "    "
   ]
  },
  {
   "cell_type": "markdown",
   "metadata": {},
   "source": [
    "### Next: Annotate peaks"
   ]
  },
  {
   "cell_type": "code",
   "execution_count": 8,
   "metadata": {
    "scrolled": true
   },
   "outputs": [],
   "source": [
    "%%bash\n",
    "# delete the existing script file\n",
    "rm ./annotateHumanPromoters_homer.sh\n",
    "# create a script file\n",
    "touch ./annotateHumanPromoters_homer.sh"
   ]
  },
  {
   "cell_type": "code",
   "execution_count": 9,
   "metadata": {},
   "outputs": [],
   "source": [
    "with open('./annotateHumanPromoters_homer.sh', 'w') as f:\n",
    "    \n",
    "    annotate_prom_raw = ['annotatePeaks.pl', 'tss',\n",
    "                         'hg19', '-norm 1e7', '-d \\\\\\n',\n",
    "                         ' \\\\\\n'.join(tagdirs), '>',\n",
    "                         './merged_peaks/human_ann_norm_promoters.txt &\\n\\n']\n",
    "    \n",
    "    annotate_prom_norm = ['annotatePeaks.pl', 'tss',\n",
    "                         'hg19', '-raw', '-d \\\\\\n',\n",
    "                         ' \\\\\\n'.join(tagdirs), '>',\n",
    "                         './merged_peaks/human_ann_raw_promoters.txt &\\n\\n']\n",
    "\n",
    "    f.write(' '.join(annotate_prom_raw))    \n",
    "    f.write(' '.join(annotate_prom_norm))\n",
    "    \n",
    "    f.close()"
   ]
  },
  {
   "cell_type": "code",
   "execution_count": null,
   "metadata": {},
   "outputs": [],
   "source": []
  }
 ],
 "metadata": {
  "kernelspec": {
   "display_name": "dataviz",
   "language": "python",
   "name": "dataviz"
  },
  "language_info": {
   "codemirror_mode": {
    "name": "ipython",
    "version": 3
   },
   "file_extension": ".py",
   "mimetype": "text/x-python",
   "name": "python",
   "nbconvert_exporter": "python",
   "pygments_lexer": "ipython3",
   "version": "3.7.5"
  }
 },
 "nbformat": 4,
 "nbformat_minor": 2
}
