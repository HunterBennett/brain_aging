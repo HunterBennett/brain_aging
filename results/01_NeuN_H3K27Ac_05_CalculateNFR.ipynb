{
 "cells": [
  {
   "cell_type": "markdown",
   "metadata": {},
   "source": [
    "Hunter Bennett | Glass Lab | Brain Aging Project | 19 Feb 2021"
   ]
  },
  {
   "cell_type": "markdown",
   "metadata": {},
   "source": [
    "This notebook uses differential peaks called in the previous notebook along with H3K27Ac signal to identify nucleosome free regions within differential H3K27Ac peaks. We currently dont know exactly what method we will use to call motifs but right now three methods are possible:\n",
    "\n",
    "1. Call motifs across 1000bp broad peaks.\n",
    "2. Call motifs on HOMER identified nucleosome free regions.\n",
    "3. Call motifs on HisTrader identified nucleosome free regions.\n",
    "\n",
    "See analysis in microglia for a comparison of the relative benefits of each method, it appears that using HOMER minimizes false positive while using histrader maximizes sensitivity at the cost of more false positives.\n",
    "\n",
    "This notebook does the following.\n",
    "1. Call NFR using histrader  \n",
    "    a. Make bedGraph files from relevant merged tag directories.  \n",
    "    b. use histrader, bedgraphs, and differential peaks to identify NFRs  \n",
    "    c. use histrader and overall variable width peaks to identify background NFRs (takes a long time)\n",
    "    d. use annotatePeaks to rename hisTrader peaks (create unique peakIDs) so that it plays nice with HOMER.       \n",
    "2. Use bedtools to identify HOMER -NFRs that lie within differential peaks."
   ]
  },
  {
   "cell_type": "code",
   "execution_count": 1,
   "metadata": {},
   "outputs": [],
   "source": [
    "### header ###\n",
    "__author__ = \"Hunter Bennett\"\n",
    "__license__ = \"BSD\"\n",
    "__email__ = \"hunter.r.bennett@gmail.com\"\n",
    "%load_ext autoreload\n",
    "%autoreload 2\n",
    "### imports ###\n",
    "import sys\n",
    "%matplotlib inline\n",
    "import os\n",
    "import re\n",
    "import glob\n",
    "import pandas as pd\n",
    "import numpy as np\n",
    "import matplotlib\n",
    "import matplotlib.pyplot as plt \n",
    "import seaborn as sns\n",
    "matplotlib.rcParams['savefig.dpi'] = 200\n",
    "sns.set(font_scale=1)\n",
    "sns.set_context('talk')\n",
    "sns.set_style('white')"
   ]
  },
  {
   "cell_type": "code",
   "execution_count": 2,
   "metadata": {},
   "outputs": [],
   "source": [
    "dataDirectory = '/data/mm10/Brain_MPSIIIA/ChIP/H3K27AC/NeuN/WT/'\n",
    "inputDirectory = '/data/mm10/Brain_MPSIIIA/ChIP/input/NeuN/'\n",
    "workingDirectory = '/home/h1bennet/brain_aging/results/01_NeuN_H3K27Ac/'\n",
    "if not os.path.isdir(workingDirectory):\n",
    "    os.mkdir(workingDirectory)\n",
    "os.chdir(workingDirectory)"
   ]
  },
  {
   "cell_type": "markdown",
   "metadata": {},
   "source": [
    "# Prep NFR predictions using HisTrader\n",
    "___\n",
    "Histrader requires two inputs to do NFR predictions:\n",
    "1. BedGraph style peak data.\n",
    "2. Bed file \"broadPeaks\" or homer -regions within which to perform NFR predictions.\n",
    "\n",
    "The easiest way to evaluate the NFR predictions in my view is to predict the NFR within differentially acetylated variable width regions as defined by HOMER, we can then compare those as well as the HOMER defined NFR to the ATAC-seq peaks as \"ground truth\""
   ]
  },
  {
   "cell_type": "markdown",
   "metadata": {},
   "source": [
    "## Generate bedGraphs using HOMER\n"
   ]
  },
  {
   "cell_type": "code",
   "execution_count": 4,
   "metadata": {},
   "outputs": [],
   "source": [
    "if not os.path.isdir('./bedGraphs'):\n",
    "    os.mkdir('./bedGraphs')"
   ]
  },
  {
   "cell_type": "code",
   "execution_count": null,
   "metadata": {},
   "outputs": [],
   "source": [
    "%%bash\n",
    "\n",
    "makeUCSCfile ./merged_tagdirs/04_NeuN_4Month_ChIP_H3K27Ac_merged/ \\\n",
    "-o ./bedGraphs/04_NeuN_4Month_ChIP_H3K27Ac_merged.bedGraph\n",
    "\n",
    "gunzip ./bedgraphs/04_NeuN_4Month_ChIP_H3K27Ac_merged.bedGraph.gz\n",
    "\n",
    "makeUCSCfile ./merged_tagdirs/06_NeuN_20MonthPlus_ChIP_H3K27Ac_merged/ \\\n",
    "-o ./bedGraphs/06_NeuN_20MonthPlus_ChIP_H3K27Ac_merged.bedGraph\n",
    "\n",
    "gunzip ./bedgraphs/06_NeuN_20MonthPlus_ChIP_H3K27Ac_merged.bedGraph.gz"
   ]
  },
  {
   "cell_type": "markdown",
   "metadata": {},
   "source": [
    "# Convert merged peaks to bed"
   ]
  },
  {
   "cell_type": "code",
   "execution_count": 15,
   "metadata": {},
   "outputs": [],
   "source": [
    "if not os.path.isdir('./merged_bed/'):\n",
    "    os.mkdir('./merged_bed/')"
   ]
  },
  {
   "cell_type": "code",
   "execution_count": null,
   "metadata": {},
   "outputs": [],
   "source": [
    "%%bash\n",
    "# delete the existing script file\n",
    "rm ./peak_to_bed_merge.sh\n",
    "# create a script file\n",
    "touch ./peak_to_bed_merge.sh"
   ]
  },
  {
   "cell_type": "code",
   "execution_count": 14,
   "metadata": {},
   "outputs": [],
   "source": [
    "%%bash\n",
    "for peakfile in ./merged_peaks/*txt;\n",
    "do out=${peakfile/.txt/.bed};\n",
    "out=${out/merged_peaks/merged_bed}\n",
    "echo \"pos2bed.pl -o $out $peakfile\" >> ./peak_to_bed_merge.sh\n",
    "done"
   ]
  },
  {
   "cell_type": "markdown",
   "metadata": {},
   "source": [
    "## Run HisTrader"
   ]
  },
  {
   "cell_type": "code",
   "execution_count": 13,
   "metadata": {},
   "outputs": [],
   "source": [
    "if not os.path.isdir('./4month_vs_25month/histrader/'):\n",
    "    os.mkdir('./4month_vs_25month/histrader/')"
   ]
  },
  {
   "cell_type": "markdown",
   "metadata": {},
   "source": [
    "Run HisTrader for specific peaks"
   ]
  },
  {
   "cell_type": "code",
   "execution_count": null,
   "metadata": {},
   "outputs": [],
   "source": [
    "%%bash\n",
    "\n",
    "perl ~/code/HisTrader/Histrader.pl \\\n",
    "--bedGraph ./bedGraphs/04_NeuN_4Month_ChIP_H3K27Ac_merged.bedGraph \\\n",
    "--peaks ./4month_vs_25month/bed_files/00_neun_4month_union_act_peaks.bed \\\n",
    "--out ./00_neun_4month_act_histrader\n",
    "\n",
    "mv ./00_neun_4month_act_histrader* ./4month_vs_25month/histrader/\n",
    "\n",
    "perl ~/code/HisTrader/Histrader.pl \\\n",
    "--bedGraph ./bedGraphs/06_NeuN_20MonthPlus_ChIP_H3K27Ac_merged.bedGraph \\\n",
    "--peaks ./4month_vs_25month/bed_files/01_neun_25month_union_act_peaks.bed \\\n",
    "--out ./01_neun_25month_act_histrader\n",
    "\n",
    "mv ./01_neun_25month_act_histrader* ./4month_vs_25month/histrader/"
   ]
  },
  {
   "cell_type": "markdown",
   "metadata": {},
   "source": [
    "Run HisTrader for all peaks"
   ]
  },
  {
   "cell_type": "code",
   "execution_count": null,
   "metadata": {},
   "outputs": [],
   "source": [
    "%%bash\n",
    "\n",
    "perl ~/code/HisTrader/Histrader.pl \\\n",
    "--bedGraph ./bedGraphs/04_NeuN_4Month_ChIP_H3K27Ac_merged.bedGraph \\\n",
    "--peaks ./merged_bed/04_NeuN_4Month_vw_peaks_merged.bed \\\n",
    "--out ./00_neun_4month_bg_histrader\n",
    "\n",
    "mv ./00_neun_4month_bg_histrader* ./4month_vs_25month/histrader/\n",
    "\n",
    "perl ~/code/HisTrader/Histrader.pl \\\n",
    "--bedGraph ./bedGraphs/06_NeuN_20MonthPlus_ChIP_H3K27Ac_merged.bedGraph \\\n",
    "--peaks ./merged_bed/06_NeuN_20Month_vw_peaks_merged.bed \\\n",
    "--out ./01_neun_25month_bg_histrader\n",
    "\n",
    "mv ./01_neun_25month_bg_histrader* ./4month_vs_25month/histrader/"
   ]
  },
  {
   "cell_type": "markdown",
   "metadata": {},
   "source": [
    "I suppose we might have to run hisTrader on all peaks in the samples to get a reliable background set."
   ]
  },
  {
   "cell_type": "markdown",
   "metadata": {},
   "source": [
    "# post-processing so these play nice with HOMER\n",
    "___\n",
    "Unfortunately the Histrader peaks are not uniquely named - they instead retain the name of the original broadPeak that they come from.. so we need to convert them so we can easily trace motifs back to particular peaks"
   ]
  },
  {
   "cell_type": "code",
   "execution_count": null,
   "metadata": {},
   "outputs": [],
   "source": [
    "%%bash\n",
    "\n",
    "annotatePeaks.pl ./4month_vs_25month/histrader/00_neun_4month_act_histrader.nfr.bed mm10 \\\n",
    "-size given > ./4month_vs_25month/histrader/00_neun_4month_act_histrader.nfr.txt\n",
    "\n",
    "annotatePeaks.pl ./4month_vs_25month/histrader/01_neun_25month_act_histrader.nfr.bed mm10 \\\n",
    "-size given > ./4month_vs_25month/histrader/01_neun_25month_act_histrader.nfr.txt"
   ]
  },
  {
   "cell_type": "markdown",
   "metadata": {},
   "source": [
    "# Select HOMER NFRs"
   ]
  },
  {
   "cell_type": "markdown",
   "metadata": {},
   "source": [
    "Since we have already made the bed files this is just a simple intersect command."
   ]
  },
  {
   "cell_type": "code",
   "execution_count": 3,
   "metadata": {},
   "outputs": [],
   "source": [
    "%%bash\n",
    "\n",
    "bedtools intersect -wa -a ./merged_bed/04_NeuN_4Month_nfr_peaks_merged.bed \\\n",
    "-b ./4month_vs_25month/bed_files/00_neun_4month_union_act_peaks.bed \\\n",
    "> ./4month_vs_25month/homer_nfr/00_neun_4month_homer_nfr_act_peaks.bed\n",
    "\n",
    "bedtools intersect -wa -a ./merged_bed/06_NeuN_20Month_nfr_peaks_merged.bed \\\n",
    "-b ./4month_vs_25month/bed_files/01_neun_25month_union_act_peaks.bed \\\n",
    "> ./4month_vs_25month/homer_nfr/01_neun_25month_homer_nfr_act_peaks.bed"
   ]
  },
  {
   "cell_type": "code",
   "execution_count": null,
   "metadata": {},
   "outputs": [],
   "source": []
  }
 ],
 "metadata": {
  "kernelspec": {
   "display_name": "dataviz",
   "language": "python",
   "name": "dataviz"
  },
  "language_info": {
   "codemirror_mode": {
    "name": "ipython",
    "version": 3
   },
   "file_extension": ".py",
   "mimetype": "text/x-python",
   "name": "python",
   "nbconvert_exporter": "python",
   "pygments_lexer": "ipython3",
   "version": "3.7.5"
  }
 },
 "nbformat": 4,
 "nbformat_minor": 2
}
