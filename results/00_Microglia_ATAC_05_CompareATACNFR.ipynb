{
 "cells": [
  {
   "cell_type": "markdown",
   "metadata": {},
   "source": [
    "Hunter Bennett | Glass Lab | Brain Aging Project | 12 Feb 2021  \n",
    "\n",
    "The goal of this notebook is to compare the nucleosome free regions called by HOMER and HisTrader to the nucleosome free regions defined by ATAC-seq. This will inform the analysis in other cell types and determine whether we can uce the H3K27Ac defined NFR regions for motif finding."
   ]
  },
  {
   "cell_type": "code",
   "execution_count": 33,
   "metadata": {},
   "outputs": [
    {
     "name": "stdout",
     "output_type": "stream",
     "text": [
      "The autoreload extension is already loaded. To reload it, use:\n",
      "  %reload_ext autoreload\n"
     ]
    }
   ],
   "source": [
    "### header ###\n",
    "__author__ = \"Hunter Bennett\"\n",
    "__license__ = \"BSD\"\n",
    "__email__ = \"hunter.r.bennett@gmail.com\"\n",
    "%load_ext autoreload\n",
    "%autoreload 2\n",
    "### imports ###\n",
    "import sys\n",
    "%matplotlib inline\n",
    "import os\n",
    "import re\n",
    "import glob\n",
    "import pandas as pd\n",
    "import numpy as np\n",
    "import matplotlib\n",
    "import matplotlib.pyplot as plt \n",
    "from matplotlib_venn import venn2\n",
    "import seaborn as sns\n",
    "matplotlib.rcParams['savefig.dpi'] = 200\n",
    "sns.set(font_scale=1)\n",
    "sns.set_context('talk')\n",
    "sns.set_style('white')"
   ]
  },
  {
   "cell_type": "code",
   "execution_count": 3,
   "metadata": {},
   "outputs": [],
   "source": [
    "dataDirectory = '/data/mm10/Brain_MPSIIIA/ATAC/Microglia/'\n",
    "workingDirectory = '/home/h1bennet/brain_aging/results/00_Microglia_CompareATACNFR/'\n",
    "if not os.path.isdir(workingDirectory):\n",
    "    os.mkdir(workingDirectory)\n",
    "os.chdir(workingDirectory)"
   ]
  },
  {
   "cell_type": "markdown",
   "metadata": {},
   "source": [
    "# Copy in peak files from other analyses"
   ]
  },
  {
   "cell_type": "code",
   "execution_count": 5,
   "metadata": {},
   "outputs": [],
   "source": [
    "if not os.path.isdir('./peak_files'):\n",
    "    os.mkdir('./peak_files')"
   ]
  },
  {
   "cell_type": "markdown",
   "metadata": {},
   "source": [
    "### First copy in the NFR peaks"
   ]
  },
  {
   "cell_type": "code",
   "execution_count": null,
   "metadata": {},
   "outputs": [],
   "source": [
    "%%bash\n",
    "cp ../00_PU1_H3K27Ac_4month_vs_25month/merged_peaks/nfr_peaks_merged.txt \\\n",
    "./peak_files/"
   ]
  },
  {
   "cell_type": "markdown",
   "metadata": {},
   "source": [
    "### Next copy in the IDR peaks"
   ]
  },
  {
   "cell_type": "code",
   "execution_count": null,
   "metadata": {},
   "outputs": [],
   "source": [
    "%%bash\n",
    "cp ../00_Microglia_ATAC/merged_peaks/idr_peaks_merged.txt\n",
    "./peak_files/"
   ]
  },
  {
   "cell_type": "markdown",
   "metadata": {},
   "source": [
    "# Use homer mergePeaks to check for overlap"
   ]
  },
  {
   "cell_type": "code",
   "execution_count": 7,
   "metadata": {},
   "outputs": [
    {
     "name": "stderr",
     "output_type": "stream",
     "text": [
      "\tMax distance to merge: direct overlap required (-d given)\n",
      "\tMerging peaks... \n",
      "\tComparing idr_peaks_merged.txt (119988 total) and idr_peaks_merged.txt (119988 total)\n",
      "\tComparing idr_peaks_merged.txt (119988 total) and nfr_peaks_merged.txt (105306 total)\n",
      "\tComparing nfr_peaks_merged.txt (105306 total) and idr_peaks_merged.txt (119988 total)\n",
      "\tComparing nfr_peaks_merged.txt (105306 total) and nfr_peaks_merged.txt (105306 total)\n",
      "\n",
      "idr_peaks_merged.txt\tnfr_peaks_merged.txt\tTotal\tName\n",
      "\tX\t61683\tnfr_peaks_merged.txt\n",
      "X\t\t77918\tidr_peaks_merged.txt\n",
      "X\tX\t38516\tidr_peaks_merged.txt|nfr_peaks_merged.txt\n"
     ]
    }
   ],
   "source": [
    "%%bash\n",
    "\n",
    "cd ./peak_files/\n",
    "\n",
    "mergePeaks -prefix merge -matrix overlap_matrix \\\n",
    "idr_peaks_merged.txt nfr_peaks_merged.txt \\\n",
    "> idr_nfr_peaks_merged.txt"
   ]
  },
  {
   "cell_type": "markdown",
   "metadata": {},
   "source": [
    "The overlap here is pretty bad - only about 1/3 of the idr ATAC peaks overlap HOMER NFR peaks. This led us to go looking for other technologies to predict ATAC-seq peaks, we then found HisTrader!"
   ]
  },
  {
   "cell_type": "markdown",
   "metadata": {},
   "source": [
    "# Prep NFR predictions using HisTrader\n",
    "___\n",
    "Histrader requires two inputs to do NFR predictions:\n",
    "1. BedGraph style peak data.\n",
    "2. Bed file \"broadPeaks\" or homer -regions within which to perform NFR predictions.\n",
    "\n",
    "The easiest way to evaluate the NFR predictions in my view is to predict the NFR within differentially acetylated variable width regions as defined by HOMER, we can then compare those as well as the HOMER defined NFR to the ATAC-seq peaks as \"ground truth\""
   ]
  },
  {
   "cell_type": "markdown",
   "metadata": {},
   "source": [
    "## Generate bedGraphs using HOMER"
   ]
  },
  {
   "cell_type": "code",
   "execution_count": null,
   "metadata": {},
   "outputs": [],
   "source": [
    "if not os.path.isdir('./bedGraphs'):\n",
    "    os.mkdir('./bedGraphs')"
   ]
  },
  {
   "cell_type": "code",
   "execution_count": null,
   "metadata": {},
   "outputs": [],
   "source": [
    "%%bash\n",
    "\n",
    "makeUCSCfile ../00_Microglia_H3K27Ac/merged_tagdirs/00_all_microglia_H3K27Ac_4months/ \\\n",
    "-o ./bedGraphs/00_all_microglia_H3K27Ac_4months\n",
    "\n",
    "gunzip ./bedgraphs/00_all_microglia_H3K27Ac_4months.bedGraph.gz\n",
    "\n",
    "makeUCSCfile ../00_Microglia_H3K27Ac/merged_tagdirs/01_all_microglia_H3K27Ac_25months/ \\\n",
    "-o ./bedGraphs/01_all_microglia_H3K27Ac_25months\n",
    "\n",
    "gunzip ./bedgraphs/01_all_microglia_H3K27Ac_25months.bedGraph.gz"
   ]
  },
  {
   "cell_type": "markdown",
   "metadata": {},
   "source": [
    "## Copy over differentially acetylated regions (in bed format)"
   ]
  },
  {
   "cell_type": "code",
   "execution_count": 8,
   "metadata": {},
   "outputs": [],
   "source": [
    "if not os.path.isdir('./differential_bed'):\n",
    "    os.mkdir('./differential_bed')"
   ]
  },
  {
   "cell_type": "code",
   "execution_count": 9,
   "metadata": {},
   "outputs": [
    {
     "name": "stdout",
     "output_type": "stream",
     "text": [
      "00_pu1_4month_act_peaks.bed  01_pu1_25month_act_peaks.bed\r\n"
     ]
    }
   ],
   "source": [
    "!ls differential_bed/"
   ]
  },
  {
   "cell_type": "code",
   "execution_count": 12,
   "metadata": {},
   "outputs": [
    {
     "name": "stdout",
     "output_type": "stream",
     "text": [
      "00_pu1_4month_nfr_act_background.bed\r\n",
      "00_pu1_4month_nfr_act_background_distal.bed\r\n",
      "00_pu1_4month_nfr_act_peaks.bed\r\n",
      "00_pu1_4month_nfr_act_peaks_distal.bed\r\n",
      "00_pu1_4month_union_act_peaks.bed\r\n",
      "00_pu1_4month_union_act_peaks_distal.bed\r\n",
      "01_pu1_25month_nfr_act_background.bed\r\n",
      "01_pu1_25month_nfr_act_background_distal.bed\r\n",
      "01_pu1_25month_nfr_act_peaks.bed\r\n",
      "01_pu1_25month_nfr_act_peaks_distal.bed\r\n",
      "01_pu1_25month_union_act_peaks.bed\r\n",
      "01_pu1_25month_union_act_peaks_distal.bed\r\n",
      "fw_peaks_merged.bed\r\n",
      "nfr_peaks_merged.bed\r\n",
      "vw_peaks_merged.bed\r\n"
     ]
    }
   ],
   "source": [
    "ls ../00_PU1_H3K27Ac_4month_vs_25month/bed_files/"
   ]
  },
  {
   "cell_type": "code",
   "execution_count": 15,
   "metadata": {},
   "outputs": [],
   "source": [
    "%%bash\n",
    "\n",
    "cp ../00_PU1_H3K27Ac_4month_vs_25month/bed_files/00_pu1_4month_union_act_peaks.bed \\\n",
    "./differential_bed/00_pu1_4month_act_peaks.bed\n",
    "\n",
    "cp ../00_PU1_H3K27Ac_4month_vs_25month/bed_files/01_pu1_25month_union_act_peaks.bed \\\n",
    "./differential_bed/01_pu1_25month_act_peaks.bed"
   ]
  },
  {
   "cell_type": "markdown",
   "metadata": {},
   "source": [
    "## Run HisTrader"
   ]
  },
  {
   "cell_type": "code",
   "execution_count": 16,
   "metadata": {},
   "outputs": [
    {
     "name": "stdout",
     "output_type": "stream",
     "text": [
      "\n",
      "\n",
      "########################################################################################################\n",
      "##                                                                                                    ##\n",
      "##    HISTRADER: A tool to identify nucleosome free regions from ChIP-Seq of Histone Modifications    ##\n",
      "##                                                                                                    ##\n",
      "##                                                                                                    ##\n",
      "##                                Written by Yifei Yan and Swneke D. Bailey                           ##\n",
      "##                                   Copyright 2020 Swneke D. Bailey                                  ##\n",
      "##                                                                                                    ##\n",
      "########################################################################################################\n",
      "\n",
      "\n",
      "Identifying Valleys in ./bedGraphs/00_all_microglia_H3K27Ac_4months.bedGraph at positions specified in ./differential_bed/00_pu1_4month_act_peaks.bed\n",
      "\n",
      "Parameters Used:\n",
      "BedGraph File = ./bedGraphs/00_all_microglia_H3K27Ac_4months.bedGraph\n",
      "Peak File = ./differential_bed/00_pu1_4month_act_peaks.bed\n",
      "Output File Prefix = ./00_pu1_4month_act_histrader_test\n",
      "Genome File = NOT SPECIFIED\n",
      "Method Used = BOTH\n",
      "Step Used = 25\n",
      "Minimum Peak Size = 500\n",
      "Nucleosome Size = 150\n",
      "Trimming = NO\n",
      "Trim Size = NOT SPECIFIED\n",
      "Output BedGraph = NO\n",
      "Merge Distance = 75\n",
      "Bins Per Nucleosome = 6\n",
      "\n",
      "Output Filenames:\n",
      "Nucleosome Free Regions (NFRs) = ./00_pu1_4month_act_histrader_test.nfr.bed\n",
      "Nucleosome Occupied Regions = ./00_pu1_4month_act_histrader_test.nuc.bed\n",
      "No NFRs Detected = ./00_pu1_4month_act_histrader_test.missing.bed\n",
      "\n",
      "FINISHED!\n"
     ]
    }
   ],
   "source": [
    "%%bash\n",
    "\n",
    "perl ~/code/HisTrader/Histrader.pl \\\n",
    "--bedGraph ./bedGraphs/00_all_microglia_H3K27Ac_4months.bedGraph \\\n",
    "--peaks ./differential_bed/00_pu1_4month_act_peaks.bed \\\n",
    "--out ./00_pu1_4month_act_histrader\n",
    "\n",
    "mv ./00_pu1_4month_act_histrader* ./histrader/"
   ]
  },
  {
   "cell_type": "code",
   "execution_count": null,
   "metadata": {},
   "outputs": [],
   "source": [
    "%%bash\n",
    "\n",
    "perl ~/code/HisTrader/Histrader.pl \\\n",
    "--bedGraph ./bedGraphs/01_all_microglia_H3K27Ac_25months.bedGraph \\\n",
    "--peaks ./differential_bed/01_pu1_25month_act_peaks.bed \\\n",
    "--out ./01_pu1_25month_act_histrader\n",
    "\n",
    "mv ./01_pu1_25month_act_histrader* ./histrader/"
   ]
  },
  {
   "cell_type": "markdown",
   "metadata": {},
   "source": [
    "### Label histrader bed files for upload to UCSC"
   ]
  },
  {
   "cell_type": "code",
   "execution_count": 4,
   "metadata": {},
   "outputs": [],
   "source": [
    "%%bash\n",
    "\n",
    "echo 'track name=\"histrader_microglia_4month_nfr\" description=\"HisTrader NFR regions in 4 month Microglia H3K27Ac\"' \\\n",
    "| cat - ./histrader/00_pu1_4month_act_histrader.nfr.bed \\\n",
    "> temp && mv temp ./histrader/00_pu1_4month_act_histrader.nfr.bed\n",
    "\n",
    "echo 'track name=\"histrader_microglia_25month_nfr\" description=\"HisTrader NFR regions in 25 month Microglia H3K27Ac\"' \\\n",
    "| cat - ./histrader/01_pu1_25month_act_histrader.nfr.bed \\\n",
    "> temp && mv temp ./histrader/01_pu1_25month_act_histrader.nfr.bed"
   ]
  },
  {
   "cell_type": "markdown",
   "metadata": {},
   "source": [
    "## TODO:\n",
    "1. Pull ATAC-seq peaks within these regions using bedtools\n",
    "2. Use merge peaks to compare NFR regions called by HOMER and HisTrader to ATAC-seq peaks.\n",
    "3. Visualize on browser."
   ]
  },
  {
   "cell_type": "markdown",
   "metadata": {},
   "source": [
    "## Pull HOMER peaks and ATAC-seq (ground truth) peaks from regions using bedtools\n",
    "___\n",
    "These were already stored in this folder in the ./peak_files/ directory under idr_peaks_merged.txt"
   ]
  },
  {
   "cell_type": "code",
   "execution_count": 5,
   "metadata": {},
   "outputs": [],
   "source": [
    "if not os.path.isdir('./bed_files'):\n",
    "    os.mkdir('./bed_files')"
   ]
  },
  {
   "cell_type": "markdown",
   "metadata": {},
   "source": [
    "convert all peak files into bed files"
   ]
  },
  {
   "cell_type": "code",
   "execution_count": 10,
   "metadata": {},
   "outputs": [],
   "source": [
    "%%bash\n",
    "# delete the existing script file\n",
    "rm ./peak_to_bed.sh\n",
    "# create a script file\n",
    "touch ./peak_to_bed.sh"
   ]
  },
  {
   "cell_type": "code",
   "execution_count": 11,
   "metadata": {},
   "outputs": [],
   "source": [
    "%%bash\n",
    "for peakfile in ./peak_files/*merged.txt;\n",
    "do out=${peakfile/.txt/.bed};\n",
    "out=${out/peak_files/bed_files}\n",
    "echo \"pos2bed.pl -o $out $peakfile\" >> ./peak_to_bed.sh\n",
    "done"
   ]
  },
  {
   "cell_type": "code",
   "execution_count": 12,
   "metadata": {},
   "outputs": [],
   "source": [
    "%%bash\n",
    "\n",
    "bedtools intersect -wa -a ./bed_files/idr_peaks_merged.bed \\\n",
    "-b ./differential_bed/00_pu1_4month_act_peaks.bed \\\n",
    "> ./differential_bed/00_pu1_4month_idr_peaks.bed\n",
    "\n",
    "bedtools intersect -wa -a ./bed_files/idr_peaks_merged.bed \\\n",
    "-b ./differential_bed/01_pu1_25month_act_peaks.bed \\\n",
    "> ./differential_bed/01_pu1_25month_idr_peaks.bed\n",
    "\n",
    "bedtools intersect -wa -a ./bed_files/nfr_peaks_merged.bed \\\n",
    "-b ./differential_bed/00_pu1_4month_act_peaks.bed \\\n",
    "> ./differential_bed/00_pu1_4month_nfr_peaks.bed\n",
    "\n",
    "bedtools intersect -wa -a ./bed_files/nfr_peaks_merged.bed \\\n",
    "-b ./differential_bed/01_pu1_25month_act_peaks.bed \\\n",
    "> ./differential_bed/01_pu1_25month_nfr_peaks.bed"
   ]
  },
  {
   "cell_type": "markdown",
   "metadata": {},
   "source": [
    "### Label these for browser"
   ]
  },
  {
   "cell_type": "code",
   "execution_count": 13,
   "metadata": {},
   "outputs": [],
   "source": [
    "%%bash\n",
    "\n",
    "echo 'track name=\"ATAC_microglia_4month_nfr\" description=\"ATAC NFR regions in 4 month Microglia H3K27Ac\"' \\\n",
    "| cat - ./differential_bed/00_pu1_4month_idr_peaks.bed \\\n",
    "> temp && mv temp ./differential_bed/00_pu1_4month_idr_peaks.bed\n",
    "\n",
    "echo 'track name=\"ATAC_microglia_25month_nfr\" description=\"ATAC NFR regions in 25 month Microglia H3K27Ac\"' \\\n",
    "| cat - ./differential_bed/01_pu1_25month_idr_peaks.bed \\\n",
    "> temp && mv temp ./differential_bed/01_pu1_25month_idr_peaks.bed\n",
    "\n",
    "echo 'track name=\"HOMER_microglia_4month_nfr\" description=\"HOMER NFR regions in 4 month Microglia H3K27Ac\"' \\\n",
    "| cat - ./differential_bed/00_pu1_4month_nfr_peaks.bed \\\n",
    "> temp && mv temp ./differential_bed/00_pu1_4month_nfr_peaks.bed\n",
    "\n",
    "echo 'track name=\"HOMER_microglia_25month_nfr\" description=\"HOMER NFR regions in 25 month Microglia H3K27Ac\"' \\\n",
    "| cat - ./differential_bed/01_pu1_25month_nfr_peaks.bed \\\n",
    "> temp && mv temp ./differential_bed/01_pu1_25month_nfr_peaks.bed"
   ]
  },
  {
   "cell_type": "markdown",
   "metadata": {},
   "source": [
    "# Compare peaks directly using mergePeaks"
   ]
  },
  {
   "cell_type": "code",
   "execution_count": 17,
   "metadata": {},
   "outputs": [],
   "source": [
    "if not os.path.isdir('./differential_peaks'):\n",
    "    os.mkdir('./differential_peaks')"
   ]
  },
  {
   "cell_type": "code",
   "execution_count": 25,
   "metadata": {},
   "outputs": [],
   "source": [
    "%%bash\n",
    "# delete the existing script file\n",
    "rm ./bed_to_peak.sh\n",
    "# create a script file\n",
    "touch ./bed_to_peak.sh"
   ]
  },
  {
   "cell_type": "code",
   "execution_count": 26,
   "metadata": {},
   "outputs": [],
   "source": [
    "%%bash\n",
    "for bedfile in ./differential_bed/*.bed;\n",
    "do out=${bedfile/.bed/.txt};\n",
    "out=${out/differential_bed/differential_peaks}\n",
    "echo \"bed2pos.pl -o $out $bedfile\" >> ./bed_to_peak.sh\n",
    "done\n",
    "\n",
    "for bedfile in ./histrader/*.nfr.bed;\n",
    "do out=${bedfile/.bed/.txt};\n",
    "out=${out/histrader/differential_peaks}\n",
    "echo \"bed2pos.pl -o $out $bedfile\" >> ./bed_to_peak.sh\n",
    "done"
   ]
  },
  {
   "cell_type": "code",
   "execution_count": 28,
   "metadata": {},
   "outputs": [],
   "source": [
    "if not os.path.isdir('./merge_peaks_output'):\n",
    "    os.mkdir('./merge_peaks_output')"
   ]
  },
  {
   "cell_type": "markdown",
   "metadata": {},
   "source": [
    "### 4 month peaks"
   ]
  },
  {
   "cell_type": "markdown",
   "metadata": {},
   "source": [
    "HisTrader peaks"
   ]
  },
  {
   "cell_type": "code",
   "execution_count": 29,
   "metadata": {},
   "outputs": [
    {
     "name": "stderr",
     "output_type": "stream",
     "text": [
      "\tMax distance to merge: direct overlap required (-d given)\n",
      "\tMerging peaks... \n",
      "\tDuplicate peak name (chr1:13295958-13297650) - this could potentially cause problems\n",
      "\t\tSometimes unavoidable for BED/2DBED formats\n",
      "\t\tNew name for this peak is chr1:13295958-13297650--2\n",
      "\t\tWarning over 1000 peaks with duplicate names\n",
      "\tComparing ./differential_peaks/00_pu1_4month_act_histrader.nfr.txt (2108 total) and ./differential_peaks/00_pu1_4month_act_histrader.nfr.txt (2108 total)\n",
      "\tComparing ./differential_peaks/00_pu1_4month_act_histrader.nfr.txt (2108 total) and ./differential_peaks/00_pu1_4month_idr_peaks.txt (666 total)\n",
      "\tComparing ./differential_peaks/00_pu1_4month_idr_peaks.txt (666 total) and ./differential_peaks/00_pu1_4month_act_histrader.nfr.txt (2108 total)\n",
      "\tComparing ./differential_peaks/00_pu1_4month_idr_peaks.txt (666 total) and ./differential_peaks/00_pu1_4month_idr_peaks.txt (666 total)\n",
      "\n",
      "./differential_peaks/00_pu1_4month_act_histrader.nfr.txt\t./differential_peaks/00_pu1_4month_idr_peaks.txt\tTotal\tName\n",
      "\tX\t67\t./differential_peaks/00_pu1_4month_idr_peaks.txt\n",
      "X\t\t1422\t./differential_peaks/00_pu1_4month_act_histrader.nfr.txt\n",
      "X\tX\t591\t./differential_peaks/00_pu1_4month_act_histrader.nfr.txt|./differential_peaks/00_pu1_4month_idr_peaks.txt\n"
     ]
    }
   ],
   "source": [
    "%%bash\n",
    "\n",
    "mergePeaks -prefix merge_peaks_output/histrader_4month \\\n",
    "-matrix merge_peaks_output/histrader_4month_overlap_matrix \\\n",
    "./differential_peaks/00_pu1_4month_act_histrader.nfr.txt \\\n",
    "./differential_peaks/00_pu1_4month_idr_peaks.txt \\"
   ]
  },
  {
   "cell_type": "code",
   "execution_count": 44,
   "metadata": {},
   "outputs": [
    {
     "data": {
      "image/png": "[encoded data removed]",
      "text/plain": [
       "<Figure size 576x288 with 1 Axes>"
      ]
     },
     "metadata": {},
     "output_type": "display_data"
    }
   ],
   "source": [
    "fig, ax = plt.subplots(figsize=(8,4))\n",
    "\n",
    "venn2(subsets={'10': 67,\n",
    "               '01': 1422,\n",
    "               '11': 591},\n",
    "      set_labels=('ATAC IDR Peaks',\n",
    "                  'HisTrader Nucleosome\\nFree Regions'),\n",
    "      ax=ax)\n",
    "\n",
    "ax.set_title('4 Month Microglia');"
   ]
  },
  {
   "cell_type": "markdown",
   "metadata": {},
   "source": [
    "Homer -NFR peaks"
   ]
  },
  {
   "cell_type": "code",
   "execution_count": 31,
   "metadata": {},
   "outputs": [
    {
     "name": "stderr",
     "output_type": "stream",
     "text": [
      "\tMax distance to merge: direct overlap required (-d given)\n",
      "\tMerging peaks... \n",
      "\tComparing ./differential_peaks/00_pu1_4month_nfr_peaks.txt (895 total) and ./differential_peaks/00_pu1_4month_nfr_peaks.txt (895 total)\n",
      "\tComparing ./differential_peaks/00_pu1_4month_nfr_peaks.txt (895 total) and ./differential_peaks/00_pu1_4month_idr_peaks.txt (666 total)\n",
      "\tComparing ./differential_peaks/00_pu1_4month_idr_peaks.txt (666 total) and ./differential_peaks/00_pu1_4month_nfr_peaks.txt (895 total)\n",
      "\tComparing ./differential_peaks/00_pu1_4month_idr_peaks.txt (666 total) and ./differential_peaks/00_pu1_4month_idr_peaks.txt (666 total)\n",
      "\n",
      "./differential_peaks/00_pu1_4month_nfr_peaks.txt\t./differential_peaks/00_pu1_4month_idr_peaks.txt\tTotal\tName\n",
      "\tX\t234\t./differential_peaks/00_pu1_4month_idr_peaks.txt\n",
      "X\t\t438\t./differential_peaks/00_pu1_4month_nfr_peaks.txt\n",
      "X\tX\t402\t./differential_peaks/00_pu1_4month_nfr_peaks.txt|./differential_peaks/00_pu1_4month_idr_peaks.txt\n"
     ]
    }
   ],
   "source": [
    "%%bash\n",
    "\n",
    "mergePeaks -prefix merge_peaks_output/homer_4month \\\n",
    "-matrix merge_peaks_output/homer_4month_overlap_matrix \\\n",
    "./differential_peaks/00_pu1_4month_nfr_peaks.txt \\\n",
    "./differential_peaks/00_pu1_4month_idr_peaks.txt \\"
   ]
  },
  {
   "cell_type": "code",
   "execution_count": 43,
   "metadata": {},
   "outputs": [
    {
     "data": {
      "image/png": "[encoded data removed]",
      "text/plain": [
       "<Figure size 576x288 with 1 Axes>"
      ]
     },
     "metadata": {},
     "output_type": "display_data"
    }
   ],
   "source": [
    "fig, ax = plt.subplots(figsize=(8,4))\n",
    "\n",
    "venn2(subsets={'10': 234,\n",
    "               '01': 438,\n",
    "               '11': 402},\n",
    "      set_labels=('ATAC IDR Peaks',\n",
    "                  'HOMER Nucleosome\\nFree Regions'),\n",
    "      ax=ax)\n",
    "\n",
    "ax.set_title('4 Month Microglia');"
   ]
  },
  {
   "cell_type": "code",
   "execution_count": 55,
   "metadata": {},
   "outputs": [],
   "source": [
    "overlap_25mo = [1345, 1343, 1205, 543, 130, 5]\n",
    "histrader_only_25mo = [3346, 3231, 1872, 550, 68, 1]\n",
    "total_histrader_25mo = []\n",
    "for i, j in zip(overlap_25mo, histrader_only_25mo):\n",
    "    total_histrader_25mo.append(i+j)"
   ]
  },
  {
   "cell_type": "markdown",
   "metadata": {},
   "source": [
    "### 25month"
   ]
  },
  {
   "cell_type": "code",
   "execution_count": 30,
   "metadata": {},
   "outputs": [
    {
     "name": "stderr",
     "output_type": "stream",
     "text": [
      "\tMax distance to merge: direct overlap required (-d given)\n",
      "\tMerging peaks... \n",
      "\tDuplicate peak name (chr1:23259853-23261118) - this could potentially cause problems\n",
      "\t\tSometimes unavoidable for BED/2DBED formats\n",
      "\t\tNew name for this peak is chr1:23259853-23261118--2\n",
      "\t\tWarning over 1000 peaks with duplicate names\n",
      "\t\tWarning over 2000 peaks with duplicate names\n",
      "\t\tWarning over 3000 peaks with duplicate names\n",
      "\tComparing ./differential_peaks/01_pu1_25month_act_histrader.nfr.txt (4947 total) and ./differential_peaks/01_pu1_25month_act_histrader.nfr.txt (4947 total)\n",
      "\tComparing ./differential_peaks/01_pu1_25month_act_histrader.nfr.txt (4947 total) and ./differential_peaks/01_pu1_25month_idr_peaks.txt (1601 total)\n",
      "\tComparing ./differential_peaks/01_pu1_25month_idr_peaks.txt (1601 total) and ./differential_peaks/01_pu1_25month_act_histrader.nfr.txt (4947 total)\n",
      "\tComparing ./differential_peaks/01_pu1_25month_idr_peaks.txt (1601 total) and ./differential_peaks/01_pu1_25month_idr_peaks.txt (1601 total)\n",
      "\n",
      "./differential_peaks/01_pu1_25month_act_histrader.nfr.txt\t./differential_peaks/01_pu1_25month_idr_peaks.txt\tTotal\tName\n",
      "\tX\t214\t./differential_peaks/01_pu1_25month_idr_peaks.txt\n",
      "X\t\t3346\t./differential_peaks/01_pu1_25month_act_histrader.nfr.txt\n",
      "X\tX\t1345\t./differential_peaks/01_pu1_25month_act_histrader.nfr.txt|./differential_peaks/01_pu1_25month_idr_peaks.txt\n"
     ]
    }
   ],
   "source": [
    "%%bash\n",
    "\n",
    "mergePeaks -prefix merge_peaks_output/histrader_25month \\\n",
    "-matrix merge_peaks_output/histrader_4month_overlap_matrix \\\n",
    "./differential_peaks/01_pu1_25month_act_histrader.nfr.txt \\\n",
    "./differential_peaks/01_pu1_25month_idr_peaks.txt \\"
   ]
  },
  {
   "cell_type": "code",
   "execution_count": 45,
   "metadata": {},
   "outputs": [
    {
     "data": {
      "image/png": "[encoded data removed]",
      "text/plain": [
       "<Figure size 576x288 with 1 Axes>"
      ]
     },
     "metadata": {},
     "output_type": "display_data"
    }
   ],
   "source": [
    "fig, ax = plt.subplots(figsize=(8,4))\n",
    "\n",
    "venn2(subsets={'10': 214,\n",
    "               '01': 3346,\n",
    "               '11': 1345},\n",
    "      set_labels=('ATAC IDR Peaks',\n",
    "                  'HisTrader Nucleosome\\nFree Regions'),\n",
    "      ax=ax)\n",
    "\n",
    "ax.set_title('25 Month Microglia');"
   ]
  },
  {
   "cell_type": "markdown",
   "metadata": {},
   "source": [
    "Homer -NFR peaks"
   ]
  },
  {
   "cell_type": "code",
   "execution_count": 32,
   "metadata": {},
   "outputs": [
    {
     "name": "stderr",
     "output_type": "stream",
     "text": [
      "\tMax distance to merge: direct overlap required (-d given)\n",
      "\tMerging peaks... \n",
      "\tComparing ./differential_peaks/01_pu1_25month_nfr_peaks.txt (2202 total) and ./differential_peaks/01_pu1_25month_nfr_peaks.txt (2202 total)\n",
      "\tComparing ./differential_peaks/01_pu1_25month_nfr_peaks.txt (2202 total) and ./differential_peaks/01_pu1_25month_idr_peaks.txt (1601 total)\n",
      "\tComparing ./differential_peaks/01_pu1_25month_idr_peaks.txt (1601 total) and ./differential_peaks/01_pu1_25month_nfr_peaks.txt (2202 total)\n",
      "\tComparing ./differential_peaks/01_pu1_25month_idr_peaks.txt (1601 total) and ./differential_peaks/01_pu1_25month_idr_peaks.txt (1601 total)\n",
      "\n",
      "./differential_peaks/01_pu1_25month_nfr_peaks.txt\t./differential_peaks/01_pu1_25month_idr_peaks.txt\tTotal\tName\n",
      "\tX\t592\t./differential_peaks/01_pu1_25month_idr_peaks.txt\n",
      "X\t\t1154\t./differential_peaks/01_pu1_25month_nfr_peaks.txt\n",
      "X\tX\t932\t./differential_peaks/01_pu1_25month_nfr_peaks.txt|./differential_peaks/01_pu1_25month_idr_peaks.txt\n"
     ]
    }
   ],
   "source": [
    "%%bash\n",
    "\n",
    "mergePeaks -prefix merge_peaks_output/homer_25month \\\n",
    "-matrix merge_peaks_output/homer_25month_overlap_matrix \\\n",
    "./differential_peaks/01_pu1_25month_nfr_peaks.txt \\\n",
    "./differential_peaks/01_pu1_25month_idr_peaks.txt \\"
   ]
  },
  {
   "cell_type": "code",
   "execution_count": 46,
   "metadata": {},
   "outputs": [
    {
     "data": {
      "image/png": "[encoded data removed]",
      "text/plain": [
       "<Figure size 576x288 with 1 Axes>"
      ]
     },
     "metadata": {},
     "output_type": "display_data"
    }
   ],
   "source": [
    "fig, ax = plt.subplots(figsize=(8,4))\n",
    "\n",
    "venn2(subsets={'10': 592,\n",
    "               '01': 1154,\n",
    "               '11': 932},\n",
    "      set_labels=('ATAC IDR Peaks',\n",
    "                  'Homer Nucleosome\\nFree Regions'),\n",
    "      ax=ax)\n",
    "\n",
    "ax.set_title('25 Month Microglia');"
   ]
  },
  {
   "cell_type": "markdown",
   "metadata": {},
   "source": [
    "It seems like HisTrader is better than HOMER at identifying proper NFRs but has a poor false + rate. Perhaps we could annotate the HisTrader peaks with H3K27Ac signal and see if filtering ones with low H3K27Ac signal lowers the false positive rate?"
   ]
  },
  {
   "cell_type": "code",
   "execution_count": null,
   "metadata": {},
   "outputs": [],
   "source": []
  }
 ],
 "metadata": {
  "kernelspec": {
   "display_name": "dataviz",
   "language": "python",
   "name": "dataviz"
  },
  "language_info": {
   "codemirror_mode": {
    "name": "ipython",
    "version": 3
   },
   "file_extension": ".py",
   "mimetype": "text/x-python",
   "name": "python",
   "nbconvert_exporter": "python",
   "pygments_lexer": "ipython3",
   "version": "3.7.5"
  }
 },
 "nbformat": 4,
 "nbformat_minor": 2
}
