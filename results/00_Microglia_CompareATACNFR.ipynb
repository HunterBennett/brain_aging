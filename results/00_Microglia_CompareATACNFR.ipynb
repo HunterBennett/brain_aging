{
 "cells": [
  {
   "cell_type": "markdown",
   "metadata": {},
   "source": [
    "Hunter Bennett | Glass Lab | Brain Aging Project | 12 Feb 2021  \n",
    "\n",
    "The goal of this notebook is to compare the nucleosome free regions called by HOMER and HisTrader to the nucleosome free regions defined by ATAC-seq. This will inform the analysis in other cell types and determine whether we can uce the H3K27Ac defined NFR regions for motif finding."
   ]
  },
  {
   "cell_type": "code",
   "execution_count": 3,
   "metadata": {},
   "outputs": [
    {
     "name": "stdout",
     "output_type": "stream",
     "text": [
      "The autoreload extension is already loaded. To reload it, use:\n",
      "  %reload_ext autoreload\n"
     ]
    }
   ],
   "source": [
    "### header ###\n",
    "__author__ = \"Hunter Bennett\"\n",
    "__license__ = \"BSD\"\n",
    "__email__ = \"hunter.r.bennett@gmail.com\"\n",
    "%load_ext autoreload\n",
    "%autoreload 2\n",
    "### imports ###\n",
    "import sys\n",
    "%matplotlib inline\n",
    "import os\n",
    "import re\n",
    "import glob\n",
    "import pandas as pd\n",
    "import numpy as np\n",
    "import matplotlib\n",
    "import matplotlib.pyplot as plt \n",
    "import seaborn as sns\n",
    "matplotlib.rcParams['savefig.dpi'] = 200\n",
    "sns.set(font_scale=1)\n",
    "sns.set_context('talk')\n",
    "sns.set_style('white')"
   ]
  },
  {
   "cell_type": "code",
   "execution_count": 4,
   "metadata": {},
   "outputs": [],
   "source": [
    "dataDirectory = '/data/mm10/Brain_MPSIIIA/ATAC/Microglia/'\n",
    "workingDirectory = '/home/h1bennet/brain_aging/results/00_Microglia_CompareATACNFR/'\n",
    "if not os.path.isdir(workingDirectory):\n",
    "    os.mkdir(workingDirectory)\n",
    "os.chdir(workingDirectory)"
   ]
  },
  {
   "cell_type": "markdown",
   "metadata": {},
   "source": [
    "# Copy in peak files from other analyses"
   ]
  },
  {
   "cell_type": "code",
   "execution_count": 5,
   "metadata": {},
   "outputs": [],
   "source": [
    "if not os.path.isdir('./peak_files'):\n",
    "    os.mkdir('./peak_files')"
   ]
  },
  {
   "cell_type": "markdown",
   "metadata": {},
   "source": [
    "### First copy in the NFR peaks"
   ]
  },
  {
   "cell_type": "code",
   "execution_count": null,
   "metadata": {},
   "outputs": [],
   "source": [
    "%%bash\n",
    "cp ../00_PU1_H3K27Ac_4month_vs_25month/merged_peaks/nfr_peaks_merged.txt \\\n",
    "./peak_files/"
   ]
  },
  {
   "cell_type": "markdown",
   "metadata": {},
   "source": [
    "### Next copy in the IDR peaks"
   ]
  },
  {
   "cell_type": "code",
   "execution_count": null,
   "metadata": {},
   "outputs": [],
   "source": [
    "%%bash\n",
    "cp ../00_Microglia_ATAC/merged_peaks/idr_peaks_merged.txt\n",
    "./peak_files/"
   ]
  },
  {
   "cell_type": "markdown",
   "metadata": {},
   "source": [
    "# Use homer mergePeaks to check for overlap"
   ]
  },
  {
   "cell_type": "code",
   "execution_count": 7,
   "metadata": {},
   "outputs": [
    {
     "name": "stderr",
     "output_type": "stream",
     "text": [
      "\tMax distance to merge: direct overlap required (-d given)\n",
      "\tMerging peaks... \n",
      "\tComparing idr_peaks_merged.txt (119988 total) and idr_peaks_merged.txt (119988 total)\n",
      "\tComparing idr_peaks_merged.txt (119988 total) and nfr_peaks_merged.txt (105306 total)\n",
      "\tComparing nfr_peaks_merged.txt (105306 total) and idr_peaks_merged.txt (119988 total)\n",
      "\tComparing nfr_peaks_merged.txt (105306 total) and nfr_peaks_merged.txt (105306 total)\n",
      "\n",
      "idr_peaks_merged.txt\tnfr_peaks_merged.txt\tTotal\tName\n",
      "\tX\t61683\tnfr_peaks_merged.txt\n",
      "X\t\t77918\tidr_peaks_merged.txt\n",
      "X\tX\t38516\tidr_peaks_merged.txt|nfr_peaks_merged.txt\n"
     ]
    }
   ],
   "source": [
    "%%bash\n",
    "\n",
    "cd ./peak_files/\n",
    "\n",
    "mergePeaks -prefix merge -matrix overlap_matrix \\\n",
    "idr_peaks_merged.txt nfr_peaks_merged.txt \\\n",
    "> idr_nfr_peaks_merged.txt"
   ]
  },
  {
   "cell_type": "markdown",
   "metadata": {},
   "source": [
    "The overlap here is pretty bad - only about 1/3 of the idr ATAC peaks overlap HOMER NFR peaks. This led us to go looking for other technologies to predict ATAC-seq peaks, we then found HisTrader!"
   ]
  },
  {
   "cell_type": "markdown",
   "metadata": {},
   "source": [
    "# Prep NFR predictions using HisTrader\n",
    "___\n",
    "Histrader requires two inputs to do NFR predictions:\n",
    "1. BedGraph style peak data.\n",
    "2. Bed file \"broadPeaks\" or homer -regions within which to perform NFR predictions.\n",
    "\n",
    "The easiest way to evaluate the NFR predictions in my view is to predict the NFR within differentially acetylated variable width regions as defined by HOMER, we can then compare those as well as the HOMER defined NFR to the ATAC-seq peaks as \"ground truth\""
   ]
  },
  {
   "cell_type": "markdown",
   "metadata": {},
   "source": [
    "## Generate bedGraphs using HOMER"
   ]
  },
  {
   "cell_type": "code",
   "execution_count": null,
   "metadata": {},
   "outputs": [],
   "source": [
    "if not os.path.isdir('./bedGraphs'):\n",
    "    os.mkdir('./bedGraphs')"
   ]
  },
  {
   "cell_type": "code",
   "execution_count": null,
   "metadata": {},
   "outputs": [],
   "source": [
    "%%bash\n",
    "\n",
    "makeUCSCfile ../00_Microglia_H3K27Ac/merged_tagdirs/00_all_microglia_H3K27Ac_4months/ \\\n",
    "-o ./bedGraphs/00_all_microglia_H3K27Ac_4months\n",
    "\n",
    "gunzip ./bedgraphs/00_all_microglia_H3K27Ac_4months.bedGraph.gz\n",
    "\n",
    "makeUCSCfile ../00_Microglia_H3K27Ac/merged_tagdirs/01_all_microglia_H3K27Ac_25months/ \\\n",
    "-o ./bedGraphs/01_all_microglia_H3K27Ac_25months\n",
    "\n",
    "gunzip ./bedgraphs/01_all_microglia_H3K27Ac_25months.bedGraph.gz"
   ]
  },
  {
   "cell_type": "markdown",
   "metadata": {},
   "source": [
    "## Copy over differentially acetylated regions (in bed format)"
   ]
  },
  {
   "cell_type": "code",
   "execution_count": 8,
   "metadata": {},
   "outputs": [],
   "source": [
    "if not os.path.isdir('./differential_bed'):\n",
    "    os.mkdir('./differential_bed')"
   ]
  },
  {
   "cell_type": "code",
   "execution_count": 9,
   "metadata": {},
   "outputs": [
    {
     "name": "stdout",
     "output_type": "stream",
     "text": [
      "00_pu1_4month_act_peaks.bed  01_pu1_25month_act_peaks.bed\r\n"
     ]
    }
   ],
   "source": [
    "!ls differential_bed/"
   ]
  },
  {
   "cell_type": "code",
   "execution_count": 12,
   "metadata": {},
   "outputs": [
    {
     "name": "stdout",
     "output_type": "stream",
     "text": [
      "00_pu1_4month_nfr_act_background.bed\r\n",
      "00_pu1_4month_nfr_act_background_distal.bed\r\n",
      "00_pu1_4month_nfr_act_peaks.bed\r\n",
      "00_pu1_4month_nfr_act_peaks_distal.bed\r\n",
      "00_pu1_4month_union_act_peaks.bed\r\n",
      "00_pu1_4month_union_act_peaks_distal.bed\r\n",
      "01_pu1_25month_nfr_act_background.bed\r\n",
      "01_pu1_25month_nfr_act_background_distal.bed\r\n",
      "01_pu1_25month_nfr_act_peaks.bed\r\n",
      "01_pu1_25month_nfr_act_peaks_distal.bed\r\n",
      "01_pu1_25month_union_act_peaks.bed\r\n",
      "01_pu1_25month_union_act_peaks_distal.bed\r\n",
      "fw_peaks_merged.bed\r\n",
      "nfr_peaks_merged.bed\r\n",
      "vw_peaks_merged.bed\r\n"
     ]
    }
   ],
   "source": [
    "ls ../00_PU1_H3K27Ac_4month_vs_25month/bed_files/"
   ]
  },
  {
   "cell_type": "code",
   "execution_count": 15,
   "metadata": {},
   "outputs": [],
   "source": [
    "%%bash\n",
    "\n",
    "cp ../00_PU1_H3K27Ac_4month_vs_25month/bed_files/00_pu1_4month_union_act_peaks.bed \\\n",
    "./differential_bed/00_pu1_4month_act_peaks.bed\n",
    "\n",
    "cp ../00_PU1_H3K27Ac_4month_vs_25month/bed_files/01_pu1_25month_union_act_peaks.bed \\\n",
    "./differential_bed/01_pu1_25month_act_peaks.bed"
   ]
  },
  {
   "cell_type": "markdown",
   "metadata": {},
   "source": [
    "## Run HisTrader"
   ]
  },
  {
   "cell_type": "code",
   "execution_count": 16,
   "metadata": {},
   "outputs": [
    {
     "name": "stdout",
     "output_type": "stream",
     "text": [
      "\n",
      "\n",
      "########################################################################################################\n",
      "##                                                                                                    ##\n",
      "##    HISTRADER: A tool to identify nucleosome free regions from ChIP-Seq of Histone Modifications    ##\n",
      "##                                                                                                    ##\n",
      "##                                                                                                    ##\n",
      "##                                Written by Yifei Yan and Swneke D. Bailey                           ##\n",
      "##                                   Copyright 2020 Swneke D. Bailey                                  ##\n",
      "##                                                                                                    ##\n",
      "########################################################################################################\n",
      "\n",
      "\n",
      "Identifying Valleys in ./bedGraphs/00_all_microglia_H3K27Ac_4months.bedGraph at positions specified in ./differential_bed/00_pu1_4month_act_peaks.bed\n",
      "\n",
      "Parameters Used:\n",
      "BedGraph File = ./bedGraphs/00_all_microglia_H3K27Ac_4months.bedGraph\n",
      "Peak File = ./differential_bed/00_pu1_4month_act_peaks.bed\n",
      "Output File Prefix = ./00_pu1_4month_act_histrader_test\n",
      "Genome File = NOT SPECIFIED\n",
      "Method Used = BOTH\n",
      "Step Used = 25\n",
      "Minimum Peak Size = 500\n",
      "Nucleosome Size = 150\n",
      "Trimming = NO\n",
      "Trim Size = NOT SPECIFIED\n",
      "Output BedGraph = NO\n",
      "Merge Distance = 75\n",
      "Bins Per Nucleosome = 6\n",
      "\n",
      "Output Filenames:\n",
      "Nucleosome Free Regions (NFRs) = ./00_pu1_4month_act_histrader_test.nfr.bed\n",
      "Nucleosome Occupied Regions = ./00_pu1_4month_act_histrader_test.nuc.bed\n",
      "No NFRs Detected = ./00_pu1_4month_act_histrader_test.missing.bed\n",
      "\n",
      "FINISHED!\n"
     ]
    }
   ],
   "source": [
    "%%bash\n",
    "\n",
    "perl ~/code/HisTrader/Histrader.pl \\\n",
    "--bedGraph ./bedGraphs/00_all_microglia_H3K27Ac_4months.bedGraph \\\n",
    "--peaks ./differential_bed/00_pu1_4month_act_peaks.bed \\\n",
    "--out ./00_pu1_4month_act_histrader\n",
    "\n",
    "mv ./00_pu1_4month_act_histrader* ./histrader/"
   ]
  },
  {
   "cell_type": "code",
   "execution_count": null,
   "metadata": {},
   "outputs": [],
   "source": [
    "%%bash\n",
    "\n",
    "perl ~/code/HisTrader/Histrader.pl \\\n",
    "--bedGraph ./bedGraphs/01_all_microglia_H3K27Ac_25months.bedGraph \\\n",
    "--peaks ./differential_bed/01_pu1_25month_act_peaks.bed \\\n",
    "--out ./01_pu1_25month_act_histrader\n",
    "\n",
    "mv ./01_pu1_25month_act_histrader* ./histrader/"
   ]
  },
  {
   "cell_type": "markdown",
   "metadata": {},
   "source": [
    "## TODO:\n",
    "1. Pull ATAC-seq peaks within these regions using bedtools\n",
    "2. Use merge peaks to compare NFR regions called by HOMER and HisTrader to ATAC-seq peaks.\n",
    "3. Visualize on browser."
   ]
  },
  {
   "cell_type": "code",
   "execution_count": null,
   "metadata": {},
   "outputs": [],
   "source": []
  }
 ],
 "metadata": {
  "kernelspec": {
   "display_name": "dataviz",
   "language": "python",
   "name": "dataviz"
  },
  "language_info": {
   "codemirror_mode": {
    "name": "ipython",
    "version": 3
   },
   "file_extension": ".py",
   "mimetype": "text/x-python",
   "name": "python",
   "nbconvert_exporter": "python",
   "pygments_lexer": "ipython3",
   "version": "3.7.5"
  }
 },
 "nbformat": 4,
 "nbformat_minor": 2
}
